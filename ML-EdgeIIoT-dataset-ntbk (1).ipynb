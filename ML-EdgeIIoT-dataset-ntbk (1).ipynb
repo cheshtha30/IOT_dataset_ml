{
 "cells": [
  {
   "cell_type": "markdown",
   "id": "ba37293e",
   "metadata": {},
   "source": [
    "# Logistic Regression"
   ]
  },
  {
   "cell_type": "code",
   "execution_count": 215,
   "id": "e4479b78",
   "metadata": {},
   "outputs": [],
   "source": [
    "import pandas as pd\n",
    "import numpy as np\n",
    "import matplotlib.pyplot as plt \n",
    "from sklearn.linear_model import LogisticRegression\n",
    "from sklearn.model_selection import train_test_split\n",
    "from sklearn.preprocessing import LabelEncoder, MinMaxScaler\n",
    "from sklearn.metrics import confusion_matrix, accuracy_score, f1_score, recall_score, precision_score, roc_curve, auc"
   ]
  },
  {
   "cell_type": "code",
   "execution_count": 2,
   "id": "92539128",
   "metadata": {},
   "outputs": [
    {
     "name": "stderr",
     "output_type": "stream",
     "text": [
      "C:\\Users\\Admin\\AppData\\Local\\Temp\\ipykernel_17244\\2195162693.py:1: DtypeWarning: Columns (3,6,11,13,14,15,16,17,31,32,34,39,45,51,54,55) have mixed types. Specify dtype option on import or set low_memory=False.\n",
      "  df = pd.read_csv('ML-EdgeIIoT-dataset.csv')\n"
     ]
    },
    {
     "data": {
      "text/html": [
       "<div>\n",
       "<style scoped>\n",
       "    .dataframe tbody tr th:only-of-type {\n",
       "        vertical-align: middle;\n",
       "    }\n",
       "\n",
       "    .dataframe tbody tr th {\n",
       "        vertical-align: top;\n",
       "    }\n",
       "\n",
       "    .dataframe thead th {\n",
       "        text-align: right;\n",
       "    }\n",
       "</style>\n",
       "<table border=\"1\" class=\"dataframe\">\n",
       "  <thead>\n",
       "    <tr style=\"text-align: right;\">\n",
       "      <th></th>\n",
       "      <th>frame.time</th>\n",
       "      <th>ip.src_host</th>\n",
       "      <th>ip.dst_host</th>\n",
       "      <th>arp.dst.proto_ipv4</th>\n",
       "      <th>arp.opcode</th>\n",
       "      <th>arp.hw.size</th>\n",
       "      <th>arp.src.proto_ipv4</th>\n",
       "      <th>icmp.checksum</th>\n",
       "      <th>icmp.seq_le</th>\n",
       "      <th>icmp.transmit_timestamp</th>\n",
       "      <th>...</th>\n",
       "      <th>mqtt.proto_len</th>\n",
       "      <th>mqtt.protoname</th>\n",
       "      <th>mqtt.topic</th>\n",
       "      <th>mqtt.topic_len</th>\n",
       "      <th>mqtt.ver</th>\n",
       "      <th>mbtcp.len</th>\n",
       "      <th>mbtcp.trans_id</th>\n",
       "      <th>mbtcp.unit_id</th>\n",
       "      <th>Attack_label</th>\n",
       "      <th>Attack_type</th>\n",
       "    </tr>\n",
       "  </thead>\n",
       "  <tbody>\n",
       "    <tr>\n",
       "      <th>0</th>\n",
       "      <td>6.0</td>\n",
       "      <td>192.168.0.152</td>\n",
       "      <td>0.0</td>\n",
       "      <td>0.0</td>\n",
       "      <td>0.0</td>\n",
       "      <td>0.0</td>\n",
       "      <td>0.0</td>\n",
       "      <td>0.0</td>\n",
       "      <td>0.0</td>\n",
       "      <td>0.0</td>\n",
       "      <td>...</td>\n",
       "      <td>0.0</td>\n",
       "      <td>0.0</td>\n",
       "      <td>0.0</td>\n",
       "      <td>0.0</td>\n",
       "      <td>0.0</td>\n",
       "      <td>0.0</td>\n",
       "      <td>0.0</td>\n",
       "      <td>0.0</td>\n",
       "      <td>1</td>\n",
       "      <td>MITM</td>\n",
       "    </tr>\n",
       "    <tr>\n",
       "      <th>1</th>\n",
       "      <td>6.0</td>\n",
       "      <td>192.168.0.101</td>\n",
       "      <td>0.0</td>\n",
       "      <td>0.0</td>\n",
       "      <td>0.0</td>\n",
       "      <td>0.0</td>\n",
       "      <td>0.0</td>\n",
       "      <td>0.0</td>\n",
       "      <td>0.0</td>\n",
       "      <td>0.0</td>\n",
       "      <td>...</td>\n",
       "      <td>0.0</td>\n",
       "      <td>0.0</td>\n",
       "      <td>0.0</td>\n",
       "      <td>0.0</td>\n",
       "      <td>0.0</td>\n",
       "      <td>0.0</td>\n",
       "      <td>0.0</td>\n",
       "      <td>0.0</td>\n",
       "      <td>1</td>\n",
       "      <td>MITM</td>\n",
       "    </tr>\n",
       "    <tr>\n",
       "      <th>2</th>\n",
       "      <td>6.0</td>\n",
       "      <td>192.168.0.152</td>\n",
       "      <td>0.0</td>\n",
       "      <td>0.0</td>\n",
       "      <td>0.0</td>\n",
       "      <td>0.0</td>\n",
       "      <td>0.0</td>\n",
       "      <td>0.0</td>\n",
       "      <td>0.0</td>\n",
       "      <td>0.0</td>\n",
       "      <td>...</td>\n",
       "      <td>0.0</td>\n",
       "      <td>0.0</td>\n",
       "      <td>0.0</td>\n",
       "      <td>0.0</td>\n",
       "      <td>0.0</td>\n",
       "      <td>0.0</td>\n",
       "      <td>0.0</td>\n",
       "      <td>0.0</td>\n",
       "      <td>1</td>\n",
       "      <td>MITM</td>\n",
       "    </tr>\n",
       "    <tr>\n",
       "      <th>3</th>\n",
       "      <td>6.0</td>\n",
       "      <td>192.168.0.101</td>\n",
       "      <td>0.0</td>\n",
       "      <td>0.0</td>\n",
       "      <td>0.0</td>\n",
       "      <td>0.0</td>\n",
       "      <td>0.0</td>\n",
       "      <td>0.0</td>\n",
       "      <td>0.0</td>\n",
       "      <td>0.0</td>\n",
       "      <td>...</td>\n",
       "      <td>0.0</td>\n",
       "      <td>0.0</td>\n",
       "      <td>0.0</td>\n",
       "      <td>0.0</td>\n",
       "      <td>0.0</td>\n",
       "      <td>0.0</td>\n",
       "      <td>0.0</td>\n",
       "      <td>0.0</td>\n",
       "      <td>1</td>\n",
       "      <td>MITM</td>\n",
       "    </tr>\n",
       "    <tr>\n",
       "      <th>4</th>\n",
       "      <td>6.0</td>\n",
       "      <td>192.168.0.152</td>\n",
       "      <td>0.0</td>\n",
       "      <td>0.0</td>\n",
       "      <td>0.0</td>\n",
       "      <td>0.0</td>\n",
       "      <td>0.0</td>\n",
       "      <td>0.0</td>\n",
       "      <td>0.0</td>\n",
       "      <td>0.0</td>\n",
       "      <td>...</td>\n",
       "      <td>0.0</td>\n",
       "      <td>0.0</td>\n",
       "      <td>0.0</td>\n",
       "      <td>0.0</td>\n",
       "      <td>0.0</td>\n",
       "      <td>0.0</td>\n",
       "      <td>0.0</td>\n",
       "      <td>0.0</td>\n",
       "      <td>1</td>\n",
       "      <td>MITM</td>\n",
       "    </tr>\n",
       "    <tr>\n",
       "      <th>...</th>\n",
       "      <td>...</td>\n",
       "      <td>...</td>\n",
       "      <td>...</td>\n",
       "      <td>...</td>\n",
       "      <td>...</td>\n",
       "      <td>...</td>\n",
       "      <td>...</td>\n",
       "      <td>...</td>\n",
       "      <td>...</td>\n",
       "      <td>...</td>\n",
       "      <td>...</td>\n",
       "      <td>...</td>\n",
       "      <td>...</td>\n",
       "      <td>...</td>\n",
       "      <td>...</td>\n",
       "      <td>...</td>\n",
       "      <td>...</td>\n",
       "      <td>...</td>\n",
       "      <td>...</td>\n",
       "      <td>...</td>\n",
       "      <td>...</td>\n",
       "    </tr>\n",
       "    <tr>\n",
       "      <th>157795</th>\n",
       "      <td>2021 23:24:32.698981000</td>\n",
       "      <td>193.152.82.43</td>\n",
       "      <td>192.168.0.128</td>\n",
       "      <td>0</td>\n",
       "      <td>0.0</td>\n",
       "      <td>0.0</td>\n",
       "      <td>0</td>\n",
       "      <td>48729.0</td>\n",
       "      <td>40690.0</td>\n",
       "      <td>0.0</td>\n",
       "      <td>...</td>\n",
       "      <td>0.0</td>\n",
       "      <td>0.0</td>\n",
       "      <td>0.0</td>\n",
       "      <td>0.0</td>\n",
       "      <td>0.0</td>\n",
       "      <td>0.0</td>\n",
       "      <td>0.0</td>\n",
       "      <td>0.0</td>\n",
       "      <td>1</td>\n",
       "      <td>DDoS_ICMP</td>\n",
       "    </tr>\n",
       "    <tr>\n",
       "      <th>157796</th>\n",
       "      <td>2021 23:24:32.699354000</td>\n",
       "      <td>253.52.1.213</td>\n",
       "      <td>192.168.0.128</td>\n",
       "      <td>0</td>\n",
       "      <td>0.0</td>\n",
       "      <td>0.0</td>\n",
       "      <td>0</td>\n",
       "      <td>45657.0</td>\n",
       "      <td>40702.0</td>\n",
       "      <td>0.0</td>\n",
       "      <td>...</td>\n",
       "      <td>0.0</td>\n",
       "      <td>0.0</td>\n",
       "      <td>0.0</td>\n",
       "      <td>0.0</td>\n",
       "      <td>0.0</td>\n",
       "      <td>0.0</td>\n",
       "      <td>0.0</td>\n",
       "      <td>0.0</td>\n",
       "      <td>1</td>\n",
       "      <td>DDoS_ICMP</td>\n",
       "    </tr>\n",
       "    <tr>\n",
       "      <th>157797</th>\n",
       "      <td>2021 23:24:32.719931000</td>\n",
       "      <td>107.155.221.49</td>\n",
       "      <td>192.168.0.128</td>\n",
       "      <td>0</td>\n",
       "      <td>0.0</td>\n",
       "      <td>0.0</td>\n",
       "      <td>0</td>\n",
       "      <td>57686.0</td>\n",
       "      <td>41423.0</td>\n",
       "      <td>0.0</td>\n",
       "      <td>...</td>\n",
       "      <td>0.0</td>\n",
       "      <td>0.0</td>\n",
       "      <td>0.0</td>\n",
       "      <td>0.0</td>\n",
       "      <td>0.0</td>\n",
       "      <td>0.0</td>\n",
       "      <td>0.0</td>\n",
       "      <td>0.0</td>\n",
       "      <td>1</td>\n",
       "      <td>DDoS_ICMP</td>\n",
       "    </tr>\n",
       "    <tr>\n",
       "      <th>157798</th>\n",
       "      <td>2021 23:24:32.752054000</td>\n",
       "      <td>77.242.58.228</td>\n",
       "      <td>192.168.0.128</td>\n",
       "      <td>0</td>\n",
       "      <td>0.0</td>\n",
       "      <td>0.0</td>\n",
       "      <td>0</td>\n",
       "      <td>9555.0</td>\n",
       "      <td>42379.0</td>\n",
       "      <td>0.0</td>\n",
       "      <td>...</td>\n",
       "      <td>0.0</td>\n",
       "      <td>0.0</td>\n",
       "      <td>0.0</td>\n",
       "      <td>0.0</td>\n",
       "      <td>0.0</td>\n",
       "      <td>0.0</td>\n",
       "      <td>0.0</td>\n",
       "      <td>0.0</td>\n",
       "      <td>1</td>\n",
       "      <td>DDoS_ICMP</td>\n",
       "    </tr>\n",
       "    <tr>\n",
       "      <th>157799</th>\n",
       "      <td>2021 23:24:32.780376000</td>\n",
       "      <td>149.40.90.151</td>\n",
       "      <td>192.168.0.128</td>\n",
       "      <td>0</td>\n",
       "      <td>0.0</td>\n",
       "      <td>0.0</td>\n",
       "      <td>0</td>\n",
       "      <td>35144.0</td>\n",
       "      <td>45095.0</td>\n",
       "      <td>0.0</td>\n",
       "      <td>...</td>\n",
       "      <td>0.0</td>\n",
       "      <td>0.0</td>\n",
       "      <td>0.0</td>\n",
       "      <td>0.0</td>\n",
       "      <td>0.0</td>\n",
       "      <td>0.0</td>\n",
       "      <td>0.0</td>\n",
       "      <td>0.0</td>\n",
       "      <td>1</td>\n",
       "      <td>DDoS_ICMP</td>\n",
       "    </tr>\n",
       "  </tbody>\n",
       "</table>\n",
       "<p>157800 rows × 63 columns</p>\n",
       "</div>"
      ],
      "text/plain": [
       "                       frame.time     ip.src_host    ip.dst_host  \\\n",
       "0                             6.0   192.168.0.152            0.0   \n",
       "1                             6.0   192.168.0.101            0.0   \n",
       "2                             6.0   192.168.0.152            0.0   \n",
       "3                             6.0   192.168.0.101            0.0   \n",
       "4                             6.0   192.168.0.152            0.0   \n",
       "...                           ...             ...            ...   \n",
       "157795   2021 23:24:32.698981000    193.152.82.43  192.168.0.128   \n",
       "157796   2021 23:24:32.699354000     253.52.1.213  192.168.0.128   \n",
       "157797   2021 23:24:32.719931000   107.155.221.49  192.168.0.128   \n",
       "157798   2021 23:24:32.752054000    77.242.58.228  192.168.0.128   \n",
       "157799   2021 23:24:32.780376000    149.40.90.151  192.168.0.128   \n",
       "\n",
       "       arp.dst.proto_ipv4  arp.opcode  arp.hw.size arp.src.proto_ipv4  \\\n",
       "0                     0.0         0.0          0.0                0.0   \n",
       "1                     0.0         0.0          0.0                0.0   \n",
       "2                     0.0         0.0          0.0                0.0   \n",
       "3                     0.0         0.0          0.0                0.0   \n",
       "4                     0.0         0.0          0.0                0.0   \n",
       "...                   ...         ...          ...                ...   \n",
       "157795                  0         0.0          0.0                  0   \n",
       "157796                  0         0.0          0.0                  0   \n",
       "157797                  0         0.0          0.0                  0   \n",
       "157798                  0         0.0          0.0                  0   \n",
       "157799                  0         0.0          0.0                  0   \n",
       "\n",
       "        icmp.checksum  icmp.seq_le  icmp.transmit_timestamp  ...  \\\n",
       "0                 0.0          0.0                      0.0  ...   \n",
       "1                 0.0          0.0                      0.0  ...   \n",
       "2                 0.0          0.0                      0.0  ...   \n",
       "3                 0.0          0.0                      0.0  ...   \n",
       "4                 0.0          0.0                      0.0  ...   \n",
       "...               ...          ...                      ...  ...   \n",
       "157795        48729.0      40690.0                      0.0  ...   \n",
       "157796        45657.0      40702.0                      0.0  ...   \n",
       "157797        57686.0      41423.0                      0.0  ...   \n",
       "157798         9555.0      42379.0                      0.0  ...   \n",
       "157799        35144.0      45095.0                      0.0  ...   \n",
       "\n",
       "        mqtt.proto_len mqtt.protoname  mqtt.topic mqtt.topic_len mqtt.ver  \\\n",
       "0                  0.0            0.0         0.0            0.0      0.0   \n",
       "1                  0.0            0.0         0.0            0.0      0.0   \n",
       "2                  0.0            0.0         0.0            0.0      0.0   \n",
       "3                  0.0            0.0         0.0            0.0      0.0   \n",
       "4                  0.0            0.0         0.0            0.0      0.0   \n",
       "...                ...            ...         ...            ...      ...   \n",
       "157795             0.0            0.0         0.0            0.0      0.0   \n",
       "157796             0.0            0.0         0.0            0.0      0.0   \n",
       "157797             0.0            0.0         0.0            0.0      0.0   \n",
       "157798             0.0            0.0         0.0            0.0      0.0   \n",
       "157799             0.0            0.0         0.0            0.0      0.0   \n",
       "\n",
       "       mbtcp.len mbtcp.trans_id mbtcp.unit_id  Attack_label  Attack_type  \n",
       "0            0.0            0.0           0.0             1         MITM  \n",
       "1            0.0            0.0           0.0             1         MITM  \n",
       "2            0.0            0.0           0.0             1         MITM  \n",
       "3            0.0            0.0           0.0             1         MITM  \n",
       "4            0.0            0.0           0.0             1         MITM  \n",
       "...          ...            ...           ...           ...          ...  \n",
       "157795       0.0            0.0           0.0             1    DDoS_ICMP  \n",
       "157796       0.0            0.0           0.0             1    DDoS_ICMP  \n",
       "157797       0.0            0.0           0.0             1    DDoS_ICMP  \n",
       "157798       0.0            0.0           0.0             1    DDoS_ICMP  \n",
       "157799       0.0            0.0           0.0             1    DDoS_ICMP  \n",
       "\n",
       "[157800 rows x 63 columns]"
      ]
     },
     "execution_count": 2,
     "metadata": {},
     "output_type": "execute_result"
    }
   ],
   "source": [
    "df = pd.read_csv('ML-EdgeIIoT-dataset.csv')\n",
    "df"
   ]
  },
  {
   "cell_type": "code",
   "execution_count": 3,
   "id": "ccc38d1d",
   "metadata": {},
   "outputs": [
    {
     "name": "stdout",
     "output_type": "stream",
     "text": [
      "<class 'pandas.core.frame.DataFrame'>\n",
      "RangeIndex: 157800 entries, 0 to 157799\n",
      "Data columns (total 63 columns):\n",
      " #   Column                     Non-Null Count   Dtype  \n",
      "---  ------                     --------------   -----  \n",
      " 0   frame.time                 157800 non-null  object \n",
      " 1   ip.src_host                157800 non-null  object \n",
      " 2   ip.dst_host                157800 non-null  object \n",
      " 3   arp.dst.proto_ipv4         157800 non-null  object \n",
      " 4   arp.opcode                 157800 non-null  float64\n",
      " 5   arp.hw.size                157800 non-null  float64\n",
      " 6   arp.src.proto_ipv4         157800 non-null  object \n",
      " 7   icmp.checksum              157800 non-null  float64\n",
      " 8   icmp.seq_le                157800 non-null  float64\n",
      " 9   icmp.transmit_timestamp    157800 non-null  float64\n",
      " 10  icmp.unused                157800 non-null  float64\n",
      " 11  http.file_data             157800 non-null  object \n",
      " 12  http.content_length        157800 non-null  float64\n",
      " 13  http.request.uri.query     157800 non-null  object \n",
      " 14  http.request.method        157800 non-null  object \n",
      " 15  http.referer               157800 non-null  object \n",
      " 16  http.request.full_uri      157800 non-null  object \n",
      " 17  http.request.version       157800 non-null  object \n",
      " 18  http.response              157800 non-null  float64\n",
      " 19  http.tls_port              157800 non-null  float64\n",
      " 20  tcp.ack                    157800 non-null  float64\n",
      " 21  tcp.ack_raw                157800 non-null  float64\n",
      " 22  tcp.checksum               157800 non-null  float64\n",
      " 23  tcp.connection.fin         157800 non-null  float64\n",
      " 24  tcp.connection.rst         157800 non-null  float64\n",
      " 25  tcp.connection.syn         157800 non-null  float64\n",
      " 26  tcp.connection.synack      157800 non-null  float64\n",
      " 27  tcp.dstport                157800 non-null  float64\n",
      " 28  tcp.flags                  157800 non-null  float64\n",
      " 29  tcp.flags.ack              157800 non-null  float64\n",
      " 30  tcp.len                    157800 non-null  float64\n",
      " 31  tcp.options                157800 non-null  object \n",
      " 32  tcp.payload                157800 non-null  object \n",
      " 33  tcp.seq                    157800 non-null  float64\n",
      " 34  tcp.srcport                157800 non-null  object \n",
      " 35  udp.port                   157800 non-null  float64\n",
      " 36  udp.stream                 157800 non-null  float64\n",
      " 37  udp.time_delta             157800 non-null  float64\n",
      " 38  dns.qry.name               157800 non-null  float64\n",
      " 39  dns.qry.name.len           157800 non-null  object \n",
      " 40  dns.qry.qu                 157800 non-null  float64\n",
      " 41  dns.qry.type               157800 non-null  float64\n",
      " 42  dns.retransmission         157800 non-null  float64\n",
      " 43  dns.retransmit_request     157800 non-null  float64\n",
      " 44  dns.retransmit_request_in  157800 non-null  float64\n",
      " 45  mqtt.conack.flags          157800 non-null  object \n",
      " 46  mqtt.conflag.cleansess     157800 non-null  float64\n",
      " 47  mqtt.conflags              157800 non-null  float64\n",
      " 48  mqtt.hdrflags              157800 non-null  float64\n",
      " 49  mqtt.len                   157800 non-null  float64\n",
      " 50  mqtt.msg_decoded_as        157800 non-null  float64\n",
      " 51  mqtt.msg                   157800 non-null  object \n",
      " 52  mqtt.msgtype               157800 non-null  float64\n",
      " 53  mqtt.proto_len             157800 non-null  float64\n",
      " 54  mqtt.protoname             157800 non-null  object \n",
      " 55  mqtt.topic                 157800 non-null  object \n",
      " 56  mqtt.topic_len             157800 non-null  float64\n",
      " 57  mqtt.ver                   157800 non-null  float64\n",
      " 58  mbtcp.len                  157800 non-null  float64\n",
      " 59  mbtcp.trans_id             157800 non-null  float64\n",
      " 60  mbtcp.unit_id              157800 non-null  float64\n",
      " 61  Attack_label               157800 non-null  int64  \n",
      " 62  Attack_type                157800 non-null  object \n",
      "dtypes: float64(42), int64(1), object(20)\n",
      "memory usage: 75.8+ MB\n"
     ]
    }
   ],
   "source": [
    "df.info()"
   ]
  },
  {
   "cell_type": "code",
   "execution_count": 4,
   "id": "426ae06b",
   "metadata": {},
   "outputs": [
    {
     "data": {
      "text/html": [
       "<div>\n",
       "<style scoped>\n",
       "    .dataframe tbody tr th:only-of-type {\n",
       "        vertical-align: middle;\n",
       "    }\n",
       "\n",
       "    .dataframe tbody tr th {\n",
       "        vertical-align: top;\n",
       "    }\n",
       "\n",
       "    .dataframe thead th {\n",
       "        text-align: right;\n",
       "    }\n",
       "</style>\n",
       "<table border=\"1\" class=\"dataframe\">\n",
       "  <thead>\n",
       "    <tr style=\"text-align: right;\">\n",
       "      <th></th>\n",
       "      <th>arp.opcode</th>\n",
       "      <th>arp.hw.size</th>\n",
       "      <th>icmp.checksum</th>\n",
       "      <th>icmp.seq_le</th>\n",
       "      <th>icmp.transmit_timestamp</th>\n",
       "      <th>icmp.unused</th>\n",
       "      <th>http.content_length</th>\n",
       "      <th>http.response</th>\n",
       "      <th>http.tls_port</th>\n",
       "      <th>tcp.ack</th>\n",
       "      <th>...</th>\n",
       "      <th>mqtt.len</th>\n",
       "      <th>mqtt.msg_decoded_as</th>\n",
       "      <th>mqtt.msgtype</th>\n",
       "      <th>mqtt.proto_len</th>\n",
       "      <th>mqtt.topic_len</th>\n",
       "      <th>mqtt.ver</th>\n",
       "      <th>mbtcp.len</th>\n",
       "      <th>mbtcp.trans_id</th>\n",
       "      <th>mbtcp.unit_id</th>\n",
       "      <th>Attack_label</th>\n",
       "    </tr>\n",
       "  </thead>\n",
       "  <tbody>\n",
       "    <tr>\n",
       "      <th>count</th>\n",
       "      <td>157800.000000</td>\n",
       "      <td>157800.000000</td>\n",
       "      <td>157800.000000</td>\n",
       "      <td>157800.000000</td>\n",
       "      <td>1.578000e+05</td>\n",
       "      <td>157800.0</td>\n",
       "      <td>157800.000000</td>\n",
       "      <td>157800.000000</td>\n",
       "      <td>157800.0</td>\n",
       "      <td>1.578000e+05</td>\n",
       "      <td>...</td>\n",
       "      <td>157800.000000</td>\n",
       "      <td>157800.0</td>\n",
       "      <td>157800.000000</td>\n",
       "      <td>157800.000000</td>\n",
       "      <td>157800.000000</td>\n",
       "      <td>157800.000000</td>\n",
       "      <td>157800.0</td>\n",
       "      <td>157800.0</td>\n",
       "      <td>157800.0</td>\n",
       "      <td>157800.000000</td>\n",
       "    </tr>\n",
       "    <tr>\n",
       "      <th>mean</th>\n",
       "      <td>0.014195</td>\n",
       "      <td>0.059848</td>\n",
       "      <td>3047.291838</td>\n",
       "      <td>3239.979778</td>\n",
       "      <td>4.046816e+04</td>\n",
       "      <td>0.0</td>\n",
       "      <td>14.715520</td>\n",
       "      <td>0.045748</td>\n",
       "      <td>0.0</td>\n",
       "      <td>7.160039e+07</td>\n",
       "      <td>...</td>\n",
       "      <td>0.419341</td>\n",
       "      <td>0.0</td>\n",
       "      <td>0.161331</td>\n",
       "      <td>0.031686</td>\n",
       "      <td>0.189506</td>\n",
       "      <td>0.031686</td>\n",
       "      <td>0.0</td>\n",
       "      <td>0.0</td>\n",
       "      <td>0.0</td>\n",
       "      <td>0.846001</td>\n",
       "    </tr>\n",
       "    <tr>\n",
       "      <th>std</th>\n",
       "      <td>0.149783</td>\n",
       "      <td>0.596245</td>\n",
       "      <td>11144.328203</td>\n",
       "      <td>11406.072994</td>\n",
       "      <td>1.764075e+06</td>\n",
       "      <td>0.0</td>\n",
       "      <td>229.659671</td>\n",
       "      <td>0.208938</td>\n",
       "      <td>0.0</td>\n",
       "      <td>3.101231e+08</td>\n",
       "      <td>...</td>\n",
       "      <td>3.606594</td>\n",
       "      <td>0.0</td>\n",
       "      <td>1.293453</td>\n",
       "      <td>0.354598</td>\n",
       "      <td>2.124206</td>\n",
       "      <td>0.354598</td>\n",
       "      <td>0.0</td>\n",
       "      <td>0.0</td>\n",
       "      <td>0.0</td>\n",
       "      <td>0.360949</td>\n",
       "    </tr>\n",
       "    <tr>\n",
       "      <th>min</th>\n",
       "      <td>0.000000</td>\n",
       "      <td>0.000000</td>\n",
       "      <td>0.000000</td>\n",
       "      <td>0.000000</td>\n",
       "      <td>0.000000e+00</td>\n",
       "      <td>0.0</td>\n",
       "      <td>0.000000</td>\n",
       "      <td>0.000000</td>\n",
       "      <td>0.0</td>\n",
       "      <td>0.000000e+00</td>\n",
       "      <td>...</td>\n",
       "      <td>0.000000</td>\n",
       "      <td>0.0</td>\n",
       "      <td>0.000000</td>\n",
       "      <td>0.000000</td>\n",
       "      <td>0.000000</td>\n",
       "      <td>0.000000</td>\n",
       "      <td>0.0</td>\n",
       "      <td>0.0</td>\n",
       "      <td>0.0</td>\n",
       "      <td>0.000000</td>\n",
       "    </tr>\n",
       "    <tr>\n",
       "      <th>25%</th>\n",
       "      <td>0.000000</td>\n",
       "      <td>0.000000</td>\n",
       "      <td>0.000000</td>\n",
       "      <td>0.000000</td>\n",
       "      <td>0.000000e+00</td>\n",
       "      <td>0.0</td>\n",
       "      <td>0.000000</td>\n",
       "      <td>0.000000</td>\n",
       "      <td>0.0</td>\n",
       "      <td>0.000000e+00</td>\n",
       "      <td>...</td>\n",
       "      <td>0.000000</td>\n",
       "      <td>0.0</td>\n",
       "      <td>0.000000</td>\n",
       "      <td>0.000000</td>\n",
       "      <td>0.000000</td>\n",
       "      <td>0.000000</td>\n",
       "      <td>0.0</td>\n",
       "      <td>0.0</td>\n",
       "      <td>0.0</td>\n",
       "      <td>1.000000</td>\n",
       "    </tr>\n",
       "    <tr>\n",
       "      <th>50%</th>\n",
       "      <td>0.000000</td>\n",
       "      <td>0.000000</td>\n",
       "      <td>0.000000</td>\n",
       "      <td>0.000000</td>\n",
       "      <td>0.000000e+00</td>\n",
       "      <td>0.0</td>\n",
       "      <td>0.000000</td>\n",
       "      <td>0.000000</td>\n",
       "      <td>0.0</td>\n",
       "      <td>1.000000e+00</td>\n",
       "      <td>...</td>\n",
       "      <td>0.000000</td>\n",
       "      <td>0.0</td>\n",
       "      <td>0.000000</td>\n",
       "      <td>0.000000</td>\n",
       "      <td>0.000000</td>\n",
       "      <td>0.000000</td>\n",
       "      <td>0.0</td>\n",
       "      <td>0.0</td>\n",
       "      <td>0.0</td>\n",
       "      <td>1.000000</td>\n",
       "    </tr>\n",
       "    <tr>\n",
       "      <th>75%</th>\n",
       "      <td>0.000000</td>\n",
       "      <td>0.000000</td>\n",
       "      <td>0.000000</td>\n",
       "      <td>0.000000</td>\n",
       "      <td>0.000000e+00</td>\n",
       "      <td>0.0</td>\n",
       "      <td>0.000000</td>\n",
       "      <td>0.000000</td>\n",
       "      <td>0.0</td>\n",
       "      <td>4.790000e+02</td>\n",
       "      <td>...</td>\n",
       "      <td>0.000000</td>\n",
       "      <td>0.0</td>\n",
       "      <td>0.000000</td>\n",
       "      <td>0.000000</td>\n",
       "      <td>0.000000</td>\n",
       "      <td>0.000000</td>\n",
       "      <td>0.0</td>\n",
       "      <td>0.0</td>\n",
       "      <td>0.0</td>\n",
       "      <td>1.000000</td>\n",
       "    </tr>\n",
       "    <tr>\n",
       "      <th>max</th>\n",
       "      <td>2.000000</td>\n",
       "      <td>6.000000</td>\n",
       "      <td>65532.000000</td>\n",
       "      <td>65524.000000</td>\n",
       "      <td>7.728902e+07</td>\n",
       "      <td>0.0</td>\n",
       "      <td>83655.000000</td>\n",
       "      <td>1.000000</td>\n",
       "      <td>0.0</td>\n",
       "      <td>2.147333e+09</td>\n",
       "      <td>...</td>\n",
       "      <td>39.000000</td>\n",
       "      <td>0.0</td>\n",
       "      <td>14.000000</td>\n",
       "      <td>4.000000</td>\n",
       "      <td>24.000000</td>\n",
       "      <td>4.000000</td>\n",
       "      <td>0.0</td>\n",
       "      <td>0.0</td>\n",
       "      <td>0.0</td>\n",
       "      <td>1.000000</td>\n",
       "    </tr>\n",
       "  </tbody>\n",
       "</table>\n",
       "<p>8 rows × 43 columns</p>\n",
       "</div>"
      ],
      "text/plain": [
       "          arp.opcode    arp.hw.size  icmp.checksum    icmp.seq_le  \\\n",
       "count  157800.000000  157800.000000  157800.000000  157800.000000   \n",
       "mean        0.014195       0.059848    3047.291838    3239.979778   \n",
       "std         0.149783       0.596245   11144.328203   11406.072994   \n",
       "min         0.000000       0.000000       0.000000       0.000000   \n",
       "25%         0.000000       0.000000       0.000000       0.000000   \n",
       "50%         0.000000       0.000000       0.000000       0.000000   \n",
       "75%         0.000000       0.000000       0.000000       0.000000   \n",
       "max         2.000000       6.000000   65532.000000   65524.000000   \n",
       "\n",
       "       icmp.transmit_timestamp  icmp.unused  http.content_length  \\\n",
       "count             1.578000e+05     157800.0        157800.000000   \n",
       "mean              4.046816e+04          0.0            14.715520   \n",
       "std               1.764075e+06          0.0           229.659671   \n",
       "min               0.000000e+00          0.0             0.000000   \n",
       "25%               0.000000e+00          0.0             0.000000   \n",
       "50%               0.000000e+00          0.0             0.000000   \n",
       "75%               0.000000e+00          0.0             0.000000   \n",
       "max               7.728902e+07          0.0         83655.000000   \n",
       "\n",
       "       http.response  http.tls_port       tcp.ack  ...       mqtt.len  \\\n",
       "count  157800.000000       157800.0  1.578000e+05  ...  157800.000000   \n",
       "mean        0.045748            0.0  7.160039e+07  ...       0.419341   \n",
       "std         0.208938            0.0  3.101231e+08  ...       3.606594   \n",
       "min         0.000000            0.0  0.000000e+00  ...       0.000000   \n",
       "25%         0.000000            0.0  0.000000e+00  ...       0.000000   \n",
       "50%         0.000000            0.0  1.000000e+00  ...       0.000000   \n",
       "75%         0.000000            0.0  4.790000e+02  ...       0.000000   \n",
       "max         1.000000            0.0  2.147333e+09  ...      39.000000   \n",
       "\n",
       "       mqtt.msg_decoded_as   mqtt.msgtype  mqtt.proto_len  mqtt.topic_len  \\\n",
       "count             157800.0  157800.000000   157800.000000   157800.000000   \n",
       "mean                   0.0       0.161331        0.031686        0.189506   \n",
       "std                    0.0       1.293453        0.354598        2.124206   \n",
       "min                    0.0       0.000000        0.000000        0.000000   \n",
       "25%                    0.0       0.000000        0.000000        0.000000   \n",
       "50%                    0.0       0.000000        0.000000        0.000000   \n",
       "75%                    0.0       0.000000        0.000000        0.000000   \n",
       "max                    0.0      14.000000        4.000000       24.000000   \n",
       "\n",
       "            mqtt.ver  mbtcp.len  mbtcp.trans_id  mbtcp.unit_id   Attack_label  \n",
       "count  157800.000000   157800.0        157800.0       157800.0  157800.000000  \n",
       "mean        0.031686        0.0             0.0            0.0       0.846001  \n",
       "std         0.354598        0.0             0.0            0.0       0.360949  \n",
       "min         0.000000        0.0             0.0            0.0       0.000000  \n",
       "25%         0.000000        0.0             0.0            0.0       1.000000  \n",
       "50%         0.000000        0.0             0.0            0.0       1.000000  \n",
       "75%         0.000000        0.0             0.0            0.0       1.000000  \n",
       "max         4.000000        0.0             0.0            0.0       1.000000  \n",
       "\n",
       "[8 rows x 43 columns]"
      ]
     },
     "execution_count": 4,
     "metadata": {},
     "output_type": "execute_result"
    }
   ],
   "source": [
    "df.describe()"
   ]
  },
  {
   "cell_type": "code",
   "execution_count": 5,
   "id": "3730928c",
   "metadata": {},
   "outputs": [],
   "source": [
    "df['frame.time'] = pd.to_datetime(df['frame.time'], errors='coerce')\n"
   ]
  },
  {
   "cell_type": "code",
   "execution_count": 6,
   "id": "858b3b1b",
   "metadata": {},
   "outputs": [],
   "source": [
    "df['hour'] = df['frame.time'].dt.hour\n",
    "df['day'] = df['frame.time'].dt.day\n",
    "df['month'] = df['frame.time'].dt.month\n",
    "df['year'] = df['frame.time'].dt.year\n"
   ]
  },
  {
   "cell_type": "code",
   "execution_count": 7,
   "id": "5512b180",
   "metadata": {},
   "outputs": [],
   "source": [
    "df.fillna(0, inplace=True)"
   ]
  },
  {
   "cell_type": "code",
   "execution_count": 8,
   "id": "7cdc875d",
   "metadata": {},
   "outputs": [],
   "source": [
    "encoder = LabelEncoder()\n",
    "df['Attack_label_encoded'] = encoder.fit_transform(df['Attack_label'])\n"
   ]
  },
  {
   "cell_type": "code",
   "execution_count": 9,
   "id": "33b68ee6",
   "metadata": {},
   "outputs": [],
   "source": [
    "X = df[['hour', 'day', 'month', 'year']]\n",
    "y = df['Attack_label_encoded']\n"
   ]
  },
  {
   "cell_type": "code",
   "execution_count": 10,
   "id": "16313ce1",
   "metadata": {},
   "outputs": [],
   "source": [
    "scaler = MinMaxScaler()\n",
    "X_scaled = scaler.fit_transform(X)\n"
   ]
  },
  {
   "cell_type": "code",
   "execution_count": 11,
   "id": "bd4cab0d",
   "metadata": {},
   "outputs": [],
   "source": [
    "X_train, X_test, y_train, y_test = train_test_split(X_scaled, y, test_size=0.2, random_state=42)\n"
   ]
  },
  {
   "cell_type": "code",
   "execution_count": 12,
   "id": "de10c111",
   "metadata": {},
   "outputs": [],
   "source": [
    "model = LogisticRegression()\n"
   ]
  },
  {
   "cell_type": "code",
   "execution_count": 13,
   "id": "6955dde6",
   "metadata": {},
   "outputs": [
    {
     "data": {
      "text/plain": [
       "LogisticRegression()"
      ]
     },
     "execution_count": 13,
     "metadata": {},
     "output_type": "execute_result"
    }
   ],
   "source": [
    "model.fit(X_train, y_train)\n"
   ]
  },
  {
   "cell_type": "code",
   "execution_count": 14,
   "id": "793552ee",
   "metadata": {},
   "outputs": [],
   "source": [
    "y_pred = model.predict(X_test)\n"
   ]
  },
  {
   "cell_type": "code",
   "execution_count": 15,
   "id": "4abe1c32",
   "metadata": {},
   "outputs": [
    {
     "name": "stdout",
     "output_type": "stream",
     "text": [
      "Accuracy: 0.8420468948035488\n"
     ]
    }
   ],
   "source": [
    "accuracy = model.score(X_test, y_test)\n",
    "print(\"Accuracy:\", accuracy)\n"
   ]
  },
  {
   "cell_type": "code",
   "execution_count": 16,
   "id": "eddcb48e",
   "metadata": {},
   "outputs": [
    {
     "name": "stdout",
     "output_type": "stream",
     "text": [
      "Confusion Matrix:\n",
      "[[    0  4985]\n",
      " [    0 26575]]\n"
     ]
    }
   ],
   "source": [
    "cm = confusion_matrix(y_test, y_pred)\n",
    "print(\"Confusion Matrix:\")\n",
    "print(cm)\n"
   ]
  },
  {
   "cell_type": "code",
   "execution_count": 17,
   "id": "0c8372a8",
   "metadata": {},
   "outputs": [
    {
     "name": "stdout",
     "output_type": "stream",
     "text": [
      "F1-score: 0.9142513116023049\n"
     ]
    }
   ],
   "source": [
    "f1 = f1_score(y_test, y_pred)\n",
    "print(\"F1-score:\", f1)\n"
   ]
  },
  {
   "cell_type": "code",
   "execution_count": 18,
   "id": "5c891fb0",
   "metadata": {},
   "outputs": [
    {
     "name": "stdout",
     "output_type": "stream",
     "text": [
      "Recall: 1.0\n"
     ]
    }
   ],
   "source": [
    "recall = recall_score(y_test, y_pred)\n",
    "print(\"Recall:\", recall)\n"
   ]
  },
  {
   "cell_type": "code",
   "execution_count": 19,
   "id": "b8a91637",
   "metadata": {},
   "outputs": [
    {
     "name": "stdout",
     "output_type": "stream",
     "text": [
      "Precision: 0.8420468948035488\n"
     ]
    }
   ],
   "source": [
    "precision = precision_score(y_test, y_pred)\n",
    "print(\"Precision:\", precision)\n"
   ]
  },
  {
   "cell_type": "code",
   "execution_count": 20,
   "id": "ef5c0075",
   "metadata": {},
   "outputs": [],
   "source": [
    "fpr, tpr, thresholds = roc_curve(y_test, y_pred)\n",
    "roc_auc = auc(fpr, tpr)"
   ]
  },
  {
   "cell_type": "code",
   "execution_count": 21,
   "id": "7537fc79",
   "metadata": {},
   "outputs": [
    {
     "data": {
      "text/plain": [
       "<Figure size 640x480 with 0 Axes>"
      ]
     },
     "execution_count": 21,
     "metadata": {},
     "output_type": "execute_result"
    },
    {
     "data": {
      "text/plain": [
       "<Figure size 640x480 with 0 Axes>"
      ]
     },
     "metadata": {},
     "output_type": "display_data"
    }
   ],
   "source": [
    "plt.figure()"
   ]
  },
  {
   "cell_type": "code",
   "execution_count": 22,
   "id": "f968ff38",
   "metadata": {},
   "outputs": [
    {
     "data": {
      "image/png": "[encoded data removed]",
      "text/plain": [
       "<Figure size 640x480 with 1 Axes>"
      ]
     },
     "metadata": {},
     "output_type": "display_data"
    }
   ],
   "source": [
    "plt.plot(fpr, tpr,color='red',lw=2, label='ROC curve (area = %0.2f)' % roc_auc)\n",
    "plt.plot([0, 1], [0, 1], color='navy', lw=2, linestyle='--')\n",
    "plt.xlim([0.0, 1.0])\n",
    "plt.ylim([0.0, 1.05])\n",
    "plt.xlabel('False Positive Rate')\n",
    "plt.ylabel('True Positive Rate')\n",
    "plt.title('Receiver Operating Characteristic')\n",
    "plt.legend(loc=\"lower right\")\n",
    "plt.show()"
   ]
  },
  {
   "cell_type": "markdown",
   "id": "4a2dc187",
   "metadata": {},
   "source": [
    "# NAIVE BAYES"
   ]
  },
  {
   "cell_type": "code",
   "execution_count": 23,
   "id": "dac27630",
   "metadata": {},
   "outputs": [],
   "source": [
    "\n",
    "import pandas as pd\n",
    "import numpy as np\n",
    "import matplotlib.pyplot as plt \n",
    "from sklearn.naive_bayes import GaussianNB\n",
    "from sklearn.model_selection import train_test_split\n",
    "from sklearn.preprocessing import LabelEncoder, MinMaxScaler\n",
    "from sklearn.metrics import confusion_matrix, accuracy_score, f1_score, recall_score, precision_score, roc_curve, auc\n"
   ]
  },
  {
   "cell_type": "code",
   "execution_count": 24,
   "id": "d2581106",
   "metadata": {},
   "outputs": [
    {
     "name": "stderr",
     "output_type": "stream",
     "text": [
      "C:\\Users\\Admin\\AppData\\Local\\Temp\\ipykernel_17244\\3144464662.py:1: DtypeWarning: Columns (3,6,11,13,14,15,16,17,31,32,34,39,45,51,54,55) have mixed types. Specify dtype option on import or set low_memory=False.\n",
      "  df1 = pd.read_csv('ML-EdgeIIoT-dataset.csv')\n"
     ]
    },
    {
     "data": {
      "text/html": [
       "<div>\n",
       "<style scoped>\n",
       "    .dataframe tbody tr th:only-of-type {\n",
       "        vertical-align: middle;\n",
       "    }\n",
       "\n",
       "    .dataframe tbody tr th {\n",
       "        vertical-align: top;\n",
       "    }\n",
       "\n",
       "    .dataframe thead th {\n",
       "        text-align: right;\n",
       "    }\n",
       "</style>\n",
       "<table border=\"1\" class=\"dataframe\">\n",
       "  <thead>\n",
       "    <tr style=\"text-align: right;\">\n",
       "      <th></th>\n",
       "      <th>frame.time</th>\n",
       "      <th>ip.src_host</th>\n",
       "      <th>ip.dst_host</th>\n",
       "      <th>arp.dst.proto_ipv4</th>\n",
       "      <th>arp.opcode</th>\n",
       "      <th>arp.hw.size</th>\n",
       "      <th>arp.src.proto_ipv4</th>\n",
       "      <th>icmp.checksum</th>\n",
       "      <th>icmp.seq_le</th>\n",
       "      <th>icmp.transmit_timestamp</th>\n",
       "      <th>...</th>\n",
       "      <th>mqtt.proto_len</th>\n",
       "      <th>mqtt.protoname</th>\n",
       "      <th>mqtt.topic</th>\n",
       "      <th>mqtt.topic_len</th>\n",
       "      <th>mqtt.ver</th>\n",
       "      <th>mbtcp.len</th>\n",
       "      <th>mbtcp.trans_id</th>\n",
       "      <th>mbtcp.unit_id</th>\n",
       "      <th>Attack_label</th>\n",
       "      <th>Attack_type</th>\n",
       "    </tr>\n",
       "  </thead>\n",
       "  <tbody>\n",
       "    <tr>\n",
       "      <th>0</th>\n",
       "      <td>6.0</td>\n",
       "      <td>192.168.0.152</td>\n",
       "      <td>0.0</td>\n",
       "      <td>0.0</td>\n",
       "      <td>0.0</td>\n",
       "      <td>0.0</td>\n",
       "      <td>0.0</td>\n",
       "      <td>0.0</td>\n",
       "      <td>0.0</td>\n",
       "      <td>0.0</td>\n",
       "      <td>...</td>\n",
       "      <td>0.0</td>\n",
       "      <td>0.0</td>\n",
       "      <td>0.0</td>\n",
       "      <td>0.0</td>\n",
       "      <td>0.0</td>\n",
       "      <td>0.0</td>\n",
       "      <td>0.0</td>\n",
       "      <td>0.0</td>\n",
       "      <td>1</td>\n",
       "      <td>MITM</td>\n",
       "    </tr>\n",
       "    <tr>\n",
       "      <th>1</th>\n",
       "      <td>6.0</td>\n",
       "      <td>192.168.0.101</td>\n",
       "      <td>0.0</td>\n",
       "      <td>0.0</td>\n",
       "      <td>0.0</td>\n",
       "      <td>0.0</td>\n",
       "      <td>0.0</td>\n",
       "      <td>0.0</td>\n",
       "      <td>0.0</td>\n",
       "      <td>0.0</td>\n",
       "      <td>...</td>\n",
       "      <td>0.0</td>\n",
       "      <td>0.0</td>\n",
       "      <td>0.0</td>\n",
       "      <td>0.0</td>\n",
       "      <td>0.0</td>\n",
       "      <td>0.0</td>\n",
       "      <td>0.0</td>\n",
       "      <td>0.0</td>\n",
       "      <td>1</td>\n",
       "      <td>MITM</td>\n",
       "    </tr>\n",
       "    <tr>\n",
       "      <th>2</th>\n",
       "      <td>6.0</td>\n",
       "      <td>192.168.0.152</td>\n",
       "      <td>0.0</td>\n",
       "      <td>0.0</td>\n",
       "      <td>0.0</td>\n",
       "      <td>0.0</td>\n",
       "      <td>0.0</td>\n",
       "      <td>0.0</td>\n",
       "      <td>0.0</td>\n",
       "      <td>0.0</td>\n",
       "      <td>...</td>\n",
       "      <td>0.0</td>\n",
       "      <td>0.0</td>\n",
       "      <td>0.0</td>\n",
       "      <td>0.0</td>\n",
       "      <td>0.0</td>\n",
       "      <td>0.0</td>\n",
       "      <td>0.0</td>\n",
       "      <td>0.0</td>\n",
       "      <td>1</td>\n",
       "      <td>MITM</td>\n",
       "    </tr>\n",
       "    <tr>\n",
       "      <th>3</th>\n",
       "      <td>6.0</td>\n",
       "      <td>192.168.0.101</td>\n",
       "      <td>0.0</td>\n",
       "      <td>0.0</td>\n",
       "      <td>0.0</td>\n",
       "      <td>0.0</td>\n",
       "      <td>0.0</td>\n",
       "      <td>0.0</td>\n",
       "      <td>0.0</td>\n",
       "      <td>0.0</td>\n",
       "      <td>...</td>\n",
       "      <td>0.0</td>\n",
       "      <td>0.0</td>\n",
       "      <td>0.0</td>\n",
       "      <td>0.0</td>\n",
       "      <td>0.0</td>\n",
       "      <td>0.0</td>\n",
       "      <td>0.0</td>\n",
       "      <td>0.0</td>\n",
       "      <td>1</td>\n",
       "      <td>MITM</td>\n",
       "    </tr>\n",
       "    <tr>\n",
       "      <th>4</th>\n",
       "      <td>6.0</td>\n",
       "      <td>192.168.0.152</td>\n",
       "      <td>0.0</td>\n",
       "      <td>0.0</td>\n",
       "      <td>0.0</td>\n",
       "      <td>0.0</td>\n",
       "      <td>0.0</td>\n",
       "      <td>0.0</td>\n",
       "      <td>0.0</td>\n",
       "      <td>0.0</td>\n",
       "      <td>...</td>\n",
       "      <td>0.0</td>\n",
       "      <td>0.0</td>\n",
       "      <td>0.0</td>\n",
       "      <td>0.0</td>\n",
       "      <td>0.0</td>\n",
       "      <td>0.0</td>\n",
       "      <td>0.0</td>\n",
       "      <td>0.0</td>\n",
       "      <td>1</td>\n",
       "      <td>MITM</td>\n",
       "    </tr>\n",
       "    <tr>\n",
       "      <th>...</th>\n",
       "      <td>...</td>\n",
       "      <td>...</td>\n",
       "      <td>...</td>\n",
       "      <td>...</td>\n",
       "      <td>...</td>\n",
       "      <td>...</td>\n",
       "      <td>...</td>\n",
       "      <td>...</td>\n",
       "      <td>...</td>\n",
       "      <td>...</td>\n",
       "      <td>...</td>\n",
       "      <td>...</td>\n",
       "      <td>...</td>\n",
       "      <td>...</td>\n",
       "      <td>...</td>\n",
       "      <td>...</td>\n",
       "      <td>...</td>\n",
       "      <td>...</td>\n",
       "      <td>...</td>\n",
       "      <td>...</td>\n",
       "      <td>...</td>\n",
       "    </tr>\n",
       "    <tr>\n",
       "      <th>157795</th>\n",
       "      <td>2021 23:24:32.698981000</td>\n",
       "      <td>193.152.82.43</td>\n",
       "      <td>192.168.0.128</td>\n",
       "      <td>0</td>\n",
       "      <td>0.0</td>\n",
       "      <td>0.0</td>\n",
       "      <td>0</td>\n",
       "      <td>48729.0</td>\n",
       "      <td>40690.0</td>\n",
       "      <td>0.0</td>\n",
       "      <td>...</td>\n",
       "      <td>0.0</td>\n",
       "      <td>0.0</td>\n",
       "      <td>0.0</td>\n",
       "      <td>0.0</td>\n",
       "      <td>0.0</td>\n",
       "      <td>0.0</td>\n",
       "      <td>0.0</td>\n",
       "      <td>0.0</td>\n",
       "      <td>1</td>\n",
       "      <td>DDoS_ICMP</td>\n",
       "    </tr>\n",
       "    <tr>\n",
       "      <th>157796</th>\n",
       "      <td>2021 23:24:32.699354000</td>\n",
       "      <td>253.52.1.213</td>\n",
       "      <td>192.168.0.128</td>\n",
       "      <td>0</td>\n",
       "      <td>0.0</td>\n",
       "      <td>0.0</td>\n",
       "      <td>0</td>\n",
       "      <td>45657.0</td>\n",
       "      <td>40702.0</td>\n",
       "      <td>0.0</td>\n",
       "      <td>...</td>\n",
       "      <td>0.0</td>\n",
       "      <td>0.0</td>\n",
       "      <td>0.0</td>\n",
       "      <td>0.0</td>\n",
       "      <td>0.0</td>\n",
       "      <td>0.0</td>\n",
       "      <td>0.0</td>\n",
       "      <td>0.0</td>\n",
       "      <td>1</td>\n",
       "      <td>DDoS_ICMP</td>\n",
       "    </tr>\n",
       "    <tr>\n",
       "      <th>157797</th>\n",
       "      <td>2021 23:24:32.719931000</td>\n",
       "      <td>107.155.221.49</td>\n",
       "      <td>192.168.0.128</td>\n",
       "      <td>0</td>\n",
       "      <td>0.0</td>\n",
       "      <td>0.0</td>\n",
       "      <td>0</td>\n",
       "      <td>57686.0</td>\n",
       "      <td>41423.0</td>\n",
       "      <td>0.0</td>\n",
       "      <td>...</td>\n",
       "      <td>0.0</td>\n",
       "      <td>0.0</td>\n",
       "      <td>0.0</td>\n",
       "      <td>0.0</td>\n",
       "      <td>0.0</td>\n",
       "      <td>0.0</td>\n",
       "      <td>0.0</td>\n",
       "      <td>0.0</td>\n",
       "      <td>1</td>\n",
       "      <td>DDoS_ICMP</td>\n",
       "    </tr>\n",
       "    <tr>\n",
       "      <th>157798</th>\n",
       "      <td>2021 23:24:32.752054000</td>\n",
       "      <td>77.242.58.228</td>\n",
       "      <td>192.168.0.128</td>\n",
       "      <td>0</td>\n",
       "      <td>0.0</td>\n",
       "      <td>0.0</td>\n",
       "      <td>0</td>\n",
       "      <td>9555.0</td>\n",
       "      <td>42379.0</td>\n",
       "      <td>0.0</td>\n",
       "      <td>...</td>\n",
       "      <td>0.0</td>\n",
       "      <td>0.0</td>\n",
       "      <td>0.0</td>\n",
       "      <td>0.0</td>\n",
       "      <td>0.0</td>\n",
       "      <td>0.0</td>\n",
       "      <td>0.0</td>\n",
       "      <td>0.0</td>\n",
       "      <td>1</td>\n",
       "      <td>DDoS_ICMP</td>\n",
       "    </tr>\n",
       "    <tr>\n",
       "      <th>157799</th>\n",
       "      <td>2021 23:24:32.780376000</td>\n",
       "      <td>149.40.90.151</td>\n",
       "      <td>192.168.0.128</td>\n",
       "      <td>0</td>\n",
       "      <td>0.0</td>\n",
       "      <td>0.0</td>\n",
       "      <td>0</td>\n",
       "      <td>35144.0</td>\n",
       "      <td>45095.0</td>\n",
       "      <td>0.0</td>\n",
       "      <td>...</td>\n",
       "      <td>0.0</td>\n",
       "      <td>0.0</td>\n",
       "      <td>0.0</td>\n",
       "      <td>0.0</td>\n",
       "      <td>0.0</td>\n",
       "      <td>0.0</td>\n",
       "      <td>0.0</td>\n",
       "      <td>0.0</td>\n",
       "      <td>1</td>\n",
       "      <td>DDoS_ICMP</td>\n",
       "    </tr>\n",
       "  </tbody>\n",
       "</table>\n",
       "<p>157800 rows × 63 columns</p>\n",
       "</div>"
      ],
      "text/plain": [
       "                       frame.time     ip.src_host    ip.dst_host  \\\n",
       "0                             6.0   192.168.0.152            0.0   \n",
       "1                             6.0   192.168.0.101            0.0   \n",
       "2                             6.0   192.168.0.152            0.0   \n",
       "3                             6.0   192.168.0.101            0.0   \n",
       "4                             6.0   192.168.0.152            0.0   \n",
       "...                           ...             ...            ...   \n",
       "157795   2021 23:24:32.698981000    193.152.82.43  192.168.0.128   \n",
       "157796   2021 23:24:32.699354000     253.52.1.213  192.168.0.128   \n",
       "157797   2021 23:24:32.719931000   107.155.221.49  192.168.0.128   \n",
       "157798   2021 23:24:32.752054000    77.242.58.228  192.168.0.128   \n",
       "157799   2021 23:24:32.780376000    149.40.90.151  192.168.0.128   \n",
       "\n",
       "       arp.dst.proto_ipv4  arp.opcode  arp.hw.size arp.src.proto_ipv4  \\\n",
       "0                     0.0         0.0          0.0                0.0   \n",
       "1                     0.0         0.0          0.0                0.0   \n",
       "2                     0.0         0.0          0.0                0.0   \n",
       "3                     0.0         0.0          0.0                0.0   \n",
       "4                     0.0         0.0          0.0                0.0   \n",
       "...                   ...         ...          ...                ...   \n",
       "157795                  0         0.0          0.0                  0   \n",
       "157796                  0         0.0          0.0                  0   \n",
       "157797                  0         0.0          0.0                  0   \n",
       "157798                  0         0.0          0.0                  0   \n",
       "157799                  0         0.0          0.0                  0   \n",
       "\n",
       "        icmp.checksum  icmp.seq_le  icmp.transmit_timestamp  ...  \\\n",
       "0                 0.0          0.0                      0.0  ...   \n",
       "1                 0.0          0.0                      0.0  ...   \n",
       "2                 0.0          0.0                      0.0  ...   \n",
       "3                 0.0          0.0                      0.0  ...   \n",
       "4                 0.0          0.0                      0.0  ...   \n",
       "...               ...          ...                      ...  ...   \n",
       "157795        48729.0      40690.0                      0.0  ...   \n",
       "157796        45657.0      40702.0                      0.0  ...   \n",
       "157797        57686.0      41423.0                      0.0  ...   \n",
       "157798         9555.0      42379.0                      0.0  ...   \n",
       "157799        35144.0      45095.0                      0.0  ...   \n",
       "\n",
       "        mqtt.proto_len mqtt.protoname  mqtt.topic mqtt.topic_len mqtt.ver  \\\n",
       "0                  0.0            0.0         0.0            0.0      0.0   \n",
       "1                  0.0            0.0         0.0            0.0      0.0   \n",
       "2                  0.0            0.0         0.0            0.0      0.0   \n",
       "3                  0.0            0.0         0.0            0.0      0.0   \n",
       "4                  0.0            0.0         0.0            0.0      0.0   \n",
       "...                ...            ...         ...            ...      ...   \n",
       "157795             0.0            0.0         0.0            0.0      0.0   \n",
       "157796             0.0            0.0         0.0            0.0      0.0   \n",
       "157797             0.0            0.0         0.0            0.0      0.0   \n",
       "157798             0.0            0.0         0.0            0.0      0.0   \n",
       "157799             0.0            0.0         0.0            0.0      0.0   \n",
       "\n",
       "       mbtcp.len mbtcp.trans_id mbtcp.unit_id  Attack_label  Attack_type  \n",
       "0            0.0            0.0           0.0             1         MITM  \n",
       "1            0.0            0.0           0.0             1         MITM  \n",
       "2            0.0            0.0           0.0             1         MITM  \n",
       "3            0.0            0.0           0.0             1         MITM  \n",
       "4            0.0            0.0           0.0             1         MITM  \n",
       "...          ...            ...           ...           ...          ...  \n",
       "157795       0.0            0.0           0.0             1    DDoS_ICMP  \n",
       "157796       0.0            0.0           0.0             1    DDoS_ICMP  \n",
       "157797       0.0            0.0           0.0             1    DDoS_ICMP  \n",
       "157798       0.0            0.0           0.0             1    DDoS_ICMP  \n",
       "157799       0.0            0.0           0.0             1    DDoS_ICMP  \n",
       "\n",
       "[157800 rows x 63 columns]"
      ]
     },
     "execution_count": 24,
     "metadata": {},
     "output_type": "execute_result"
    }
   ],
   "source": [
    "df1 = pd.read_csv('ML-EdgeIIoT-dataset.csv')\n",
    "df1"
   ]
  },
  {
   "cell_type": "code",
   "execution_count": 25,
   "id": "6ea817a3",
   "metadata": {},
   "outputs": [],
   "source": [
    "df1['frame.time'] = pd.to_datetime(df1['frame.time'], errors='coerce')\n"
   ]
  },
  {
   "cell_type": "code",
   "execution_count": 26,
   "id": "400a078e",
   "metadata": {},
   "outputs": [],
   "source": [
    "df1['hour'] = df1['frame.time'].dt.hour\n",
    "df1['day'] = df1['frame.time'].dt.day\n",
    "df1['month'] = df1['frame.time'].dt.month\n",
    "df1['year'] = df1['frame.time'].dt.year\n"
   ]
  },
  {
   "cell_type": "code",
   "execution_count": 27,
   "id": "863a1f40",
   "metadata": {},
   "outputs": [],
   "source": [
    "df1.fillna(0, inplace=True)\n"
   ]
  },
  {
   "cell_type": "code",
   "execution_count": 28,
   "id": "9fadef63",
   "metadata": {},
   "outputs": [],
   "source": [
    "encoder = LabelEncoder()\n",
    "df1['Attack_label_encoded'] = encoder.fit_transform(df1['Attack_label'])\n"
   ]
  },
  {
   "cell_type": "code",
   "execution_count": 29,
   "id": "4052b1e1",
   "metadata": {},
   "outputs": [],
   "source": [
    "X = df1[['hour', 'day', 'month', 'year']]\n",
    "y = df1['Attack_label_encoded']\n"
   ]
  },
  {
   "cell_type": "code",
   "execution_count": 30,
   "id": "d4f2e771",
   "metadata": {},
   "outputs": [],
   "source": [
    "scaler = MinMaxScaler()\n",
    "X_scaled = scaler.fit_transform(X)\n"
   ]
  },
  {
   "cell_type": "code",
   "execution_count": 31,
   "id": "937ad4da",
   "metadata": {},
   "outputs": [],
   "source": [
    "X_train, X_test, y_train, y_test = train_test_split(X_scaled, y, test_size=0.2, random_state=42)\n"
   ]
  },
  {
   "cell_type": "code",
   "execution_count": 32,
   "id": "3b99fdac",
   "metadata": {},
   "outputs": [],
   "source": [
    "model = GaussianNB()\n"
   ]
  },
  {
   "cell_type": "code",
   "execution_count": 33,
   "id": "dbff71c2",
   "metadata": {},
   "outputs": [
    {
     "data": {
      "text/plain": [
       "GaussianNB()"
      ]
     },
     "execution_count": 33,
     "metadata": {},
     "output_type": "execute_result"
    }
   ],
   "source": [
    "model.fit(X_train, y_train)\n"
   ]
  },
  {
   "cell_type": "code",
   "execution_count": 34,
   "id": "1c0c3610",
   "metadata": {},
   "outputs": [],
   "source": [
    "y_pred = model.predict(X_test)\n"
   ]
  },
  {
   "cell_type": "code",
   "execution_count": 35,
   "id": "fb5f012f",
   "metadata": {},
   "outputs": [
    {
     "name": "stdout",
     "output_type": "stream",
     "text": [
      "Confusion Matrix:\n"
     ]
    }
   ],
   "source": [
    "cm = confusion_matrix(y_test, y_pred)\n",
    "print(\"Confusion Matrix:\")"
   ]
  },
  {
   "cell_type": "code",
   "execution_count": 36,
   "id": "45948252",
   "metadata": {},
   "outputs": [
    {
     "name": "stdout",
     "output_type": "stream",
     "text": [
      "Accuracy: 0.25804816223067173\n"
     ]
    }
   ],
   "source": [
    "accuracy = accuracy_score(y_test, y_pred)\n",
    "print(\"Accuracy:\", accuracy)\n"
   ]
  },
  {
   "cell_type": "code",
   "execution_count": 37,
   "id": "9e0621a0",
   "metadata": {},
   "outputs": [
    {
     "name": "stdout",
     "output_type": "stream",
     "text": [
      "F1-score: 0.21248402502186048\n"
     ]
    }
   ],
   "source": [
    "f1 = f1_score(y_test, y_pred)\n",
    "print(\"F1-score:\", f1)\n"
   ]
  },
  {
   "cell_type": "code",
   "execution_count": 38,
   "id": "f153a147",
   "metadata": {},
   "outputs": [
    {
     "name": "stdout",
     "output_type": "stream",
     "text": [
      "Recall: 0.11887111947318908\n"
     ]
    }
   ],
   "source": [
    "recall = recall_score(y_test, y_pred)\n",
    "print(\"Recall:\", recall)\n"
   ]
  },
  {
   "cell_type": "code",
   "execution_count": 39,
   "id": "97ca03ec",
   "metadata": {},
   "outputs": [
    {
     "name": "stdout",
     "output_type": "stream",
     "text": [
      "Precision: 1.0\n"
     ]
    }
   ],
   "source": [
    "precision = precision_score(y_test, y_pred)\n",
    "print(\"Precision:\", precision)\n"
   ]
  },
  {
   "cell_type": "code",
   "execution_count": 40,
   "id": "a11a349b",
   "metadata": {},
   "outputs": [],
   "source": [
    "fpr, tpr, thresholds = roc_curve(y_test, y_pred)\n",
    "roc_auc = auc(fpr, tpr)\n"
   ]
  },
  {
   "cell_type": "code",
   "execution_count": 41,
   "id": "883f37d5",
   "metadata": {},
   "outputs": [
    {
     "data": {
      "image/png": "[encoded data removed]",
      "text/plain": [
       "<Figure size 640x480 with 1 Axes>"
      ]
     },
     "metadata": {},
     "output_type": "display_data"
    }
   ],
   "source": [
    "plt.figure()\n",
    "plt.plot(fpr, tpr, color='darkorange', lw=2, label='ROC curve (area = %0.2f)' % roc_auc)\n",
    "plt.plot([0, 1], [0, 1], color='navy', lw=2, linestyle='--')\n",
    "plt.xlim([0.0, 1.0])\n",
    "plt.ylim([0.0, 1.05])\n",
    "plt.xlabel('False Positive Rate')\n",
    "plt.ylabel('True Positive Rate')\n",
    "plt.title('Receiver Operating Characteristic')\n",
    "plt.legend(loc=\"lower right\")\n",
    "plt.show()"
   ]
  },
  {
   "cell_type": "markdown",
   "id": "9b77211a",
   "metadata": {},
   "source": [
    "# LinearDiscriminantAnalysis"
   ]
  },
  {
   "cell_type": "code",
   "execution_count": 42,
   "id": "de34180c",
   "metadata": {},
   "outputs": [],
   "source": [
    "import pandas as pd\n",
    "from sklearn.discriminant_analysis import LinearDiscriminantAnalysis\n",
    "from sklearn.model_selection import train_test_split\n",
    "from sklearn.preprocessing import LabelEncoder, MinMaxScaler\n",
    "from sklearn.metrics import confusion_matrix, accuracy_score, f1_score, recall_score, precision_score, roc_curve, auc\n",
    "import matplotlib.pyplot as plt"
   ]
  },
  {
   "cell_type": "code",
   "execution_count": 43,
   "id": "e6c9df70",
   "metadata": {},
   "outputs": [
    {
     "name": "stderr",
     "output_type": "stream",
     "text": [
      "C:\\Users\\Admin\\AppData\\Local\\Temp\\ipykernel_17244\\2410390088.py:1: DtypeWarning: Columns (3,6,11,13,14,15,16,17,31,32,34,39,45,51,54,55) have mixed types. Specify dtype option on import or set low_memory=False.\n",
      "  df2 = pd.read_csv('ML-EdgeIIoT-dataset.csv')\n"
     ]
    },
    {
     "data": {
      "text/html": [
       "<div>\n",
       "<style scoped>\n",
       "    .dataframe tbody tr th:only-of-type {\n",
       "        vertical-align: middle;\n",
       "    }\n",
       "\n",
       "    .dataframe tbody tr th {\n",
       "        vertical-align: top;\n",
       "    }\n",
       "\n",
       "    .dataframe thead th {\n",
       "        text-align: right;\n",
       "    }\n",
       "</style>\n",
       "<table border=\"1\" class=\"dataframe\">\n",
       "  <thead>\n",
       "    <tr style=\"text-align: right;\">\n",
       "      <th></th>\n",
       "      <th>frame.time</th>\n",
       "      <th>ip.src_host</th>\n",
       "      <th>ip.dst_host</th>\n",
       "      <th>arp.dst.proto_ipv4</th>\n",
       "      <th>arp.opcode</th>\n",
       "      <th>arp.hw.size</th>\n",
       "      <th>arp.src.proto_ipv4</th>\n",
       "      <th>icmp.checksum</th>\n",
       "      <th>icmp.seq_le</th>\n",
       "      <th>icmp.transmit_timestamp</th>\n",
       "      <th>...</th>\n",
       "      <th>mqtt.proto_len</th>\n",
       "      <th>mqtt.protoname</th>\n",
       "      <th>mqtt.topic</th>\n",
       "      <th>mqtt.topic_len</th>\n",
       "      <th>mqtt.ver</th>\n",
       "      <th>mbtcp.len</th>\n",
       "      <th>mbtcp.trans_id</th>\n",
       "      <th>mbtcp.unit_id</th>\n",
       "      <th>Attack_label</th>\n",
       "      <th>Attack_type</th>\n",
       "    </tr>\n",
       "  </thead>\n",
       "  <tbody>\n",
       "    <tr>\n",
       "      <th>0</th>\n",
       "      <td>6.0</td>\n",
       "      <td>192.168.0.152</td>\n",
       "      <td>0.0</td>\n",
       "      <td>0.0</td>\n",
       "      <td>0.0</td>\n",
       "      <td>0.0</td>\n",
       "      <td>0.0</td>\n",
       "      <td>0.0</td>\n",
       "      <td>0.0</td>\n",
       "      <td>0.0</td>\n",
       "      <td>...</td>\n",
       "      <td>0.0</td>\n",
       "      <td>0.0</td>\n",
       "      <td>0.0</td>\n",
       "      <td>0.0</td>\n",
       "      <td>0.0</td>\n",
       "      <td>0.0</td>\n",
       "      <td>0.0</td>\n",
       "      <td>0.0</td>\n",
       "      <td>1</td>\n",
       "      <td>MITM</td>\n",
       "    </tr>\n",
       "    <tr>\n",
       "      <th>1</th>\n",
       "      <td>6.0</td>\n",
       "      <td>192.168.0.101</td>\n",
       "      <td>0.0</td>\n",
       "      <td>0.0</td>\n",
       "      <td>0.0</td>\n",
       "      <td>0.0</td>\n",
       "      <td>0.0</td>\n",
       "      <td>0.0</td>\n",
       "      <td>0.0</td>\n",
       "      <td>0.0</td>\n",
       "      <td>...</td>\n",
       "      <td>0.0</td>\n",
       "      <td>0.0</td>\n",
       "      <td>0.0</td>\n",
       "      <td>0.0</td>\n",
       "      <td>0.0</td>\n",
       "      <td>0.0</td>\n",
       "      <td>0.0</td>\n",
       "      <td>0.0</td>\n",
       "      <td>1</td>\n",
       "      <td>MITM</td>\n",
       "    </tr>\n",
       "    <tr>\n",
       "      <th>2</th>\n",
       "      <td>6.0</td>\n",
       "      <td>192.168.0.152</td>\n",
       "      <td>0.0</td>\n",
       "      <td>0.0</td>\n",
       "      <td>0.0</td>\n",
       "      <td>0.0</td>\n",
       "      <td>0.0</td>\n",
       "      <td>0.0</td>\n",
       "      <td>0.0</td>\n",
       "      <td>0.0</td>\n",
       "      <td>...</td>\n",
       "      <td>0.0</td>\n",
       "      <td>0.0</td>\n",
       "      <td>0.0</td>\n",
       "      <td>0.0</td>\n",
       "      <td>0.0</td>\n",
       "      <td>0.0</td>\n",
       "      <td>0.0</td>\n",
       "      <td>0.0</td>\n",
       "      <td>1</td>\n",
       "      <td>MITM</td>\n",
       "    </tr>\n",
       "    <tr>\n",
       "      <th>3</th>\n",
       "      <td>6.0</td>\n",
       "      <td>192.168.0.101</td>\n",
       "      <td>0.0</td>\n",
       "      <td>0.0</td>\n",
       "      <td>0.0</td>\n",
       "      <td>0.0</td>\n",
       "      <td>0.0</td>\n",
       "      <td>0.0</td>\n",
       "      <td>0.0</td>\n",
       "      <td>0.0</td>\n",
       "      <td>...</td>\n",
       "      <td>0.0</td>\n",
       "      <td>0.0</td>\n",
       "      <td>0.0</td>\n",
       "      <td>0.0</td>\n",
       "      <td>0.0</td>\n",
       "      <td>0.0</td>\n",
       "      <td>0.0</td>\n",
       "      <td>0.0</td>\n",
       "      <td>1</td>\n",
       "      <td>MITM</td>\n",
       "    </tr>\n",
       "    <tr>\n",
       "      <th>4</th>\n",
       "      <td>6.0</td>\n",
       "      <td>192.168.0.152</td>\n",
       "      <td>0.0</td>\n",
       "      <td>0.0</td>\n",
       "      <td>0.0</td>\n",
       "      <td>0.0</td>\n",
       "      <td>0.0</td>\n",
       "      <td>0.0</td>\n",
       "      <td>0.0</td>\n",
       "      <td>0.0</td>\n",
       "      <td>...</td>\n",
       "      <td>0.0</td>\n",
       "      <td>0.0</td>\n",
       "      <td>0.0</td>\n",
       "      <td>0.0</td>\n",
       "      <td>0.0</td>\n",
       "      <td>0.0</td>\n",
       "      <td>0.0</td>\n",
       "      <td>0.0</td>\n",
       "      <td>1</td>\n",
       "      <td>MITM</td>\n",
       "    </tr>\n",
       "    <tr>\n",
       "      <th>...</th>\n",
       "      <td>...</td>\n",
       "      <td>...</td>\n",
       "      <td>...</td>\n",
       "      <td>...</td>\n",
       "      <td>...</td>\n",
       "      <td>...</td>\n",
       "      <td>...</td>\n",
       "      <td>...</td>\n",
       "      <td>...</td>\n",
       "      <td>...</td>\n",
       "      <td>...</td>\n",
       "      <td>...</td>\n",
       "      <td>...</td>\n",
       "      <td>...</td>\n",
       "      <td>...</td>\n",
       "      <td>...</td>\n",
       "      <td>...</td>\n",
       "      <td>...</td>\n",
       "      <td>...</td>\n",
       "      <td>...</td>\n",
       "      <td>...</td>\n",
       "    </tr>\n",
       "    <tr>\n",
       "      <th>157795</th>\n",
       "      <td>2021 23:24:32.698981000</td>\n",
       "      <td>193.152.82.43</td>\n",
       "      <td>192.168.0.128</td>\n",
       "      <td>0</td>\n",
       "      <td>0.0</td>\n",
       "      <td>0.0</td>\n",
       "      <td>0</td>\n",
       "      <td>48729.0</td>\n",
       "      <td>40690.0</td>\n",
       "      <td>0.0</td>\n",
       "      <td>...</td>\n",
       "      <td>0.0</td>\n",
       "      <td>0.0</td>\n",
       "      <td>0.0</td>\n",
       "      <td>0.0</td>\n",
       "      <td>0.0</td>\n",
       "      <td>0.0</td>\n",
       "      <td>0.0</td>\n",
       "      <td>0.0</td>\n",
       "      <td>1</td>\n",
       "      <td>DDoS_ICMP</td>\n",
       "    </tr>\n",
       "    <tr>\n",
       "      <th>157796</th>\n",
       "      <td>2021 23:24:32.699354000</td>\n",
       "      <td>253.52.1.213</td>\n",
       "      <td>192.168.0.128</td>\n",
       "      <td>0</td>\n",
       "      <td>0.0</td>\n",
       "      <td>0.0</td>\n",
       "      <td>0</td>\n",
       "      <td>45657.0</td>\n",
       "      <td>40702.0</td>\n",
       "      <td>0.0</td>\n",
       "      <td>...</td>\n",
       "      <td>0.0</td>\n",
       "      <td>0.0</td>\n",
       "      <td>0.0</td>\n",
       "      <td>0.0</td>\n",
       "      <td>0.0</td>\n",
       "      <td>0.0</td>\n",
       "      <td>0.0</td>\n",
       "      <td>0.0</td>\n",
       "      <td>1</td>\n",
       "      <td>DDoS_ICMP</td>\n",
       "    </tr>\n",
       "    <tr>\n",
       "      <th>157797</th>\n",
       "      <td>2021 23:24:32.719931000</td>\n",
       "      <td>107.155.221.49</td>\n",
       "      <td>192.168.0.128</td>\n",
       "      <td>0</td>\n",
       "      <td>0.0</td>\n",
       "      <td>0.0</td>\n",
       "      <td>0</td>\n",
       "      <td>57686.0</td>\n",
       "      <td>41423.0</td>\n",
       "      <td>0.0</td>\n",
       "      <td>...</td>\n",
       "      <td>0.0</td>\n",
       "      <td>0.0</td>\n",
       "      <td>0.0</td>\n",
       "      <td>0.0</td>\n",
       "      <td>0.0</td>\n",
       "      <td>0.0</td>\n",
       "      <td>0.0</td>\n",
       "      <td>0.0</td>\n",
       "      <td>1</td>\n",
       "      <td>DDoS_ICMP</td>\n",
       "    </tr>\n",
       "    <tr>\n",
       "      <th>157798</th>\n",
       "      <td>2021 23:24:32.752054000</td>\n",
       "      <td>77.242.58.228</td>\n",
       "      <td>192.168.0.128</td>\n",
       "      <td>0</td>\n",
       "      <td>0.0</td>\n",
       "      <td>0.0</td>\n",
       "      <td>0</td>\n",
       "      <td>9555.0</td>\n",
       "      <td>42379.0</td>\n",
       "      <td>0.0</td>\n",
       "      <td>...</td>\n",
       "      <td>0.0</td>\n",
       "      <td>0.0</td>\n",
       "      <td>0.0</td>\n",
       "      <td>0.0</td>\n",
       "      <td>0.0</td>\n",
       "      <td>0.0</td>\n",
       "      <td>0.0</td>\n",
       "      <td>0.0</td>\n",
       "      <td>1</td>\n",
       "      <td>DDoS_ICMP</td>\n",
       "    </tr>\n",
       "    <tr>\n",
       "      <th>157799</th>\n",
       "      <td>2021 23:24:32.780376000</td>\n",
       "      <td>149.40.90.151</td>\n",
       "      <td>192.168.0.128</td>\n",
       "      <td>0</td>\n",
       "      <td>0.0</td>\n",
       "      <td>0.0</td>\n",
       "      <td>0</td>\n",
       "      <td>35144.0</td>\n",
       "      <td>45095.0</td>\n",
       "      <td>0.0</td>\n",
       "      <td>...</td>\n",
       "      <td>0.0</td>\n",
       "      <td>0.0</td>\n",
       "      <td>0.0</td>\n",
       "      <td>0.0</td>\n",
       "      <td>0.0</td>\n",
       "      <td>0.0</td>\n",
       "      <td>0.0</td>\n",
       "      <td>0.0</td>\n",
       "      <td>1</td>\n",
       "      <td>DDoS_ICMP</td>\n",
       "    </tr>\n",
       "  </tbody>\n",
       "</table>\n",
       "<p>157800 rows × 63 columns</p>\n",
       "</div>"
      ],
      "text/plain": [
       "                       frame.time     ip.src_host    ip.dst_host  \\\n",
       "0                             6.0   192.168.0.152            0.0   \n",
       "1                             6.0   192.168.0.101            0.0   \n",
       "2                             6.0   192.168.0.152            0.0   \n",
       "3                             6.0   192.168.0.101            0.0   \n",
       "4                             6.0   192.168.0.152            0.0   \n",
       "...                           ...             ...            ...   \n",
       "157795   2021 23:24:32.698981000    193.152.82.43  192.168.0.128   \n",
       "157796   2021 23:24:32.699354000     253.52.1.213  192.168.0.128   \n",
       "157797   2021 23:24:32.719931000   107.155.221.49  192.168.0.128   \n",
       "157798   2021 23:24:32.752054000    77.242.58.228  192.168.0.128   \n",
       "157799   2021 23:24:32.780376000    149.40.90.151  192.168.0.128   \n",
       "\n",
       "       arp.dst.proto_ipv4  arp.opcode  arp.hw.size arp.src.proto_ipv4  \\\n",
       "0                     0.0         0.0          0.0                0.0   \n",
       "1                     0.0         0.0          0.0                0.0   \n",
       "2                     0.0         0.0          0.0                0.0   \n",
       "3                     0.0         0.0          0.0                0.0   \n",
       "4                     0.0         0.0          0.0                0.0   \n",
       "...                   ...         ...          ...                ...   \n",
       "157795                  0         0.0          0.0                  0   \n",
       "157796                  0         0.0          0.0                  0   \n",
       "157797                  0         0.0          0.0                  0   \n",
       "157798                  0         0.0          0.0                  0   \n",
       "157799                  0         0.0          0.0                  0   \n",
       "\n",
       "        icmp.checksum  icmp.seq_le  icmp.transmit_timestamp  ...  \\\n",
       "0                 0.0          0.0                      0.0  ...   \n",
       "1                 0.0          0.0                      0.0  ...   \n",
       "2                 0.0          0.0                      0.0  ...   \n",
       "3                 0.0          0.0                      0.0  ...   \n",
       "4                 0.0          0.0                      0.0  ...   \n",
       "...               ...          ...                      ...  ...   \n",
       "157795        48729.0      40690.0                      0.0  ...   \n",
       "157796        45657.0      40702.0                      0.0  ...   \n",
       "157797        57686.0      41423.0                      0.0  ...   \n",
       "157798         9555.0      42379.0                      0.0  ...   \n",
       "157799        35144.0      45095.0                      0.0  ...   \n",
       "\n",
       "        mqtt.proto_len mqtt.protoname  mqtt.topic mqtt.topic_len mqtt.ver  \\\n",
       "0                  0.0            0.0         0.0            0.0      0.0   \n",
       "1                  0.0            0.0         0.0            0.0      0.0   \n",
       "2                  0.0            0.0         0.0            0.0      0.0   \n",
       "3                  0.0            0.0         0.0            0.0      0.0   \n",
       "4                  0.0            0.0         0.0            0.0      0.0   \n",
       "...                ...            ...         ...            ...      ...   \n",
       "157795             0.0            0.0         0.0            0.0      0.0   \n",
       "157796             0.0            0.0         0.0            0.0      0.0   \n",
       "157797             0.0            0.0         0.0            0.0      0.0   \n",
       "157798             0.0            0.0         0.0            0.0      0.0   \n",
       "157799             0.0            0.0         0.0            0.0      0.0   \n",
       "\n",
       "       mbtcp.len mbtcp.trans_id mbtcp.unit_id  Attack_label  Attack_type  \n",
       "0            0.0            0.0           0.0             1         MITM  \n",
       "1            0.0            0.0           0.0             1         MITM  \n",
       "2            0.0            0.0           0.0             1         MITM  \n",
       "3            0.0            0.0           0.0             1         MITM  \n",
       "4            0.0            0.0           0.0             1         MITM  \n",
       "...          ...            ...           ...           ...          ...  \n",
       "157795       0.0            0.0           0.0             1    DDoS_ICMP  \n",
       "157796       0.0            0.0           0.0             1    DDoS_ICMP  \n",
       "157797       0.0            0.0           0.0             1    DDoS_ICMP  \n",
       "157798       0.0            0.0           0.0             1    DDoS_ICMP  \n",
       "157799       0.0            0.0           0.0             1    DDoS_ICMP  \n",
       "\n",
       "[157800 rows x 63 columns]"
      ]
     },
     "execution_count": 43,
     "metadata": {},
     "output_type": "execute_result"
    }
   ],
   "source": [
    "df2 = pd.read_csv('ML-EdgeIIoT-dataset.csv')\n",
    "df2"
   ]
  },
  {
   "cell_type": "code",
   "execution_count": 44,
   "id": "13f462ef",
   "metadata": {},
   "outputs": [],
   "source": [
    "df2['frame.time'] = pd.to_datetime(df2['frame.time'], errors='coerce')\n"
   ]
  },
  {
   "cell_type": "code",
   "execution_count": 45,
   "id": "15d7c27a",
   "metadata": {},
   "outputs": [],
   "source": [
    "df2['hour'] = df2['frame.time'].dt.hour\n",
    "df2['day'] = df2['frame.time'].dt.day\n",
    "df2['month'] = df2['frame.time'].dt.month\n",
    "df2['year'] = df2['frame.time'].dt.year"
   ]
  },
  {
   "cell_type": "code",
   "execution_count": 46,
   "id": "f524739f",
   "metadata": {},
   "outputs": [],
   "source": [
    "df2.fillna(0, inplace=True)"
   ]
  },
  {
   "cell_type": "code",
   "execution_count": 47,
   "id": "3faef60f",
   "metadata": {},
   "outputs": [],
   "source": [
    "encoder = LabelEncoder()\n",
    "df2['Attack_label_encoded'] = encoder.fit_transform(df2['Attack_label'])\n"
   ]
  },
  {
   "cell_type": "code",
   "execution_count": 48,
   "id": "c706e433",
   "metadata": {},
   "outputs": [],
   "source": [
    "X = df2[['hour', 'day', 'month', 'year']]\n",
    "y = df2['Attack_label_encoded']\n"
   ]
  },
  {
   "cell_type": "code",
   "execution_count": 49,
   "id": "04ea284a",
   "metadata": {},
   "outputs": [],
   "source": [
    "scaler = MinMaxScaler()\n",
    "X_scaled = scaler.fit_transform(X)\n"
   ]
  },
  {
   "cell_type": "code",
   "execution_count": 50,
   "id": "00e89230",
   "metadata": {},
   "outputs": [],
   "source": [
    "X_train, X_test, y_train, y_test = train_test_split(X_scaled, y, test_size=0.2, random_state=42)\n"
   ]
  },
  {
   "cell_type": "code",
   "execution_count": 51,
   "id": "255338e7",
   "metadata": {},
   "outputs": [],
   "source": [
    "model = LinearDiscriminantAnalysis()\n"
   ]
  },
  {
   "cell_type": "code",
   "execution_count": 52,
   "id": "25e590ba",
   "metadata": {},
   "outputs": [
    {
     "data": {
      "text/plain": [
       "LinearDiscriminantAnalysis()"
      ]
     },
     "execution_count": 52,
     "metadata": {},
     "output_type": "execute_result"
    }
   ],
   "source": [
    "model.fit(X_train, y_train)\n"
   ]
  },
  {
   "cell_type": "code",
   "execution_count": 53,
   "id": "8c592a23",
   "metadata": {},
   "outputs": [],
   "source": [
    "y_pred = model.predict(X_test)"
   ]
  },
  {
   "cell_type": "code",
   "execution_count": 54,
   "id": "89c10699",
   "metadata": {},
   "outputs": [
    {
     "name": "stdout",
     "output_type": "stream",
     "text": [
      "Confusion Matrix:\n",
      "[[    0  4985]\n",
      " [    0 26575]]\n"
     ]
    }
   ],
   "source": [
    "cm = confusion_matrix(y_test, y_pred)\n",
    "print(\"Confusion Matrix:\")\n",
    "print(cm)\n"
   ]
  },
  {
   "cell_type": "code",
   "execution_count": 55,
   "id": "57669a08",
   "metadata": {},
   "outputs": [
    {
     "name": "stdout",
     "output_type": "stream",
     "text": [
      "Accuracy: 0.8420468948035488\n"
     ]
    }
   ],
   "source": [
    "accuracy = accuracy_score(y_test, y_pred)\n",
    "print(\"Accuracy:\", accuracy)\n"
   ]
  },
  {
   "cell_type": "code",
   "execution_count": 56,
   "id": "523e5f0f",
   "metadata": {},
   "outputs": [
    {
     "name": "stdout",
     "output_type": "stream",
     "text": [
      "F1-score: 0.9142513116023049\n"
     ]
    }
   ],
   "source": [
    "f1 = f1_score(y_test, y_pred)\n",
    "print(\"F1-score:\", f1)"
   ]
  },
  {
   "cell_type": "code",
   "execution_count": 57,
   "id": "7eace090",
   "metadata": {},
   "outputs": [
    {
     "name": "stdout",
     "output_type": "stream",
     "text": [
      "Recall: 1.0\n"
     ]
    }
   ],
   "source": [
    "recall = recall_score(y_test, y_pred)\n",
    "print(\"Recall:\", recall)"
   ]
  },
  {
   "cell_type": "code",
   "execution_count": 58,
   "id": "aaf5236d",
   "metadata": {},
   "outputs": [
    {
     "name": "stdout",
     "output_type": "stream",
     "text": [
      "Precision: 0.8420468948035488\n"
     ]
    }
   ],
   "source": [
    "precision = precision_score(y_test, y_pred)\n",
    "print(\"Precision:\", precision)\n"
   ]
  },
  {
   "cell_type": "code",
   "execution_count": 59,
   "id": "f826b716",
   "metadata": {},
   "outputs": [],
   "source": [
    "fpr, tpr, thresholds = roc_curve(y_test, y_pred)\n",
    "roc_auc = auc(fpr, tpr)\n"
   ]
  },
  {
   "cell_type": "code",
   "execution_count": 60,
   "id": "32363119",
   "metadata": {},
   "outputs": [
    {
     "data": {
      "image/png": "[encoded data removed]",
      "text/plain": [
       "<Figure size 640x480 with 1 Axes>"
      ]
     },
     "metadata": {},
     "output_type": "display_data"
    }
   ],
   "source": [
    "plt.figure()\n",
    "plt.plot(fpr, tpr, color='yellow', lw=2, label='ROC curve (area = %0.2f)' % roc_auc)\n",
    "plt.plot([0, 1], [0, 1], color='navy', lw=2, linestyle='--')\n",
    "plt.xlim([0.0, 1.0])\n",
    "plt.ylim([0.0, 1.05])\n",
    "plt.xlabel('False Positive Rate')\n",
    "plt.ylabel('True Positive Rate')\n",
    "plt.title('Receiver Operating Characteristic')\n",
    "plt.legend(loc=\"lower right\")\n",
    "plt.show()\n"
   ]
  },
  {
   "cell_type": "markdown",
   "id": "d0a0ad86",
   "metadata": {},
   "source": [
    "# KNN"
   ]
  },
  {
   "cell_type": "code",
   "execution_count": 61,
   "id": "5bd7a7a5",
   "metadata": {},
   "outputs": [],
   "source": [
    "import pandas as pd\n",
    "from sklearn.neighbors import KNeighborsClassifier\n",
    "from sklearn.model_selection import train_test_split\n",
    "from sklearn.preprocessing import LabelEncoder, MinMaxScaler\n",
    "from sklearn.metrics import confusion_matrix, accuracy_score, f1_score, recall_score, precision_score, roc_curve, auc\n",
    "import matplotlib.pyplot as plt\n"
   ]
  },
  {
   "cell_type": "code",
   "execution_count": 62,
   "id": "d25a813b",
   "metadata": {},
   "outputs": [
    {
     "name": "stderr",
     "output_type": "stream",
     "text": [
      "C:\\Users\\Admin\\AppData\\Local\\Temp\\ipykernel_17244\\968135635.py:1: DtypeWarning: Columns (3,6,11,13,14,15,16,17,31,32,34,39,45,51,54,55) have mixed types. Specify dtype option on import or set low_memory=False.\n",
      "  df3= pd.read_csv('ML-EdgeIIoT-dataset.csv')\n"
     ]
    }
   ],
   "source": [
    "df3= pd.read_csv('ML-EdgeIIoT-dataset.csv')"
   ]
  },
  {
   "cell_type": "code",
   "execution_count": 63,
   "id": "79c5d3eb",
   "metadata": {},
   "outputs": [],
   "source": [
    "df3['frame.time'] = pd.to_datetime(df3['frame.time'], errors='coerce')\n"
   ]
  },
  {
   "cell_type": "code",
   "execution_count": 64,
   "id": "8b8e72b1",
   "metadata": {},
   "outputs": [],
   "source": [
    "df3['hour'] = df3['frame.time'].dt.hour\n",
    "df3['day'] = df3['frame.time'].dt.day\n",
    "df3['month'] = df3['frame.time'].dt.month\n",
    "df3['year'] = df3['frame.time'].dt.year"
   ]
  },
  {
   "cell_type": "code",
   "execution_count": 65,
   "id": "75b14da8",
   "metadata": {},
   "outputs": [],
   "source": [
    "df3.fillna(0, inplace=True)"
   ]
  },
  {
   "cell_type": "code",
   "execution_count": 66,
   "id": "f4452719",
   "metadata": {},
   "outputs": [],
   "source": [
    "encoder = LabelEncoder()\n",
    "df3['Attack_label_encoded'] = encoder.fit_transform(df3['Attack_label'])\n"
   ]
  },
  {
   "cell_type": "code",
   "execution_count": 67,
   "id": "caf18f51",
   "metadata": {},
   "outputs": [],
   "source": [
    "X = df3[['hour', 'day', 'month', 'year']]\n",
    "y = df3['Attack_label_encoded']"
   ]
  },
  {
   "cell_type": "code",
   "execution_count": 68,
   "id": "563c8b94",
   "metadata": {},
   "outputs": [],
   "source": [
    "scaler = MinMaxScaler()\n",
    "X_scaled = scaler.fit_transform(X)\n"
   ]
  },
  {
   "cell_type": "code",
   "execution_count": 69,
   "id": "2bf5f758",
   "metadata": {},
   "outputs": [],
   "source": [
    "X_train, X_test, y_train, y_test = train_test_split(X_scaled, y, test_size=0.2, random_state=42)\n",
    "model = KNeighborsClassifier(n_neighbors=5)\n"
   ]
  },
  {
   "cell_type": "code",
   "execution_count": 70,
   "id": "c6e06113",
   "metadata": {},
   "outputs": [
    {
     "name": "stderr",
     "output_type": "stream",
     "text": [
      "C:\\Users\\Admin\\anaconda3\\lib\\site-packages\\sklearn\\neighbors\\_classification.py:228: FutureWarning: Unlike other reduction functions (e.g. `skew`, `kurtosis`), the default behavior of `mode` typically preserves the axis it acts along. In SciPy 1.11.0, this behavior will change: the default value of `keepdims` will become False, the `axis` over which the statistic is taken will be eliminated, and the value None will no longer be accepted. Set `keepdims` to True or False to avoid this warning.\n",
      "  mode, _ = stats.mode(_y[neigh_ind, k], axis=1)\n"
     ]
    }
   ],
   "source": [
    "model.fit(X_train, y_train)\n",
    "\n",
    "\n",
    "y_pred = model.predict(X_test)\n"
   ]
  },
  {
   "cell_type": "code",
   "execution_count": 71,
   "id": "c2b88dc5",
   "metadata": {},
   "outputs": [
    {
     "name": "stdout",
     "output_type": "stream",
     "text": [
      "Confusion Matrix:\n",
      "[[ 1790  3195]\n",
      " [ 1729 24846]]\n"
     ]
    }
   ],
   "source": [
    "cm = confusion_matrix(y_test, y_pred)\n",
    "print(\"Confusion Matrix:\")\n",
    "print(cm)\n"
   ]
  },
  {
   "cell_type": "code",
   "execution_count": 72,
   "id": "a196cd5a",
   "metadata": {},
   "outputs": [
    {
     "name": "stdout",
     "output_type": "stream",
     "text": [
      "Accuracy: 0.8439797211660329\n"
     ]
    }
   ],
   "source": [
    "accuracy = accuracy_score(y_test, y_pred)\n",
    "print(\"Accuracy:\", accuracy)\n"
   ]
  },
  {
   "cell_type": "code",
   "execution_count": 73,
   "id": "5a763b14",
   "metadata": {},
   "outputs": [
    {
     "name": "stdout",
     "output_type": "stream",
     "text": [
      "F1-score: 0.9098432693716128\n"
     ]
    }
   ],
   "source": [
    "f1 = f1_score(y_test, y_pred)\n",
    "print(\"F1-score:\", f1)"
   ]
  },
  {
   "cell_type": "code",
   "execution_count": 74,
   "id": "ac39855b",
   "metadata": {},
   "outputs": [
    {
     "name": "stdout",
     "output_type": "stream",
     "text": [
      "Recall: 0.9349388523047978\n"
     ]
    }
   ],
   "source": [
    "recall = recall_score(y_test, y_pred)\n",
    "print(\"Recall:\", recall)\n"
   ]
  },
  {
   "cell_type": "code",
   "execution_count": 75,
   "id": "cc53b7f9",
   "metadata": {},
   "outputs": [
    {
     "name": "stdout",
     "output_type": "stream",
     "text": [
      "Precision: 0.8860596982989194\n"
     ]
    }
   ],
   "source": [
    "precision = precision_score(y_test, y_pred)\n",
    "print(\"Precision:\", precision)\n"
   ]
  },
  {
   "cell_type": "code",
   "execution_count": 76,
   "id": "c53b8024",
   "metadata": {},
   "outputs": [],
   "source": [
    "fpr, tpr, thresholds = roc_curve(y_test, y_pred)\n",
    "roc_auc = auc(fpr, tpr)"
   ]
  },
  {
   "cell_type": "code",
   "execution_count": 77,
   "id": "3d636c0d",
   "metadata": {},
   "outputs": [
    {
     "data": {
      "image/png": "[encoded data removed]",
      "text/plain": [
       "<Figure size 640x480 with 1 Axes>"
      ]
     },
     "metadata": {},
     "output_type": "display_data"
    }
   ],
   "source": [
    "plt.figure()\n",
    "plt.plot(fpr, tpr, color='green', lw=2, label='ROC curve (area = %0.2f)' % roc_auc)\n",
    "plt.plot([0, 1], [0, 1], color='navy', lw=2, linestyle='--')\n",
    "plt.xlim([0.0, 1.0])\n",
    "plt.ylim([0.0, 1.05])\n",
    "plt.xlabel('False Positive Rate')\n",
    "plt.ylabel('True Positive Rate')\n",
    "plt.title('Receiver Operating Characteristic')\n",
    "plt.legend(loc=\"lower right\")\n",
    "plt.show()\n"
   ]
  },
  {
   "cell_type": "markdown",
   "id": "6cb61c37",
   "metadata": {},
   "source": [
    "# Decision Tree classifier\n"
   ]
  },
  {
   "cell_type": "code",
   "execution_count": 78,
   "id": "8e424fbc",
   "metadata": {},
   "outputs": [],
   "source": [
    "import pandas as pd\n",
    "from sklearn.tree import DecisionTreeClassifier\n",
    "from sklearn.model_selection import train_test_split\n",
    "from sklearn.preprocessing import LabelEncoder, MinMaxScaler\n",
    "from sklearn.metrics import confusion_matrix, accuracy_score, f1_score, recall_score, precision_score, roc_curve, auc\n",
    "import matplotlib.pyplot as plt\n"
   ]
  },
  {
   "cell_type": "code",
   "execution_count": 79,
   "id": "f933c31a",
   "metadata": {},
   "outputs": [
    {
     "name": "stderr",
     "output_type": "stream",
     "text": [
      "C:\\Users\\Admin\\AppData\\Local\\Temp\\ipykernel_17244\\1401060134.py:1: DtypeWarning: Columns (3,6,11,13,14,15,16,17,31,32,34,39,45,51,54,55) have mixed types. Specify dtype option on import or set low_memory=False.\n",
      "  df4= pd.read_csv('ML-EdgeIIoT-dataset.csv')\n"
     ]
    }
   ],
   "source": [
    "df4= pd.read_csv('ML-EdgeIIoT-dataset.csv')"
   ]
  },
  {
   "cell_type": "code",
   "execution_count": 80,
   "id": "96c3ac49",
   "metadata": {},
   "outputs": [],
   "source": [
    "df4['frame.time'] = pd.to_datetime(df4['frame.time'], errors='coerce')"
   ]
  },
  {
   "cell_type": "code",
   "execution_count": 81,
   "id": "9559730b",
   "metadata": {},
   "outputs": [],
   "source": [
    "df4['hour'] = df4['frame.time'].dt.hour\n",
    "df4['day'] = df4['frame.time'].dt.day\n",
    "df4['month'] = df4['frame.time'].dt.month\n",
    "df4['year'] = df4['frame.time'].dt.year\n"
   ]
  },
  {
   "cell_type": "code",
   "execution_count": 82,
   "id": "80c32b4a",
   "metadata": {},
   "outputs": [],
   "source": [
    "df4.fillna(0, inplace=True)\n"
   ]
  },
  {
   "cell_type": "code",
   "execution_count": 83,
   "id": "1260935e",
   "metadata": {},
   "outputs": [],
   "source": [
    "encoder = LabelEncoder()\n",
    "df4['Attack_label_encoded'] = encoder.fit_transform(df4['Attack_label'])\n"
   ]
  },
  {
   "cell_type": "code",
   "execution_count": 84,
   "id": "02809192",
   "metadata": {},
   "outputs": [],
   "source": [
    "X = df4[['hour', 'day', 'month', 'year']]\n",
    "y = df4['Attack_label_encoded']\n"
   ]
  },
  {
   "cell_type": "code",
   "execution_count": 85,
   "id": "77e1390d",
   "metadata": {},
   "outputs": [],
   "source": [
    "scaler = MinMaxScaler()\n",
    "X_scaled = scaler.fit_transform(X)\n"
   ]
  },
  {
   "cell_type": "code",
   "execution_count": 86,
   "id": "587d2764",
   "metadata": {},
   "outputs": [],
   "source": [
    "X_train, X_test, y_train, y_test = train_test_split(X_scaled, y, test_size=0.2, random_state=42)\n"
   ]
  },
  {
   "cell_type": "code",
   "execution_count": 87,
   "id": "142de034",
   "metadata": {},
   "outputs": [],
   "source": [
    "model = DecisionTreeClassifier()\n",
    "\n",
    "\n",
    "model.fit(X_train, y_train)\n",
    "\n",
    "\n",
    "y_pred = model.predict(X_test)\n"
   ]
  },
  {
   "cell_type": "code",
   "execution_count": 88,
   "id": "1cabbd0a",
   "metadata": {},
   "outputs": [
    {
     "name": "stdout",
     "output_type": "stream",
     "text": [
      "Confusion Matrix:\n",
      "[[ 1220  3765]\n",
      " [  370 26205]]\n"
     ]
    }
   ],
   "source": [
    "cm = confusion_matrix(y_test, y_pred)\n",
    "print(\"Confusion Matrix:\")\n",
    "print(cm)\n"
   ]
  },
  {
   "cell_type": "code",
   "execution_count": 89,
   "id": "4226862c",
   "metadata": {},
   "outputs": [
    {
     "name": "stdout",
     "output_type": "stream",
     "text": [
      "Accuracy: 0.868979721166033\n"
     ]
    }
   ],
   "source": [
    "accuracy = accuracy_score(y_test, y_pred)\n",
    "print(\"Accuracy:\", accuracy)\n"
   ]
  },
  {
   "cell_type": "code",
   "execution_count": 90,
   "id": "35b1dfae",
   "metadata": {},
   "outputs": [
    {
     "name": "stdout",
     "output_type": "stream",
     "text": [
      "F1-score: 0.9268724025112742\n"
     ]
    }
   ],
   "source": [
    "f1 = f1_score(y_test, y_pred)\n",
    "print(\"F1-score:\", f1)\n"
   ]
  },
  {
   "cell_type": "code",
   "execution_count": 91,
   "id": "6dfc6ee2",
   "metadata": {},
   "outputs": [
    {
     "name": "stdout",
     "output_type": "stream",
     "text": [
      "Recall: 0.9860771401693321\n"
     ]
    }
   ],
   "source": [
    "recall = recall_score(y_test, y_pred)\n",
    "print(\"Recall:\", recall)\n"
   ]
  },
  {
   "cell_type": "code",
   "execution_count": 92,
   "id": "7b786033",
   "metadata": {},
   "outputs": [
    {
     "name": "stdout",
     "output_type": "stream",
     "text": [
      "Precision: 0.8743743743743744\n"
     ]
    }
   ],
   "source": [
    "precision = precision_score(y_test, y_pred)\n",
    "print(\"Precision:\", precision)\n"
   ]
  },
  {
   "cell_type": "code",
   "execution_count": 93,
   "id": "e06b22ad",
   "metadata": {},
   "outputs": [],
   "source": [
    "fpr, tpr, thresholds = roc_curve(y_test, y_pred)\n",
    "roc_auc = auc(fpr, tpr)\n"
   ]
  },
  {
   "cell_type": "code",
   "execution_count": 94,
   "id": "9dce1bc6",
   "metadata": {},
   "outputs": [
    {
     "data": {
      "image/png": "[encoded data removed]",
      "text/plain": [
       "<Figure size 640x480 with 1 Axes>"
      ]
     },
     "metadata": {},
     "output_type": "display_data"
    }
   ],
   "source": [
    "plt.figure()\n",
    "plt.plot(fpr, tpr, color='purple', lw=2, label='ROC curve (area = %0.2f)' % roc_auc)\n",
    "plt.plot([0, 1], [0, 1], color='black', lw=2, linestyle='--')\n",
    "plt.xlim([0.0, 1.0])\n",
    "plt.ylim([0.0, 1.05])\n",
    "plt.xlabel('False Positive Rate')\n",
    "plt.ylabel('True Positive Rate')\n",
    "plt.title('Receiver Operating Characteristic')\n",
    "plt.legend(loc=\"lower right\")\n",
    "plt.show()"
   ]
  },
  {
   "cell_type": "markdown",
   "id": "ef55d8b5",
   "metadata": {},
   "source": [
    "# Random Forest classifier\n",
    "\n"
   ]
  },
  {
   "cell_type": "code",
   "execution_count": 95,
   "id": "58411047",
   "metadata": {},
   "outputs": [],
   "source": [
    "import pandas as pd\n",
    "from sklearn.ensemble import RandomForestClassifier\n",
    "from sklearn.model_selection import train_test_split\n",
    "from sklearn.preprocessing import LabelEncoder, MinMaxScaler\n",
    "from sklearn.metrics import confusion_matrix, accuracy_score, f1_score, recall_score, precision_score, roc_curve, auc\n",
    "import matplotlib.pyplot as plt"
   ]
  },
  {
   "cell_type": "code",
   "execution_count": 96,
   "id": "281aeee1",
   "metadata": {},
   "outputs": [
    {
     "name": "stderr",
     "output_type": "stream",
     "text": [
      "C:\\Users\\Admin\\AppData\\Local\\Temp\\ipykernel_17244\\3354090486.py:1: DtypeWarning: Columns (3,6,11,13,14,15,16,17,31,32,34,39,45,51,54,55) have mixed types. Specify dtype option on import or set low_memory=False.\n",
      "  df5 = pd.read_csv('ML-EdgeIIoT-dataset.csv')\n"
     ]
    },
    {
     "data": {
      "text/html": [
       "<div>\n",
       "<style scoped>\n",
       "    .dataframe tbody tr th:only-of-type {\n",
       "        vertical-align: middle;\n",
       "    }\n",
       "\n",
       "    .dataframe tbody tr th {\n",
       "        vertical-align: top;\n",
       "    }\n",
       "\n",
       "    .dataframe thead th {\n",
       "        text-align: right;\n",
       "    }\n",
       "</style>\n",
       "<table border=\"1\" class=\"dataframe\">\n",
       "  <thead>\n",
       "    <tr style=\"text-align: right;\">\n",
       "      <th></th>\n",
       "      <th>frame.time</th>\n",
       "      <th>ip.src_host</th>\n",
       "      <th>ip.dst_host</th>\n",
       "      <th>arp.dst.proto_ipv4</th>\n",
       "      <th>arp.opcode</th>\n",
       "      <th>arp.hw.size</th>\n",
       "      <th>arp.src.proto_ipv4</th>\n",
       "      <th>icmp.checksum</th>\n",
       "      <th>icmp.seq_le</th>\n",
       "      <th>icmp.transmit_timestamp</th>\n",
       "      <th>...</th>\n",
       "      <th>mqtt.proto_len</th>\n",
       "      <th>mqtt.protoname</th>\n",
       "      <th>mqtt.topic</th>\n",
       "      <th>mqtt.topic_len</th>\n",
       "      <th>mqtt.ver</th>\n",
       "      <th>mbtcp.len</th>\n",
       "      <th>mbtcp.trans_id</th>\n",
       "      <th>mbtcp.unit_id</th>\n",
       "      <th>Attack_label</th>\n",
       "      <th>Attack_type</th>\n",
       "    </tr>\n",
       "  </thead>\n",
       "  <tbody>\n",
       "    <tr>\n",
       "      <th>0</th>\n",
       "      <td>6.0</td>\n",
       "      <td>192.168.0.152</td>\n",
       "      <td>0.0</td>\n",
       "      <td>0.0</td>\n",
       "      <td>0.0</td>\n",
       "      <td>0.0</td>\n",
       "      <td>0.0</td>\n",
       "      <td>0.0</td>\n",
       "      <td>0.0</td>\n",
       "      <td>0.0</td>\n",
       "      <td>...</td>\n",
       "      <td>0.0</td>\n",
       "      <td>0.0</td>\n",
       "      <td>0.0</td>\n",
       "      <td>0.0</td>\n",
       "      <td>0.0</td>\n",
       "      <td>0.0</td>\n",
       "      <td>0.0</td>\n",
       "      <td>0.0</td>\n",
       "      <td>1</td>\n",
       "      <td>MITM</td>\n",
       "    </tr>\n",
       "    <tr>\n",
       "      <th>1</th>\n",
       "      <td>6.0</td>\n",
       "      <td>192.168.0.101</td>\n",
       "      <td>0.0</td>\n",
       "      <td>0.0</td>\n",
       "      <td>0.0</td>\n",
       "      <td>0.0</td>\n",
       "      <td>0.0</td>\n",
       "      <td>0.0</td>\n",
       "      <td>0.0</td>\n",
       "      <td>0.0</td>\n",
       "      <td>...</td>\n",
       "      <td>0.0</td>\n",
       "      <td>0.0</td>\n",
       "      <td>0.0</td>\n",
       "      <td>0.0</td>\n",
       "      <td>0.0</td>\n",
       "      <td>0.0</td>\n",
       "      <td>0.0</td>\n",
       "      <td>0.0</td>\n",
       "      <td>1</td>\n",
       "      <td>MITM</td>\n",
       "    </tr>\n",
       "    <tr>\n",
       "      <th>2</th>\n",
       "      <td>6.0</td>\n",
       "      <td>192.168.0.152</td>\n",
       "      <td>0.0</td>\n",
       "      <td>0.0</td>\n",
       "      <td>0.0</td>\n",
       "      <td>0.0</td>\n",
       "      <td>0.0</td>\n",
       "      <td>0.0</td>\n",
       "      <td>0.0</td>\n",
       "      <td>0.0</td>\n",
       "      <td>...</td>\n",
       "      <td>0.0</td>\n",
       "      <td>0.0</td>\n",
       "      <td>0.0</td>\n",
       "      <td>0.0</td>\n",
       "      <td>0.0</td>\n",
       "      <td>0.0</td>\n",
       "      <td>0.0</td>\n",
       "      <td>0.0</td>\n",
       "      <td>1</td>\n",
       "      <td>MITM</td>\n",
       "    </tr>\n",
       "    <tr>\n",
       "      <th>3</th>\n",
       "      <td>6.0</td>\n",
       "      <td>192.168.0.101</td>\n",
       "      <td>0.0</td>\n",
       "      <td>0.0</td>\n",
       "      <td>0.0</td>\n",
       "      <td>0.0</td>\n",
       "      <td>0.0</td>\n",
       "      <td>0.0</td>\n",
       "      <td>0.0</td>\n",
       "      <td>0.0</td>\n",
       "      <td>...</td>\n",
       "      <td>0.0</td>\n",
       "      <td>0.0</td>\n",
       "      <td>0.0</td>\n",
       "      <td>0.0</td>\n",
       "      <td>0.0</td>\n",
       "      <td>0.0</td>\n",
       "      <td>0.0</td>\n",
       "      <td>0.0</td>\n",
       "      <td>1</td>\n",
       "      <td>MITM</td>\n",
       "    </tr>\n",
       "    <tr>\n",
       "      <th>4</th>\n",
       "      <td>6.0</td>\n",
       "      <td>192.168.0.152</td>\n",
       "      <td>0.0</td>\n",
       "      <td>0.0</td>\n",
       "      <td>0.0</td>\n",
       "      <td>0.0</td>\n",
       "      <td>0.0</td>\n",
       "      <td>0.0</td>\n",
       "      <td>0.0</td>\n",
       "      <td>0.0</td>\n",
       "      <td>...</td>\n",
       "      <td>0.0</td>\n",
       "      <td>0.0</td>\n",
       "      <td>0.0</td>\n",
       "      <td>0.0</td>\n",
       "      <td>0.0</td>\n",
       "      <td>0.0</td>\n",
       "      <td>0.0</td>\n",
       "      <td>0.0</td>\n",
       "      <td>1</td>\n",
       "      <td>MITM</td>\n",
       "    </tr>\n",
       "    <tr>\n",
       "      <th>...</th>\n",
       "      <td>...</td>\n",
       "      <td>...</td>\n",
       "      <td>...</td>\n",
       "      <td>...</td>\n",
       "      <td>...</td>\n",
       "      <td>...</td>\n",
       "      <td>...</td>\n",
       "      <td>...</td>\n",
       "      <td>...</td>\n",
       "      <td>...</td>\n",
       "      <td>...</td>\n",
       "      <td>...</td>\n",
       "      <td>...</td>\n",
       "      <td>...</td>\n",
       "      <td>...</td>\n",
       "      <td>...</td>\n",
       "      <td>...</td>\n",
       "      <td>...</td>\n",
       "      <td>...</td>\n",
       "      <td>...</td>\n",
       "      <td>...</td>\n",
       "    </tr>\n",
       "    <tr>\n",
       "      <th>157795</th>\n",
       "      <td>2021 23:24:32.698981000</td>\n",
       "      <td>193.152.82.43</td>\n",
       "      <td>192.168.0.128</td>\n",
       "      <td>0</td>\n",
       "      <td>0.0</td>\n",
       "      <td>0.0</td>\n",
       "      <td>0</td>\n",
       "      <td>48729.0</td>\n",
       "      <td>40690.0</td>\n",
       "      <td>0.0</td>\n",
       "      <td>...</td>\n",
       "      <td>0.0</td>\n",
       "      <td>0.0</td>\n",
       "      <td>0.0</td>\n",
       "      <td>0.0</td>\n",
       "      <td>0.0</td>\n",
       "      <td>0.0</td>\n",
       "      <td>0.0</td>\n",
       "      <td>0.0</td>\n",
       "      <td>1</td>\n",
       "      <td>DDoS_ICMP</td>\n",
       "    </tr>\n",
       "    <tr>\n",
       "      <th>157796</th>\n",
       "      <td>2021 23:24:32.699354000</td>\n",
       "      <td>253.52.1.213</td>\n",
       "      <td>192.168.0.128</td>\n",
       "      <td>0</td>\n",
       "      <td>0.0</td>\n",
       "      <td>0.0</td>\n",
       "      <td>0</td>\n",
       "      <td>45657.0</td>\n",
       "      <td>40702.0</td>\n",
       "      <td>0.0</td>\n",
       "      <td>...</td>\n",
       "      <td>0.0</td>\n",
       "      <td>0.0</td>\n",
       "      <td>0.0</td>\n",
       "      <td>0.0</td>\n",
       "      <td>0.0</td>\n",
       "      <td>0.0</td>\n",
       "      <td>0.0</td>\n",
       "      <td>0.0</td>\n",
       "      <td>1</td>\n",
       "      <td>DDoS_ICMP</td>\n",
       "    </tr>\n",
       "    <tr>\n",
       "      <th>157797</th>\n",
       "      <td>2021 23:24:32.719931000</td>\n",
       "      <td>107.155.221.49</td>\n",
       "      <td>192.168.0.128</td>\n",
       "      <td>0</td>\n",
       "      <td>0.0</td>\n",
       "      <td>0.0</td>\n",
       "      <td>0</td>\n",
       "      <td>57686.0</td>\n",
       "      <td>41423.0</td>\n",
       "      <td>0.0</td>\n",
       "      <td>...</td>\n",
       "      <td>0.0</td>\n",
       "      <td>0.0</td>\n",
       "      <td>0.0</td>\n",
       "      <td>0.0</td>\n",
       "      <td>0.0</td>\n",
       "      <td>0.0</td>\n",
       "      <td>0.0</td>\n",
       "      <td>0.0</td>\n",
       "      <td>1</td>\n",
       "      <td>DDoS_ICMP</td>\n",
       "    </tr>\n",
       "    <tr>\n",
       "      <th>157798</th>\n",
       "      <td>2021 23:24:32.752054000</td>\n",
       "      <td>77.242.58.228</td>\n",
       "      <td>192.168.0.128</td>\n",
       "      <td>0</td>\n",
       "      <td>0.0</td>\n",
       "      <td>0.0</td>\n",
       "      <td>0</td>\n",
       "      <td>9555.0</td>\n",
       "      <td>42379.0</td>\n",
       "      <td>0.0</td>\n",
       "      <td>...</td>\n",
       "      <td>0.0</td>\n",
       "      <td>0.0</td>\n",
       "      <td>0.0</td>\n",
       "      <td>0.0</td>\n",
       "      <td>0.0</td>\n",
       "      <td>0.0</td>\n",
       "      <td>0.0</td>\n",
       "      <td>0.0</td>\n",
       "      <td>1</td>\n",
       "      <td>DDoS_ICMP</td>\n",
       "    </tr>\n",
       "    <tr>\n",
       "      <th>157799</th>\n",
       "      <td>2021 23:24:32.780376000</td>\n",
       "      <td>149.40.90.151</td>\n",
       "      <td>192.168.0.128</td>\n",
       "      <td>0</td>\n",
       "      <td>0.0</td>\n",
       "      <td>0.0</td>\n",
       "      <td>0</td>\n",
       "      <td>35144.0</td>\n",
       "      <td>45095.0</td>\n",
       "      <td>0.0</td>\n",
       "      <td>...</td>\n",
       "      <td>0.0</td>\n",
       "      <td>0.0</td>\n",
       "      <td>0.0</td>\n",
       "      <td>0.0</td>\n",
       "      <td>0.0</td>\n",
       "      <td>0.0</td>\n",
       "      <td>0.0</td>\n",
       "      <td>0.0</td>\n",
       "      <td>1</td>\n",
       "      <td>DDoS_ICMP</td>\n",
       "    </tr>\n",
       "  </tbody>\n",
       "</table>\n",
       "<p>157800 rows × 63 columns</p>\n",
       "</div>"
      ],
      "text/plain": [
       "                       frame.time     ip.src_host    ip.dst_host  \\\n",
       "0                             6.0   192.168.0.152            0.0   \n",
       "1                             6.0   192.168.0.101            0.0   \n",
       "2                             6.0   192.168.0.152            0.0   \n",
       "3                             6.0   192.168.0.101            0.0   \n",
       "4                             6.0   192.168.0.152            0.0   \n",
       "...                           ...             ...            ...   \n",
       "157795   2021 23:24:32.698981000    193.152.82.43  192.168.0.128   \n",
       "157796   2021 23:24:32.699354000     253.52.1.213  192.168.0.128   \n",
       "157797   2021 23:24:32.719931000   107.155.221.49  192.168.0.128   \n",
       "157798   2021 23:24:32.752054000    77.242.58.228  192.168.0.128   \n",
       "157799   2021 23:24:32.780376000    149.40.90.151  192.168.0.128   \n",
       "\n",
       "       arp.dst.proto_ipv4  arp.opcode  arp.hw.size arp.src.proto_ipv4  \\\n",
       "0                     0.0         0.0          0.0                0.0   \n",
       "1                     0.0         0.0          0.0                0.0   \n",
       "2                     0.0         0.0          0.0                0.0   \n",
       "3                     0.0         0.0          0.0                0.0   \n",
       "4                     0.0         0.0          0.0                0.0   \n",
       "...                   ...         ...          ...                ...   \n",
       "157795                  0         0.0          0.0                  0   \n",
       "157796                  0         0.0          0.0                  0   \n",
       "157797                  0         0.0          0.0                  0   \n",
       "157798                  0         0.0          0.0                  0   \n",
       "157799                  0         0.0          0.0                  0   \n",
       "\n",
       "        icmp.checksum  icmp.seq_le  icmp.transmit_timestamp  ...  \\\n",
       "0                 0.0          0.0                      0.0  ...   \n",
       "1                 0.0          0.0                      0.0  ...   \n",
       "2                 0.0          0.0                      0.0  ...   \n",
       "3                 0.0          0.0                      0.0  ...   \n",
       "4                 0.0          0.0                      0.0  ...   \n",
       "...               ...          ...                      ...  ...   \n",
       "157795        48729.0      40690.0                      0.0  ...   \n",
       "157796        45657.0      40702.0                      0.0  ...   \n",
       "157797        57686.0      41423.0                      0.0  ...   \n",
       "157798         9555.0      42379.0                      0.0  ...   \n",
       "157799        35144.0      45095.0                      0.0  ...   \n",
       "\n",
       "        mqtt.proto_len mqtt.protoname  mqtt.topic mqtt.topic_len mqtt.ver  \\\n",
       "0                  0.0            0.0         0.0            0.0      0.0   \n",
       "1                  0.0            0.0         0.0            0.0      0.0   \n",
       "2                  0.0            0.0         0.0            0.0      0.0   \n",
       "3                  0.0            0.0         0.0            0.0      0.0   \n",
       "4                  0.0            0.0         0.0            0.0      0.0   \n",
       "...                ...            ...         ...            ...      ...   \n",
       "157795             0.0            0.0         0.0            0.0      0.0   \n",
       "157796             0.0            0.0         0.0            0.0      0.0   \n",
       "157797             0.0            0.0         0.0            0.0      0.0   \n",
       "157798             0.0            0.0         0.0            0.0      0.0   \n",
       "157799             0.0            0.0         0.0            0.0      0.0   \n",
       "\n",
       "       mbtcp.len mbtcp.trans_id mbtcp.unit_id  Attack_label  Attack_type  \n",
       "0            0.0            0.0           0.0             1         MITM  \n",
       "1            0.0            0.0           0.0             1         MITM  \n",
       "2            0.0            0.0           0.0             1         MITM  \n",
       "3            0.0            0.0           0.0             1         MITM  \n",
       "4            0.0            0.0           0.0             1         MITM  \n",
       "...          ...            ...           ...           ...          ...  \n",
       "157795       0.0            0.0           0.0             1    DDoS_ICMP  \n",
       "157796       0.0            0.0           0.0             1    DDoS_ICMP  \n",
       "157797       0.0            0.0           0.0             1    DDoS_ICMP  \n",
       "157798       0.0            0.0           0.0             1    DDoS_ICMP  \n",
       "157799       0.0            0.0           0.0             1    DDoS_ICMP  \n",
       "\n",
       "[157800 rows x 63 columns]"
      ]
     },
     "execution_count": 96,
     "metadata": {},
     "output_type": "execute_result"
    }
   ],
   "source": [
    "df5 = pd.read_csv('ML-EdgeIIoT-dataset.csv')\n",
    "df5"
   ]
  },
  {
   "cell_type": "code",
   "execution_count": 97,
   "id": "4cc7c369",
   "metadata": {},
   "outputs": [],
   "source": [
    "df5['frame.time'] = pd.to_datetime(df5['frame.time'], errors='coerce')\n"
   ]
  },
  {
   "cell_type": "code",
   "execution_count": 98,
   "id": "80832d83",
   "metadata": {},
   "outputs": [],
   "source": [
    "df5['hour'] = df5['frame.time'].dt.hour\n",
    "df5['day'] = df5['frame.time'].dt.day\n",
    "df5['month'] = df5['frame.time'].dt.month\n",
    "df5['year'] = df5['frame.time'].dt.year"
   ]
  },
  {
   "cell_type": "code",
   "execution_count": 99,
   "id": "59c2f0ec",
   "metadata": {},
   "outputs": [],
   "source": [
    "df5.fillna(0, inplace=True)\n"
   ]
  },
  {
   "cell_type": "code",
   "execution_count": 100,
   "id": "fe5ba82c",
   "metadata": {},
   "outputs": [],
   "source": [
    "encoder = LabelEncoder()\n",
    "df5['Attack_label_encoded'] = encoder.fit_transform(df5['Attack_label'])\n"
   ]
  },
  {
   "cell_type": "code",
   "execution_count": 101,
   "id": "dfa9438d",
   "metadata": {},
   "outputs": [],
   "source": [
    "X = df5[['hour', 'day', 'month', 'year']]\n",
    "y = df5['Attack_label_encoded']\n"
   ]
  },
  {
   "cell_type": "code",
   "execution_count": 102,
   "id": "52195d62",
   "metadata": {},
   "outputs": [],
   "source": [
    "scaler = MinMaxScaler()\n",
    "X_scaled = scaler.fit_transform(X)"
   ]
  },
  {
   "cell_type": "code",
   "execution_count": 103,
   "id": "9c94a04b",
   "metadata": {},
   "outputs": [],
   "source": [
    "X_train, X_test, y_train, y_test = train_test_split(X_scaled, y, test_size=0.2, random_state=42)\n"
   ]
  },
  {
   "cell_type": "code",
   "execution_count": 104,
   "id": "64658286",
   "metadata": {},
   "outputs": [],
   "source": [
    "model = RandomForestClassifier(n_estimators=100)\n",
    "\n",
    "\n",
    "model.fit(X_train, y_train)\n",
    "\n",
    "\n",
    "y_pred = model.predict(X_test)\n"
   ]
  },
  {
   "cell_type": "code",
   "execution_count": 105,
   "id": "128b84e5",
   "metadata": {},
   "outputs": [
    {
     "name": "stdout",
     "output_type": "stream",
     "text": [
      "Confusion Matrix:\n",
      "[[ 1220  3765]\n",
      " [  370 26205]]\n"
     ]
    }
   ],
   "source": [
    "cm = confusion_matrix(y_test, y_pred)\n",
    "print(\"Confusion Matrix:\")\n",
    "print(cm)"
   ]
  },
  {
   "cell_type": "code",
   "execution_count": 106,
   "id": "71d96a63",
   "metadata": {},
   "outputs": [
    {
     "name": "stdout",
     "output_type": "stream",
     "text": [
      "Accuracy: 0.868979721166033\n"
     ]
    }
   ],
   "source": [
    "accuracy = accuracy_score(y_test, y_pred)\n",
    "print(\"Accuracy:\", accuracy)\n"
   ]
  },
  {
   "cell_type": "code",
   "execution_count": 107,
   "id": "7c414232",
   "metadata": {},
   "outputs": [
    {
     "name": "stdout",
     "output_type": "stream",
     "text": [
      "F1-score: 0.9268724025112742\n"
     ]
    }
   ],
   "source": [
    "f1 = f1_score(y_test, y_pred)\n",
    "print(\"F1-score:\", f1)\n"
   ]
  },
  {
   "cell_type": "code",
   "execution_count": 108,
   "id": "4582839b",
   "metadata": {},
   "outputs": [
    {
     "name": "stdout",
     "output_type": "stream",
     "text": [
      "Recall: 0.9860771401693321\n"
     ]
    }
   ],
   "source": [
    "recall = recall_score(y_test, y_pred)\n",
    "print(\"Recall:\", recall)\n"
   ]
  },
  {
   "cell_type": "code",
   "execution_count": 109,
   "id": "3b72235c",
   "metadata": {},
   "outputs": [
    {
     "name": "stdout",
     "output_type": "stream",
     "text": [
      "Precision: 0.8743743743743744\n"
     ]
    }
   ],
   "source": [
    "precision = precision_score(y_test, y_pred)\n",
    "print(\"Precision:\", precision)\n"
   ]
  },
  {
   "cell_type": "code",
   "execution_count": 110,
   "id": "0e1b9a2b",
   "metadata": {},
   "outputs": [],
   "source": [
    "fpr, tpr, thresholds = roc_curve(y_test, y_pred)\n",
    "roc_auc = auc(fpr, tpr)\n"
   ]
  },
  {
   "cell_type": "code",
   "execution_count": 111,
   "id": "591d6313",
   "metadata": {},
   "outputs": [
    {
     "data": {
      "image/png": "[encoded data removed]",
      "text/plain": [
       "<Figure size 640x480 with 1 Axes>"
      ]
     },
     "metadata": {},
     "output_type": "display_data"
    }
   ],
   "source": [
    "plt.figure()\n",
    "plt.plot(fpr, tpr, color='pink', lw=2, label='ROC curve (area = %0.2f)' % roc_auc)\n",
    "plt.plot([0, 1], [0, 1], color='black', lw=2, linestyle='--')\n",
    "plt.xlim([0.0, 1.0])\n",
    "plt.ylim([0.0, 1.05])\n",
    "plt.xlabel('False Positive Rate')\n",
    "plt.ylabel('True Positive Rate')\n",
    "plt.title('Receiver Operating Characteristic')\n",
    "plt.legend(loc=\"lower right\")\n",
    "plt.show()\n"
   ]
  },
  {
   "cell_type": "markdown",
   "id": "9f225d0e",
   "metadata": {},
   "source": [
    "# SVM classifier\n"
   ]
  },
  {
   "cell_type": "code",
   "execution_count": 112,
   "id": "aee99a5b",
   "metadata": {},
   "outputs": [],
   "source": [
    "import pandas as pd\n",
    "from sklearn.svm import SVC\n",
    "from sklearn.model_selection import train_test_split\n",
    "from sklearn.preprocessing import LabelEncoder, MinMaxScaler\n",
    "from sklearn.metrics import confusion_matrix, accuracy_score, f1_score, recall_score, precision_score, roc_curve, auc\n",
    "import matplotlib.pyplot as plt"
   ]
  },
  {
   "cell_type": "code",
   "execution_count": 113,
   "id": "f13e2e83",
   "metadata": {},
   "outputs": [
    {
     "name": "stderr",
     "output_type": "stream",
     "text": [
      "C:\\Users\\Admin\\AppData\\Local\\Temp\\ipykernel_17244\\3218900238.py:1: DtypeWarning: Columns (3,6,11,13,14,15,16,17,31,32,34,39,45,51,54,55) have mixed types. Specify dtype option on import or set low_memory=False.\n",
      "  df6 = pd.read_csv('ML-EdgeIIoT-dataset.csv')\n"
     ]
    }
   ],
   "source": [
    "df6 = pd.read_csv('ML-EdgeIIoT-dataset.csv')"
   ]
  },
  {
   "cell_type": "code",
   "execution_count": 114,
   "id": "642946a0",
   "metadata": {},
   "outputs": [],
   "source": [
    "df6['frame.time'] = pd.to_datetime(df6['frame.time'], errors='coerce')"
   ]
  },
  {
   "cell_type": "code",
   "execution_count": 115,
   "id": "d5178b17",
   "metadata": {},
   "outputs": [],
   "source": [
    "df6['hour'] = df6['frame.time'].dt.hour\n",
    "df6['day'] = df6['frame.time'].dt.day\n",
    "df6['month'] = df6['frame.time'].dt.month\n",
    "df6['year'] = df6['frame.time'].dt.year\n"
   ]
  },
  {
   "cell_type": "code",
   "execution_count": 116,
   "id": "0ead5414",
   "metadata": {},
   "outputs": [],
   "source": [
    "df6.fillna(0, inplace=True)"
   ]
  },
  {
   "cell_type": "code",
   "execution_count": 117,
   "id": "578afc49",
   "metadata": {},
   "outputs": [],
   "source": [
    "encoder = LabelEncoder()\n",
    "df6['Attack_label_encoded'] = encoder.fit_transform(df6['Attack_label'])\n"
   ]
  },
  {
   "cell_type": "code",
   "execution_count": 118,
   "id": "4abc2a17",
   "metadata": {},
   "outputs": [],
   "source": [
    "X = df6[['hour', 'day', 'month', 'year']]\n",
    "y = df6['Attack_label_encoded']\n"
   ]
  },
  {
   "cell_type": "code",
   "execution_count": 119,
   "id": "df6f6402",
   "metadata": {},
   "outputs": [],
   "source": [
    "scaler = MinMaxScaler()\n",
    "X_scaled = scaler.fit_transform(X)\n"
   ]
  },
  {
   "cell_type": "code",
   "execution_count": 120,
   "id": "d680cb7f",
   "metadata": {},
   "outputs": [],
   "source": [
    "X_train, X_test, y_train, y_test = train_test_split(X_scaled, y, test_size=0.2, random_state=42)"
   ]
  },
  {
   "cell_type": "code",
   "execution_count": 123,
   "id": "af63bac3",
   "metadata": {},
   "outputs": [],
   "source": [
    "model = SVC()"
   ]
  },
  {
   "cell_type": "code",
   "execution_count": 124,
   "id": "09aa12d3",
   "metadata": {},
   "outputs": [
    {
     "data": {
      "text/plain": [
       "SVC()"
      ]
     },
     "execution_count": 124,
     "metadata": {},
     "output_type": "execute_result"
    }
   ],
   "source": [
    "model.fit(X_train, y_train)"
   ]
  },
  {
   "cell_type": "code",
   "execution_count": 125,
   "id": "fd5dd93c",
   "metadata": {},
   "outputs": [],
   "source": [
    "y_pred = model.predict(X_test)"
   ]
  },
  {
   "cell_type": "code",
   "execution_count": 126,
   "id": "4624294a",
   "metadata": {},
   "outputs": [
    {
     "name": "stdout",
     "output_type": "stream",
     "text": [
      "Confusion Matrix:\n",
      "[[    0  4985]\n",
      " [    0 26575]]\n"
     ]
    }
   ],
   "source": [
    "cm = confusion_matrix(y_test, y_pred)\n",
    "print(\"Confusion Matrix:\")\n",
    "print(cm)"
   ]
  },
  {
   "cell_type": "code",
   "execution_count": 127,
   "id": "df043d2f",
   "metadata": {},
   "outputs": [
    {
     "name": "stdout",
     "output_type": "stream",
     "text": [
      "Accuracy: 0.8420468948035488\n"
     ]
    }
   ],
   "source": [
    "accuracy = accuracy_score(y_test, y_pred)\n",
    "print(\"Accuracy:\", accuracy)"
   ]
  },
  {
   "cell_type": "code",
   "execution_count": 128,
   "id": "53260c5e",
   "metadata": {},
   "outputs": [
    {
     "name": "stdout",
     "output_type": "stream",
     "text": [
      "F1-score: 0.9142513116023049\n"
     ]
    }
   ],
   "source": [
    "f1 = f1_score(y_test, y_pred)\n",
    "print(\"F1-score:\", f1)"
   ]
  },
  {
   "cell_type": "code",
   "execution_count": 129,
   "id": "b0e1a1d0",
   "metadata": {},
   "outputs": [
    {
     "name": "stdout",
     "output_type": "stream",
     "text": [
      "Recall: 1.0\n"
     ]
    }
   ],
   "source": [
    "recall = recall_score(y_test, y_pred)\n",
    "print(\"Recall:\", recall)"
   ]
  },
  {
   "cell_type": "code",
   "execution_count": 130,
   "id": "a16cd2ee",
   "metadata": {},
   "outputs": [
    {
     "name": "stdout",
     "output_type": "stream",
     "text": [
      "Precision: 0.8420468948035488\n"
     ]
    }
   ],
   "source": [
    "precision = precision_score(y_test, y_pred)\n",
    "print(\"Precision:\", precision)\n"
   ]
  },
  {
   "cell_type": "code",
   "execution_count": 131,
   "id": "aa162e87",
   "metadata": {},
   "outputs": [],
   "source": [
    "fpr, tpr, thresholds = roc_curve(y_test, y_pred)\n",
    "roc_auc = auc(fpr, tpr)"
   ]
  },
  {
   "cell_type": "code",
   "execution_count": 132,
   "id": "de38254e",
   "metadata": {},
   "outputs": [
    {
     "data": {
      "image/png": "[encoded data removed]",
      "text/plain": [
       "<Figure size 640x480 with 1 Axes>"
      ]
     },
     "metadata": {},
     "output_type": "display_data"
    }
   ],
   "source": [
    "plt.figure()\n",
    "plt.plot(fpr, tpr, color='brown', lw=2, label='ROC curve (area = %0.2f)' % roc_auc)\n",
    "plt.plot([0, 1], [0, 1], color='navy', lw=2, linestyle='--')\n",
    "plt.xlim([0.0, 1.0])\n",
    "plt.ylim([0.0, 1.05])\n",
    "plt.xlabel('False Positive Rate')\n",
    "plt.ylabel('True Positive Rate')\n",
    "plt.title('Receiver Operating Characteristic')\n",
    "plt.legend(loc=\"lower right\")\n",
    "plt.show()"
   ]
  },
  {
   "cell_type": "code",
   "execution_count": 133,
   "id": "f3000979",
   "metadata": {},
   "outputs": [],
   "source": [
    "import pandas as pd\n",
    "from sklearn.ensemble import AdaBoostClassifier\n",
    "from sklearn.model_selection import train_test_split\n",
    "from sklearn.preprocessing import LabelEncoder, MinMaxScaler\n",
    "from sklearn.metrics import confusion_matrix, accuracy_score, f1_score, recall_score, precision_score, roc_curve, auc\n",
    "import matplotlib.pyplot as plt"
   ]
  },
  {
   "cell_type": "code",
   "execution_count": 135,
   "id": "45217029",
   "metadata": {},
   "outputs": [
    {
     "name": "stderr",
     "output_type": "stream",
     "text": [
      "C:\\Users\\Admin\\AppData\\Local\\Temp\\ipykernel_17244\\2429366161.py:1: DtypeWarning: Columns (3,6,11,13,14,15,16,17,31,32,34,39,45,51,54,55) have mixed types. Specify dtype option on import or set low_memory=False.\n",
      "  df7 = pd.read_csv('ML-EdgeIIoT-dataset.csv')\n"
     ]
    },
    {
     "data": {
      "text/html": [
       "<div>\n",
       "<style scoped>\n",
       "    .dataframe tbody tr th:only-of-type {\n",
       "        vertical-align: middle;\n",
       "    }\n",
       "\n",
       "    .dataframe tbody tr th {\n",
       "        vertical-align: top;\n",
       "    }\n",
       "\n",
       "    .dataframe thead th {\n",
       "        text-align: right;\n",
       "    }\n",
       "</style>\n",
       "<table border=\"1\" class=\"dataframe\">\n",
       "  <thead>\n",
       "    <tr style=\"text-align: right;\">\n",
       "      <th></th>\n",
       "      <th>frame.time</th>\n",
       "      <th>ip.src_host</th>\n",
       "      <th>ip.dst_host</th>\n",
       "      <th>arp.dst.proto_ipv4</th>\n",
       "      <th>arp.opcode</th>\n",
       "      <th>arp.hw.size</th>\n",
       "      <th>arp.src.proto_ipv4</th>\n",
       "      <th>icmp.checksum</th>\n",
       "      <th>icmp.seq_le</th>\n",
       "      <th>icmp.transmit_timestamp</th>\n",
       "      <th>...</th>\n",
       "      <th>mqtt.proto_len</th>\n",
       "      <th>mqtt.protoname</th>\n",
       "      <th>mqtt.topic</th>\n",
       "      <th>mqtt.topic_len</th>\n",
       "      <th>mqtt.ver</th>\n",
       "      <th>mbtcp.len</th>\n",
       "      <th>mbtcp.trans_id</th>\n",
       "      <th>mbtcp.unit_id</th>\n",
       "      <th>Attack_label</th>\n",
       "      <th>Attack_type</th>\n",
       "    </tr>\n",
       "  </thead>\n",
       "  <tbody>\n",
       "    <tr>\n",
       "      <th>0</th>\n",
       "      <td>6.0</td>\n",
       "      <td>192.168.0.152</td>\n",
       "      <td>0.0</td>\n",
       "      <td>0.0</td>\n",
       "      <td>0.0</td>\n",
       "      <td>0.0</td>\n",
       "      <td>0.0</td>\n",
       "      <td>0.0</td>\n",
       "      <td>0.0</td>\n",
       "      <td>0.0</td>\n",
       "      <td>...</td>\n",
       "      <td>0.0</td>\n",
       "      <td>0.0</td>\n",
       "      <td>0.0</td>\n",
       "      <td>0.0</td>\n",
       "      <td>0.0</td>\n",
       "      <td>0.0</td>\n",
       "      <td>0.0</td>\n",
       "      <td>0.0</td>\n",
       "      <td>1</td>\n",
       "      <td>MITM</td>\n",
       "    </tr>\n",
       "    <tr>\n",
       "      <th>1</th>\n",
       "      <td>6.0</td>\n",
       "      <td>192.168.0.101</td>\n",
       "      <td>0.0</td>\n",
       "      <td>0.0</td>\n",
       "      <td>0.0</td>\n",
       "      <td>0.0</td>\n",
       "      <td>0.0</td>\n",
       "      <td>0.0</td>\n",
       "      <td>0.0</td>\n",
       "      <td>0.0</td>\n",
       "      <td>...</td>\n",
       "      <td>0.0</td>\n",
       "      <td>0.0</td>\n",
       "      <td>0.0</td>\n",
       "      <td>0.0</td>\n",
       "      <td>0.0</td>\n",
       "      <td>0.0</td>\n",
       "      <td>0.0</td>\n",
       "      <td>0.0</td>\n",
       "      <td>1</td>\n",
       "      <td>MITM</td>\n",
       "    </tr>\n",
       "    <tr>\n",
       "      <th>2</th>\n",
       "      <td>6.0</td>\n",
       "      <td>192.168.0.152</td>\n",
       "      <td>0.0</td>\n",
       "      <td>0.0</td>\n",
       "      <td>0.0</td>\n",
       "      <td>0.0</td>\n",
       "      <td>0.0</td>\n",
       "      <td>0.0</td>\n",
       "      <td>0.0</td>\n",
       "      <td>0.0</td>\n",
       "      <td>...</td>\n",
       "      <td>0.0</td>\n",
       "      <td>0.0</td>\n",
       "      <td>0.0</td>\n",
       "      <td>0.0</td>\n",
       "      <td>0.0</td>\n",
       "      <td>0.0</td>\n",
       "      <td>0.0</td>\n",
       "      <td>0.0</td>\n",
       "      <td>1</td>\n",
       "      <td>MITM</td>\n",
       "    </tr>\n",
       "    <tr>\n",
       "      <th>3</th>\n",
       "      <td>6.0</td>\n",
       "      <td>192.168.0.101</td>\n",
       "      <td>0.0</td>\n",
       "      <td>0.0</td>\n",
       "      <td>0.0</td>\n",
       "      <td>0.0</td>\n",
       "      <td>0.0</td>\n",
       "      <td>0.0</td>\n",
       "      <td>0.0</td>\n",
       "      <td>0.0</td>\n",
       "      <td>...</td>\n",
       "      <td>0.0</td>\n",
       "      <td>0.0</td>\n",
       "      <td>0.0</td>\n",
       "      <td>0.0</td>\n",
       "      <td>0.0</td>\n",
       "      <td>0.0</td>\n",
       "      <td>0.0</td>\n",
       "      <td>0.0</td>\n",
       "      <td>1</td>\n",
       "      <td>MITM</td>\n",
       "    </tr>\n",
       "    <tr>\n",
       "      <th>4</th>\n",
       "      <td>6.0</td>\n",
       "      <td>192.168.0.152</td>\n",
       "      <td>0.0</td>\n",
       "      <td>0.0</td>\n",
       "      <td>0.0</td>\n",
       "      <td>0.0</td>\n",
       "      <td>0.0</td>\n",
       "      <td>0.0</td>\n",
       "      <td>0.0</td>\n",
       "      <td>0.0</td>\n",
       "      <td>...</td>\n",
       "      <td>0.0</td>\n",
       "      <td>0.0</td>\n",
       "      <td>0.0</td>\n",
       "      <td>0.0</td>\n",
       "      <td>0.0</td>\n",
       "      <td>0.0</td>\n",
       "      <td>0.0</td>\n",
       "      <td>0.0</td>\n",
       "      <td>1</td>\n",
       "      <td>MITM</td>\n",
       "    </tr>\n",
       "    <tr>\n",
       "      <th>...</th>\n",
       "      <td>...</td>\n",
       "      <td>...</td>\n",
       "      <td>...</td>\n",
       "      <td>...</td>\n",
       "      <td>...</td>\n",
       "      <td>...</td>\n",
       "      <td>...</td>\n",
       "      <td>...</td>\n",
       "      <td>...</td>\n",
       "      <td>...</td>\n",
       "      <td>...</td>\n",
       "      <td>...</td>\n",
       "      <td>...</td>\n",
       "      <td>...</td>\n",
       "      <td>...</td>\n",
       "      <td>...</td>\n",
       "      <td>...</td>\n",
       "      <td>...</td>\n",
       "      <td>...</td>\n",
       "      <td>...</td>\n",
       "      <td>...</td>\n",
       "    </tr>\n",
       "    <tr>\n",
       "      <th>157795</th>\n",
       "      <td>2021 23:24:32.698981000</td>\n",
       "      <td>193.152.82.43</td>\n",
       "      <td>192.168.0.128</td>\n",
       "      <td>0</td>\n",
       "      <td>0.0</td>\n",
       "      <td>0.0</td>\n",
       "      <td>0</td>\n",
       "      <td>48729.0</td>\n",
       "      <td>40690.0</td>\n",
       "      <td>0.0</td>\n",
       "      <td>...</td>\n",
       "      <td>0.0</td>\n",
       "      <td>0.0</td>\n",
       "      <td>0.0</td>\n",
       "      <td>0.0</td>\n",
       "      <td>0.0</td>\n",
       "      <td>0.0</td>\n",
       "      <td>0.0</td>\n",
       "      <td>0.0</td>\n",
       "      <td>1</td>\n",
       "      <td>DDoS_ICMP</td>\n",
       "    </tr>\n",
       "    <tr>\n",
       "      <th>157796</th>\n",
       "      <td>2021 23:24:32.699354000</td>\n",
       "      <td>253.52.1.213</td>\n",
       "      <td>192.168.0.128</td>\n",
       "      <td>0</td>\n",
       "      <td>0.0</td>\n",
       "      <td>0.0</td>\n",
       "      <td>0</td>\n",
       "      <td>45657.0</td>\n",
       "      <td>40702.0</td>\n",
       "      <td>0.0</td>\n",
       "      <td>...</td>\n",
       "      <td>0.0</td>\n",
       "      <td>0.0</td>\n",
       "      <td>0.0</td>\n",
       "      <td>0.0</td>\n",
       "      <td>0.0</td>\n",
       "      <td>0.0</td>\n",
       "      <td>0.0</td>\n",
       "      <td>0.0</td>\n",
       "      <td>1</td>\n",
       "      <td>DDoS_ICMP</td>\n",
       "    </tr>\n",
       "    <tr>\n",
       "      <th>157797</th>\n",
       "      <td>2021 23:24:32.719931000</td>\n",
       "      <td>107.155.221.49</td>\n",
       "      <td>192.168.0.128</td>\n",
       "      <td>0</td>\n",
       "      <td>0.0</td>\n",
       "      <td>0.0</td>\n",
       "      <td>0</td>\n",
       "      <td>57686.0</td>\n",
       "      <td>41423.0</td>\n",
       "      <td>0.0</td>\n",
       "      <td>...</td>\n",
       "      <td>0.0</td>\n",
       "      <td>0.0</td>\n",
       "      <td>0.0</td>\n",
       "      <td>0.0</td>\n",
       "      <td>0.0</td>\n",
       "      <td>0.0</td>\n",
       "      <td>0.0</td>\n",
       "      <td>0.0</td>\n",
       "      <td>1</td>\n",
       "      <td>DDoS_ICMP</td>\n",
       "    </tr>\n",
       "    <tr>\n",
       "      <th>157798</th>\n",
       "      <td>2021 23:24:32.752054000</td>\n",
       "      <td>77.242.58.228</td>\n",
       "      <td>192.168.0.128</td>\n",
       "      <td>0</td>\n",
       "      <td>0.0</td>\n",
       "      <td>0.0</td>\n",
       "      <td>0</td>\n",
       "      <td>9555.0</td>\n",
       "      <td>42379.0</td>\n",
       "      <td>0.0</td>\n",
       "      <td>...</td>\n",
       "      <td>0.0</td>\n",
       "      <td>0.0</td>\n",
       "      <td>0.0</td>\n",
       "      <td>0.0</td>\n",
       "      <td>0.0</td>\n",
       "      <td>0.0</td>\n",
       "      <td>0.0</td>\n",
       "      <td>0.0</td>\n",
       "      <td>1</td>\n",
       "      <td>DDoS_ICMP</td>\n",
       "    </tr>\n",
       "    <tr>\n",
       "      <th>157799</th>\n",
       "      <td>2021 23:24:32.780376000</td>\n",
       "      <td>149.40.90.151</td>\n",
       "      <td>192.168.0.128</td>\n",
       "      <td>0</td>\n",
       "      <td>0.0</td>\n",
       "      <td>0.0</td>\n",
       "      <td>0</td>\n",
       "      <td>35144.0</td>\n",
       "      <td>45095.0</td>\n",
       "      <td>0.0</td>\n",
       "      <td>...</td>\n",
       "      <td>0.0</td>\n",
       "      <td>0.0</td>\n",
       "      <td>0.0</td>\n",
       "      <td>0.0</td>\n",
       "      <td>0.0</td>\n",
       "      <td>0.0</td>\n",
       "      <td>0.0</td>\n",
       "      <td>0.0</td>\n",
       "      <td>1</td>\n",
       "      <td>DDoS_ICMP</td>\n",
       "    </tr>\n",
       "  </tbody>\n",
       "</table>\n",
       "<p>157800 rows × 63 columns</p>\n",
       "</div>"
      ],
      "text/plain": [
       "                       frame.time     ip.src_host    ip.dst_host  \\\n",
       "0                             6.0   192.168.0.152            0.0   \n",
       "1                             6.0   192.168.0.101            0.0   \n",
       "2                             6.0   192.168.0.152            0.0   \n",
       "3                             6.0   192.168.0.101            0.0   \n",
       "4                             6.0   192.168.0.152            0.0   \n",
       "...                           ...             ...            ...   \n",
       "157795   2021 23:24:32.698981000    193.152.82.43  192.168.0.128   \n",
       "157796   2021 23:24:32.699354000     253.52.1.213  192.168.0.128   \n",
       "157797   2021 23:24:32.719931000   107.155.221.49  192.168.0.128   \n",
       "157798   2021 23:24:32.752054000    77.242.58.228  192.168.0.128   \n",
       "157799   2021 23:24:32.780376000    149.40.90.151  192.168.0.128   \n",
       "\n",
       "       arp.dst.proto_ipv4  arp.opcode  arp.hw.size arp.src.proto_ipv4  \\\n",
       "0                     0.0         0.0          0.0                0.0   \n",
       "1                     0.0         0.0          0.0                0.0   \n",
       "2                     0.0         0.0          0.0                0.0   \n",
       "3                     0.0         0.0          0.0                0.0   \n",
       "4                     0.0         0.0          0.0                0.0   \n",
       "...                   ...         ...          ...                ...   \n",
       "157795                  0         0.0          0.0                  0   \n",
       "157796                  0         0.0          0.0                  0   \n",
       "157797                  0         0.0          0.0                  0   \n",
       "157798                  0         0.0          0.0                  0   \n",
       "157799                  0         0.0          0.0                  0   \n",
       "\n",
       "        icmp.checksum  icmp.seq_le  icmp.transmit_timestamp  ...  \\\n",
       "0                 0.0          0.0                      0.0  ...   \n",
       "1                 0.0          0.0                      0.0  ...   \n",
       "2                 0.0          0.0                      0.0  ...   \n",
       "3                 0.0          0.0                      0.0  ...   \n",
       "4                 0.0          0.0                      0.0  ...   \n",
       "...               ...          ...                      ...  ...   \n",
       "157795        48729.0      40690.0                      0.0  ...   \n",
       "157796        45657.0      40702.0                      0.0  ...   \n",
       "157797        57686.0      41423.0                      0.0  ...   \n",
       "157798         9555.0      42379.0                      0.0  ...   \n",
       "157799        35144.0      45095.0                      0.0  ...   \n",
       "\n",
       "        mqtt.proto_len mqtt.protoname  mqtt.topic mqtt.topic_len mqtt.ver  \\\n",
       "0                  0.0            0.0         0.0            0.0      0.0   \n",
       "1                  0.0            0.0         0.0            0.0      0.0   \n",
       "2                  0.0            0.0         0.0            0.0      0.0   \n",
       "3                  0.0            0.0         0.0            0.0      0.0   \n",
       "4                  0.0            0.0         0.0            0.0      0.0   \n",
       "...                ...            ...         ...            ...      ...   \n",
       "157795             0.0            0.0         0.0            0.0      0.0   \n",
       "157796             0.0            0.0         0.0            0.0      0.0   \n",
       "157797             0.0            0.0         0.0            0.0      0.0   \n",
       "157798             0.0            0.0         0.0            0.0      0.0   \n",
       "157799             0.0            0.0         0.0            0.0      0.0   \n",
       "\n",
       "       mbtcp.len mbtcp.trans_id mbtcp.unit_id  Attack_label  Attack_type  \n",
       "0            0.0            0.0           0.0             1         MITM  \n",
       "1            0.0            0.0           0.0             1         MITM  \n",
       "2            0.0            0.0           0.0             1         MITM  \n",
       "3            0.0            0.0           0.0             1         MITM  \n",
       "4            0.0            0.0           0.0             1         MITM  \n",
       "...          ...            ...           ...           ...          ...  \n",
       "157795       0.0            0.0           0.0             1    DDoS_ICMP  \n",
       "157796       0.0            0.0           0.0             1    DDoS_ICMP  \n",
       "157797       0.0            0.0           0.0             1    DDoS_ICMP  \n",
       "157798       0.0            0.0           0.0             1    DDoS_ICMP  \n",
       "157799       0.0            0.0           0.0             1    DDoS_ICMP  \n",
       "\n",
       "[157800 rows x 63 columns]"
      ]
     },
     "execution_count": 135,
     "metadata": {},
     "output_type": "execute_result"
    }
   ],
   "source": [
    "df7 = pd.read_csv('ML-EdgeIIoT-dataset.csv')\n",
    "df7"
   ]
  },
  {
   "cell_type": "code",
   "execution_count": 136,
   "id": "c71ae55f",
   "metadata": {},
   "outputs": [],
   "source": [
    "df7['frame.time'] = pd.to_datetime(df7['frame.time'], errors='coerce')"
   ]
  },
  {
   "cell_type": "code",
   "execution_count": 137,
   "id": "ee1ecbcc",
   "metadata": {},
   "outputs": [],
   "source": [
    "df7['hour'] = df7['frame.time'].dt.hour\n",
    "df7['day'] = df7['frame.time'].dt.day\n",
    "df7['month'] = df7['frame.time'].dt.month\n",
    "df7['year'] = df7['frame.time'].dt.year\n"
   ]
  },
  {
   "cell_type": "code",
   "execution_count": 139,
   "id": "77cdff8f",
   "metadata": {},
   "outputs": [],
   "source": [
    "df7.fillna(0, inplace=True)\n"
   ]
  },
  {
   "cell_type": "code",
   "execution_count": 141,
   "id": "f17bad13",
   "metadata": {},
   "outputs": [],
   "source": [
    "encoder = LabelEncoder()\n",
    "df7['Attack_label_encoded'] = encoder.fit_transform(df7['Attack_label'])\n"
   ]
  },
  {
   "cell_type": "code",
   "execution_count": 143,
   "id": "72f66049",
   "metadata": {},
   "outputs": [],
   "source": [
    "X = df7[['hour', 'day', 'month', 'year']]\n",
    "y = df7['Attack_label_encoded']"
   ]
  },
  {
   "cell_type": "code",
   "execution_count": 144,
   "id": "7babe327",
   "metadata": {},
   "outputs": [],
   "source": [
    "scaler = MinMaxScaler()\n",
    "X_scaled = scaler.fit_transform(X)\n"
   ]
  },
  {
   "cell_type": "code",
   "execution_count": 145,
   "id": "a57163e1",
   "metadata": {},
   "outputs": [],
   "source": [
    "X_train, X_test, y_train, y_test = train_test_split(X_scaled, y, test_size=0.2, random_state=42)"
   ]
  },
  {
   "cell_type": "code",
   "execution_count": 146,
   "id": "df4793e0",
   "metadata": {},
   "outputs": [],
   "source": [
    "model = AdaBoostClassifier(n_estimators=100)"
   ]
  },
  {
   "cell_type": "code",
   "execution_count": 147,
   "id": "77fce5a2",
   "metadata": {},
   "outputs": [
    {
     "data": {
      "text/plain": [
       "AdaBoostClassifier(n_estimators=100)"
      ]
     },
     "execution_count": 147,
     "metadata": {},
     "output_type": "execute_result"
    }
   ],
   "source": [
    "model.fit(X_train, y_train)"
   ]
  },
  {
   "cell_type": "code",
   "execution_count": 148,
   "id": "c9791153",
   "metadata": {},
   "outputs": [],
   "source": [
    "y_pred = model.predict(X_test)"
   ]
  },
  {
   "cell_type": "code",
   "execution_count": 149,
   "id": "8e2b6a0b",
   "metadata": {},
   "outputs": [
    {
     "name": "stdout",
     "output_type": "stream",
     "text": [
      "Confusion Matrix:\n",
      "[[  805  4180]\n",
      " [    0 26575]]\n"
     ]
    }
   ],
   "source": [
    "cm = confusion_matrix(y_test, y_pred)\n",
    "print(\"Confusion Matrix:\")\n",
    "print(cm)"
   ]
  },
  {
   "cell_type": "code",
   "execution_count": 150,
   "id": "b52a3596",
   "metadata": {},
   "outputs": [
    {
     "name": "stdout",
     "output_type": "stream",
     "text": [
      "Accuracy: 0.867553865652725\n"
     ]
    }
   ],
   "source": [
    "accuracy = accuracy_score(y_test, y_pred)\n",
    "print(\"Accuracy:\", accuracy)\n"
   ]
  },
  {
   "cell_type": "code",
   "execution_count": 151,
   "id": "5c5f103a",
   "metadata": {},
   "outputs": [
    {
     "name": "stdout",
     "output_type": "stream",
     "text": [
      "F1-score: 0.9270887842316414\n"
     ]
    }
   ],
   "source": [
    "f1 = f1_score(y_test, y_pred)\n",
    "print(\"F1-score:\", f1)\n"
   ]
  },
  {
   "cell_type": "code",
   "execution_count": 152,
   "id": "fd7b901b",
   "metadata": {},
   "outputs": [
    {
     "name": "stdout",
     "output_type": "stream",
     "text": [
      "Recall: 1.0\n"
     ]
    }
   ],
   "source": [
    "recall = recall_score(y_test, y_pred)\n",
    "print(\"Recall:\", recall)\n"
   ]
  },
  {
   "cell_type": "code",
   "execution_count": 153,
   "id": "56b6de3a",
   "metadata": {},
   "outputs": [
    {
     "name": "stdout",
     "output_type": "stream",
     "text": [
      "Precision: 0.8640871403023899\n"
     ]
    }
   ],
   "source": [
    "precision = precision_score(y_test, y_pred)\n",
    "print(\"Precision:\", precision)\n"
   ]
  },
  {
   "cell_type": "code",
   "execution_count": 154,
   "id": "2043529e",
   "metadata": {},
   "outputs": [],
   "source": [
    "fpr, tpr, thresholds = roc_curve(y_test, y_pred)\n",
    "roc_auc = auc(fpr, tpr)\n"
   ]
  },
  {
   "cell_type": "code",
   "execution_count": 156,
   "id": "6a840b46",
   "metadata": {},
   "outputs": [
    {
     "data": {
      "image/png": "[encoded data removed]",
      "text/plain": [
       "<Figure size 640x480 with 1 Axes>"
      ]
     },
     "metadata": {},
     "output_type": "display_data"
    }
   ],
   "source": [
    "plt.figure()\n",
    "plt.plot(fpr, tpr, color='red', lw=2, label='ROC curve (area = %0.2f)' % roc_auc)\n",
    "plt.plot([0, 1], [0, 1], color='navy', lw=2, linestyle='--')\n",
    "plt.xlim([0.0, 1.0])\n",
    "plt.ylim([0.0, 1.05])\n",
    "plt.xlabel('False Positive Rate')\n",
    "plt.ylabel('True Positive Rate')\n",
    "plt.title('Receiver Operating Characteristic')\n",
    "plt.legend(loc=\"lower right\")\n",
    "plt.show()"
   ]
  },
  {
   "cell_type": "markdown",
   "id": "955ab816",
   "metadata": {},
   "source": [
    "# XG-Boost"
   ]
  },
  {
   "cell_type": "code",
   "execution_count": 157,
   "id": "5a05c61e",
   "metadata": {},
   "outputs": [],
   "source": [
    "import pandas as pd\n",
    "import xgboost as xgb\n",
    "from sklearn.model_selection import train_test_split\n",
    "from sklearn.preprocessing import LabelEncoder, MinMaxScaler\n",
    "from sklearn.metrics import confusion_matrix, accuracy_score, f1_score, recall_score, precision_score, roc_curve, auc\n",
    "import matplotlib.pyplot as plt\n"
   ]
  },
  {
   "cell_type": "code",
   "execution_count": 158,
   "id": "573c056b",
   "metadata": {},
   "outputs": [
    {
     "name": "stderr",
     "output_type": "stream",
     "text": [
      "C:\\Users\\Admin\\AppData\\Local\\Temp\\ipykernel_17244\\202886831.py:1: DtypeWarning: Columns (3,6,11,13,14,15,16,17,31,32,34,39,45,51,54,55) have mixed types. Specify dtype option on import or set low_memory=False.\n",
      "  df8 = pd.read_csv('ML-EdgeIIoT-dataset.csv')\n"
     ]
    },
    {
     "data": {
      "text/html": [
       "<div>\n",
       "<style scoped>\n",
       "    .dataframe tbody tr th:only-of-type {\n",
       "        vertical-align: middle;\n",
       "    }\n",
       "\n",
       "    .dataframe tbody tr th {\n",
       "        vertical-align: top;\n",
       "    }\n",
       "\n",
       "    .dataframe thead th {\n",
       "        text-align: right;\n",
       "    }\n",
       "</style>\n",
       "<table border=\"1\" class=\"dataframe\">\n",
       "  <thead>\n",
       "    <tr style=\"text-align: right;\">\n",
       "      <th></th>\n",
       "      <th>frame.time</th>\n",
       "      <th>ip.src_host</th>\n",
       "      <th>ip.dst_host</th>\n",
       "      <th>arp.dst.proto_ipv4</th>\n",
       "      <th>arp.opcode</th>\n",
       "      <th>arp.hw.size</th>\n",
       "      <th>arp.src.proto_ipv4</th>\n",
       "      <th>icmp.checksum</th>\n",
       "      <th>icmp.seq_le</th>\n",
       "      <th>icmp.transmit_timestamp</th>\n",
       "      <th>...</th>\n",
       "      <th>mqtt.proto_len</th>\n",
       "      <th>mqtt.protoname</th>\n",
       "      <th>mqtt.topic</th>\n",
       "      <th>mqtt.topic_len</th>\n",
       "      <th>mqtt.ver</th>\n",
       "      <th>mbtcp.len</th>\n",
       "      <th>mbtcp.trans_id</th>\n",
       "      <th>mbtcp.unit_id</th>\n",
       "      <th>Attack_label</th>\n",
       "      <th>Attack_type</th>\n",
       "    </tr>\n",
       "  </thead>\n",
       "  <tbody>\n",
       "    <tr>\n",
       "      <th>0</th>\n",
       "      <td>6.0</td>\n",
       "      <td>192.168.0.152</td>\n",
       "      <td>0.0</td>\n",
       "      <td>0.0</td>\n",
       "      <td>0.0</td>\n",
       "      <td>0.0</td>\n",
       "      <td>0.0</td>\n",
       "      <td>0.0</td>\n",
       "      <td>0.0</td>\n",
       "      <td>0.0</td>\n",
       "      <td>...</td>\n",
       "      <td>0.0</td>\n",
       "      <td>0.0</td>\n",
       "      <td>0.0</td>\n",
       "      <td>0.0</td>\n",
       "      <td>0.0</td>\n",
       "      <td>0.0</td>\n",
       "      <td>0.0</td>\n",
       "      <td>0.0</td>\n",
       "      <td>1</td>\n",
       "      <td>MITM</td>\n",
       "    </tr>\n",
       "    <tr>\n",
       "      <th>1</th>\n",
       "      <td>6.0</td>\n",
       "      <td>192.168.0.101</td>\n",
       "      <td>0.0</td>\n",
       "      <td>0.0</td>\n",
       "      <td>0.0</td>\n",
       "      <td>0.0</td>\n",
       "      <td>0.0</td>\n",
       "      <td>0.0</td>\n",
       "      <td>0.0</td>\n",
       "      <td>0.0</td>\n",
       "      <td>...</td>\n",
       "      <td>0.0</td>\n",
       "      <td>0.0</td>\n",
       "      <td>0.0</td>\n",
       "      <td>0.0</td>\n",
       "      <td>0.0</td>\n",
       "      <td>0.0</td>\n",
       "      <td>0.0</td>\n",
       "      <td>0.0</td>\n",
       "      <td>1</td>\n",
       "      <td>MITM</td>\n",
       "    </tr>\n",
       "    <tr>\n",
       "      <th>2</th>\n",
       "      <td>6.0</td>\n",
       "      <td>192.168.0.152</td>\n",
       "      <td>0.0</td>\n",
       "      <td>0.0</td>\n",
       "      <td>0.0</td>\n",
       "      <td>0.0</td>\n",
       "      <td>0.0</td>\n",
       "      <td>0.0</td>\n",
       "      <td>0.0</td>\n",
       "      <td>0.0</td>\n",
       "      <td>...</td>\n",
       "      <td>0.0</td>\n",
       "      <td>0.0</td>\n",
       "      <td>0.0</td>\n",
       "      <td>0.0</td>\n",
       "      <td>0.0</td>\n",
       "      <td>0.0</td>\n",
       "      <td>0.0</td>\n",
       "      <td>0.0</td>\n",
       "      <td>1</td>\n",
       "      <td>MITM</td>\n",
       "    </tr>\n",
       "    <tr>\n",
       "      <th>3</th>\n",
       "      <td>6.0</td>\n",
       "      <td>192.168.0.101</td>\n",
       "      <td>0.0</td>\n",
       "      <td>0.0</td>\n",
       "      <td>0.0</td>\n",
       "      <td>0.0</td>\n",
       "      <td>0.0</td>\n",
       "      <td>0.0</td>\n",
       "      <td>0.0</td>\n",
       "      <td>0.0</td>\n",
       "      <td>...</td>\n",
       "      <td>0.0</td>\n",
       "      <td>0.0</td>\n",
       "      <td>0.0</td>\n",
       "      <td>0.0</td>\n",
       "      <td>0.0</td>\n",
       "      <td>0.0</td>\n",
       "      <td>0.0</td>\n",
       "      <td>0.0</td>\n",
       "      <td>1</td>\n",
       "      <td>MITM</td>\n",
       "    </tr>\n",
       "    <tr>\n",
       "      <th>4</th>\n",
       "      <td>6.0</td>\n",
       "      <td>192.168.0.152</td>\n",
       "      <td>0.0</td>\n",
       "      <td>0.0</td>\n",
       "      <td>0.0</td>\n",
       "      <td>0.0</td>\n",
       "      <td>0.0</td>\n",
       "      <td>0.0</td>\n",
       "      <td>0.0</td>\n",
       "      <td>0.0</td>\n",
       "      <td>...</td>\n",
       "      <td>0.0</td>\n",
       "      <td>0.0</td>\n",
       "      <td>0.0</td>\n",
       "      <td>0.0</td>\n",
       "      <td>0.0</td>\n",
       "      <td>0.0</td>\n",
       "      <td>0.0</td>\n",
       "      <td>0.0</td>\n",
       "      <td>1</td>\n",
       "      <td>MITM</td>\n",
       "    </tr>\n",
       "    <tr>\n",
       "      <th>...</th>\n",
       "      <td>...</td>\n",
       "      <td>...</td>\n",
       "      <td>...</td>\n",
       "      <td>...</td>\n",
       "      <td>...</td>\n",
       "      <td>...</td>\n",
       "      <td>...</td>\n",
       "      <td>...</td>\n",
       "      <td>...</td>\n",
       "      <td>...</td>\n",
       "      <td>...</td>\n",
       "      <td>...</td>\n",
       "      <td>...</td>\n",
       "      <td>...</td>\n",
       "      <td>...</td>\n",
       "      <td>...</td>\n",
       "      <td>...</td>\n",
       "      <td>...</td>\n",
       "      <td>...</td>\n",
       "      <td>...</td>\n",
       "      <td>...</td>\n",
       "    </tr>\n",
       "    <tr>\n",
       "      <th>157795</th>\n",
       "      <td>2021 23:24:32.698981000</td>\n",
       "      <td>193.152.82.43</td>\n",
       "      <td>192.168.0.128</td>\n",
       "      <td>0</td>\n",
       "      <td>0.0</td>\n",
       "      <td>0.0</td>\n",
       "      <td>0</td>\n",
       "      <td>48729.0</td>\n",
       "      <td>40690.0</td>\n",
       "      <td>0.0</td>\n",
       "      <td>...</td>\n",
       "      <td>0.0</td>\n",
       "      <td>0.0</td>\n",
       "      <td>0.0</td>\n",
       "      <td>0.0</td>\n",
       "      <td>0.0</td>\n",
       "      <td>0.0</td>\n",
       "      <td>0.0</td>\n",
       "      <td>0.0</td>\n",
       "      <td>1</td>\n",
       "      <td>DDoS_ICMP</td>\n",
       "    </tr>\n",
       "    <tr>\n",
       "      <th>157796</th>\n",
       "      <td>2021 23:24:32.699354000</td>\n",
       "      <td>253.52.1.213</td>\n",
       "      <td>192.168.0.128</td>\n",
       "      <td>0</td>\n",
       "      <td>0.0</td>\n",
       "      <td>0.0</td>\n",
       "      <td>0</td>\n",
       "      <td>45657.0</td>\n",
       "      <td>40702.0</td>\n",
       "      <td>0.0</td>\n",
       "      <td>...</td>\n",
       "      <td>0.0</td>\n",
       "      <td>0.0</td>\n",
       "      <td>0.0</td>\n",
       "      <td>0.0</td>\n",
       "      <td>0.0</td>\n",
       "      <td>0.0</td>\n",
       "      <td>0.0</td>\n",
       "      <td>0.0</td>\n",
       "      <td>1</td>\n",
       "      <td>DDoS_ICMP</td>\n",
       "    </tr>\n",
       "    <tr>\n",
       "      <th>157797</th>\n",
       "      <td>2021 23:24:32.719931000</td>\n",
       "      <td>107.155.221.49</td>\n",
       "      <td>192.168.0.128</td>\n",
       "      <td>0</td>\n",
       "      <td>0.0</td>\n",
       "      <td>0.0</td>\n",
       "      <td>0</td>\n",
       "      <td>57686.0</td>\n",
       "      <td>41423.0</td>\n",
       "      <td>0.0</td>\n",
       "      <td>...</td>\n",
       "      <td>0.0</td>\n",
       "      <td>0.0</td>\n",
       "      <td>0.0</td>\n",
       "      <td>0.0</td>\n",
       "      <td>0.0</td>\n",
       "      <td>0.0</td>\n",
       "      <td>0.0</td>\n",
       "      <td>0.0</td>\n",
       "      <td>1</td>\n",
       "      <td>DDoS_ICMP</td>\n",
       "    </tr>\n",
       "    <tr>\n",
       "      <th>157798</th>\n",
       "      <td>2021 23:24:32.752054000</td>\n",
       "      <td>77.242.58.228</td>\n",
       "      <td>192.168.0.128</td>\n",
       "      <td>0</td>\n",
       "      <td>0.0</td>\n",
       "      <td>0.0</td>\n",
       "      <td>0</td>\n",
       "      <td>9555.0</td>\n",
       "      <td>42379.0</td>\n",
       "      <td>0.0</td>\n",
       "      <td>...</td>\n",
       "      <td>0.0</td>\n",
       "      <td>0.0</td>\n",
       "      <td>0.0</td>\n",
       "      <td>0.0</td>\n",
       "      <td>0.0</td>\n",
       "      <td>0.0</td>\n",
       "      <td>0.0</td>\n",
       "      <td>0.0</td>\n",
       "      <td>1</td>\n",
       "      <td>DDoS_ICMP</td>\n",
       "    </tr>\n",
       "    <tr>\n",
       "      <th>157799</th>\n",
       "      <td>2021 23:24:32.780376000</td>\n",
       "      <td>149.40.90.151</td>\n",
       "      <td>192.168.0.128</td>\n",
       "      <td>0</td>\n",
       "      <td>0.0</td>\n",
       "      <td>0.0</td>\n",
       "      <td>0</td>\n",
       "      <td>35144.0</td>\n",
       "      <td>45095.0</td>\n",
       "      <td>0.0</td>\n",
       "      <td>...</td>\n",
       "      <td>0.0</td>\n",
       "      <td>0.0</td>\n",
       "      <td>0.0</td>\n",
       "      <td>0.0</td>\n",
       "      <td>0.0</td>\n",
       "      <td>0.0</td>\n",
       "      <td>0.0</td>\n",
       "      <td>0.0</td>\n",
       "      <td>1</td>\n",
       "      <td>DDoS_ICMP</td>\n",
       "    </tr>\n",
       "  </tbody>\n",
       "</table>\n",
       "<p>157800 rows × 63 columns</p>\n",
       "</div>"
      ],
      "text/plain": [
       "                       frame.time     ip.src_host    ip.dst_host  \\\n",
       "0                             6.0   192.168.0.152            0.0   \n",
       "1                             6.0   192.168.0.101            0.0   \n",
       "2                             6.0   192.168.0.152            0.0   \n",
       "3                             6.0   192.168.0.101            0.0   \n",
       "4                             6.0   192.168.0.152            0.0   \n",
       "...                           ...             ...            ...   \n",
       "157795   2021 23:24:32.698981000    193.152.82.43  192.168.0.128   \n",
       "157796   2021 23:24:32.699354000     253.52.1.213  192.168.0.128   \n",
       "157797   2021 23:24:32.719931000   107.155.221.49  192.168.0.128   \n",
       "157798   2021 23:24:32.752054000    77.242.58.228  192.168.0.128   \n",
       "157799   2021 23:24:32.780376000    149.40.90.151  192.168.0.128   \n",
       "\n",
       "       arp.dst.proto_ipv4  arp.opcode  arp.hw.size arp.src.proto_ipv4  \\\n",
       "0                     0.0         0.0          0.0                0.0   \n",
       "1                     0.0         0.0          0.0                0.0   \n",
       "2                     0.0         0.0          0.0                0.0   \n",
       "3                     0.0         0.0          0.0                0.0   \n",
       "4                     0.0         0.0          0.0                0.0   \n",
       "...                   ...         ...          ...                ...   \n",
       "157795                  0         0.0          0.0                  0   \n",
       "157796                  0         0.0          0.0                  0   \n",
       "157797                  0         0.0          0.0                  0   \n",
       "157798                  0         0.0          0.0                  0   \n",
       "157799                  0         0.0          0.0                  0   \n",
       "\n",
       "        icmp.checksum  icmp.seq_le  icmp.transmit_timestamp  ...  \\\n",
       "0                 0.0          0.0                      0.0  ...   \n",
       "1                 0.0          0.0                      0.0  ...   \n",
       "2                 0.0          0.0                      0.0  ...   \n",
       "3                 0.0          0.0                      0.0  ...   \n",
       "4                 0.0          0.0                      0.0  ...   \n",
       "...               ...          ...                      ...  ...   \n",
       "157795        48729.0      40690.0                      0.0  ...   \n",
       "157796        45657.0      40702.0                      0.0  ...   \n",
       "157797        57686.0      41423.0                      0.0  ...   \n",
       "157798         9555.0      42379.0                      0.0  ...   \n",
       "157799        35144.0      45095.0                      0.0  ...   \n",
       "\n",
       "        mqtt.proto_len mqtt.protoname  mqtt.topic mqtt.topic_len mqtt.ver  \\\n",
       "0                  0.0            0.0         0.0            0.0      0.0   \n",
       "1                  0.0            0.0         0.0            0.0      0.0   \n",
       "2                  0.0            0.0         0.0            0.0      0.0   \n",
       "3                  0.0            0.0         0.0            0.0      0.0   \n",
       "4                  0.0            0.0         0.0            0.0      0.0   \n",
       "...                ...            ...         ...            ...      ...   \n",
       "157795             0.0            0.0         0.0            0.0      0.0   \n",
       "157796             0.0            0.0         0.0            0.0      0.0   \n",
       "157797             0.0            0.0         0.0            0.0      0.0   \n",
       "157798             0.0            0.0         0.0            0.0      0.0   \n",
       "157799             0.0            0.0         0.0            0.0      0.0   \n",
       "\n",
       "       mbtcp.len mbtcp.trans_id mbtcp.unit_id  Attack_label  Attack_type  \n",
       "0            0.0            0.0           0.0             1         MITM  \n",
       "1            0.0            0.0           0.0             1         MITM  \n",
       "2            0.0            0.0           0.0             1         MITM  \n",
       "3            0.0            0.0           0.0             1         MITM  \n",
       "4            0.0            0.0           0.0             1         MITM  \n",
       "...          ...            ...           ...           ...          ...  \n",
       "157795       0.0            0.0           0.0             1    DDoS_ICMP  \n",
       "157796       0.0            0.0           0.0             1    DDoS_ICMP  \n",
       "157797       0.0            0.0           0.0             1    DDoS_ICMP  \n",
       "157798       0.0            0.0           0.0             1    DDoS_ICMP  \n",
       "157799       0.0            0.0           0.0             1    DDoS_ICMP  \n",
       "\n",
       "[157800 rows x 63 columns]"
      ]
     },
     "execution_count": 158,
     "metadata": {},
     "output_type": "execute_result"
    }
   ],
   "source": [
    "df8 = pd.read_csv('ML-EdgeIIoT-dataset.csv')\n",
    "df8"
   ]
  },
  {
   "cell_type": "code",
   "execution_count": 159,
   "id": "59d4b726",
   "metadata": {},
   "outputs": [],
   "source": [
    "df8['frame.time'] = pd.to_datetime(df8['frame.time'], errors='coerce')\n",
    "\n"
   ]
  },
  {
   "cell_type": "code",
   "execution_count": 160,
   "id": "b416593b",
   "metadata": {},
   "outputs": [],
   "source": [
    "df8['hour'] = df8['frame.time'].dt.hour\n",
    "df8['day'] = df8['frame.time'].dt.day\n",
    "df8['month'] = df8['frame.time'].dt.month\n",
    "df8['year'] = df8['frame.time'].dt.year\n"
   ]
  },
  {
   "cell_type": "code",
   "execution_count": 162,
   "id": "2a3ef402",
   "metadata": {},
   "outputs": [],
   "source": [
    "df8.fillna(0, inplace=True)\n"
   ]
  },
  {
   "cell_type": "code",
   "execution_count": 164,
   "id": "9118b320",
   "metadata": {},
   "outputs": [],
   "source": [
    "encoder = LabelEncoder()\n",
    "df8['Attack_label_encoded'] = encoder.fit_transform(df8['Attack_label'])\n"
   ]
  },
  {
   "cell_type": "code",
   "execution_count": 166,
   "id": "2579e41e",
   "metadata": {},
   "outputs": [],
   "source": [
    "X = df8[['hour', 'day', 'month', 'year']]\n",
    "y = df8['Attack_label_encoded']"
   ]
  },
  {
   "cell_type": "code",
   "execution_count": 167,
   "id": "c5375de3",
   "metadata": {},
   "outputs": [],
   "source": [
    "scaler = MinMaxScaler()\n",
    "X_scaled = scaler.fit_transform(X)\n",
    "\n",
    "\n",
    "X_train, X_test, y_train, y_test = train_test_split(X_scaled, y, test_size=0.2, random_state=42)\n"
   ]
  },
  {
   "cell_type": "code",
   "execution_count": 168,
   "id": "282f3972",
   "metadata": {},
   "outputs": [],
   "source": [
    "model = xgb.XGBClassifier()"
   ]
  },
  {
   "cell_type": "code",
   "execution_count": 169,
   "id": "e7a044e3",
   "metadata": {},
   "outputs": [
    {
     "data": {
      "text/plain": [
       "XGBClassifier(base_score=None, booster=None, callbacks=None,\n",
       "              colsample_bylevel=None, colsample_bynode=None,\n",
       "              colsample_bytree=None, early_stopping_rounds=None,\n",
       "              enable_categorical=False, eval_metric=None, feature_types=None,\n",
       "              gamma=None, gpu_id=None, grow_policy=None, importance_type=None,\n",
       "              interaction_constraints=None, learning_rate=None, max_bin=None,\n",
       "              max_cat_threshold=None, max_cat_to_onehot=None,\n",
       "              max_delta_step=None, max_depth=None, max_leaves=None,\n",
       "              min_child_weight=None, missing=nan, monotone_constraints=None,\n",
       "              n_estimators=100, n_jobs=None, num_parallel_tree=None,\n",
       "              predictor=None, random_state=None, ...)"
      ]
     },
     "execution_count": 169,
     "metadata": {},
     "output_type": "execute_result"
    }
   ],
   "source": [
    "model.fit(X_train, y_train)"
   ]
  },
  {
   "cell_type": "code",
   "execution_count": 170,
   "id": "3ef7f928",
   "metadata": {},
   "outputs": [],
   "source": [
    "y_pred = model.predict(X_test)"
   ]
  },
  {
   "cell_type": "code",
   "execution_count": 172,
   "id": "2cd456b9",
   "metadata": {},
   "outputs": [
    {
     "name": "stdout",
     "output_type": "stream",
     "text": [
      "Confusion Matrix:\n",
      "[[ 1220  3765]\n",
      " [  370 26205]]\n",
      "Accuracy: 0.868979721166033\n",
      "F1-score: 0.9268724025112742\n",
      "Recall: 0.9860771401693321\n",
      "Precision: 0.8743743743743744\n"
     ]
    }
   ],
   "source": [
    "cm = confusion_matrix(y_test, y_pred)\n",
    "print(\"Confusion Matrix:\")\n",
    "print(cm)\n",
    "\n",
    "accuracy = accuracy_score(y_test, y_pred)\n",
    "print(\"Accuracy:\", accuracy)\n",
    "\n",
    "\n",
    "f1 = f1_score(y_test, y_pred)\n",
    "print(\"F1-score:\", f1)\n",
    "\n",
    "recall = recall_score(y_test, y_pred)\n",
    "print(\"Recall:\", recall)\n",
    "\n",
    "\n",
    "precision = precision_score(y_test, y_pred)\n",
    "print(\"Precision:\", precision)\n"
   ]
  },
  {
   "cell_type": "code",
   "execution_count": 173,
   "id": "04c2f4c8",
   "metadata": {},
   "outputs": [],
   "source": [
    "fpr, tpr, thresholds = roc_curve(y_test, y_pred)\n",
    "roc_auc = auc(fpr, tpr)"
   ]
  },
  {
   "cell_type": "code",
   "execution_count": 174,
   "id": "3652ef66",
   "metadata": {},
   "outputs": [
    {
     "data": {
      "image/png": "[encoded data removed]",
      "text/plain": [
       "<Figure size 640x480 with 1 Axes>"
      ]
     },
     "metadata": {},
     "output_type": "display_data"
    }
   ],
   "source": [
    "plt.figure()\n",
    "plt.plot(fpr, tpr, color='darkorange', lw=2, label='ROC curve (area = %0.2f)' % roc_auc)\n",
    "plt.plot([0, 1], [0, 1], color='navy', lw=2, linestyle='--')\n",
    "plt.xlim([0.0, 1.0])\n",
    "plt.ylim([0.0, 1.05])\n",
    "plt.xlabel('False Positive Rate')\n",
    "plt.ylabel('True Positive Rate')\n",
    "plt.title('Receiver Operating Characteristic')\n",
    "plt.legend(loc=\"lower right\")\n",
    "plt.show()\n"
   ]
  },
  {
   "cell_type": "markdown",
   "id": "11f72825",
   "metadata": {},
   "source": [
    "# Stochastic Gradient Descent (SGD)"
   ]
  },
  {
   "cell_type": "code",
   "execution_count": 175,
   "id": "f0785366",
   "metadata": {},
   "outputs": [],
   "source": [
    "import pandas as pd\n",
    "from sklearn.linear_model import SGDClassifier\n",
    "from sklearn.model_selection import train_test_split\n",
    "from sklearn.preprocessing import LabelEncoder, StandardScaler\n",
    "from sklearn.metrics import confusion_matrix, accuracy_score, f1_score, recall_score, precision_score, roc_curve, auc\n",
    "import matplotlib.pyplot as plt"
   ]
  },
  {
   "cell_type": "code",
   "execution_count": 177,
   "id": "632668ea",
   "metadata": {},
   "outputs": [
    {
     "name": "stderr",
     "output_type": "stream",
     "text": [
      "C:\\Users\\Admin\\AppData\\Local\\Temp\\ipykernel_17244\\450555776.py:1: DtypeWarning: Columns (3,6,11,13,14,15,16,17,31,32,34,39,45,51,54,55) have mixed types. Specify dtype option on import or set low_memory=False.\n",
      "  df9 = pd.read_csv('ML-EdgeIIoT-dataset.csv')\n"
     ]
    },
    {
     "data": {
      "text/html": [
       "<div>\n",
       "<style scoped>\n",
       "    .dataframe tbody tr th:only-of-type {\n",
       "        vertical-align: middle;\n",
       "    }\n",
       "\n",
       "    .dataframe tbody tr th {\n",
       "        vertical-align: top;\n",
       "    }\n",
       "\n",
       "    .dataframe thead th {\n",
       "        text-align: right;\n",
       "    }\n",
       "</style>\n",
       "<table border=\"1\" class=\"dataframe\">\n",
       "  <thead>\n",
       "    <tr style=\"text-align: right;\">\n",
       "      <th></th>\n",
       "      <th>frame.time</th>\n",
       "      <th>ip.src_host</th>\n",
       "      <th>ip.dst_host</th>\n",
       "      <th>arp.dst.proto_ipv4</th>\n",
       "      <th>arp.opcode</th>\n",
       "      <th>arp.hw.size</th>\n",
       "      <th>arp.src.proto_ipv4</th>\n",
       "      <th>icmp.checksum</th>\n",
       "      <th>icmp.seq_le</th>\n",
       "      <th>icmp.transmit_timestamp</th>\n",
       "      <th>...</th>\n",
       "      <th>mqtt.proto_len</th>\n",
       "      <th>mqtt.protoname</th>\n",
       "      <th>mqtt.topic</th>\n",
       "      <th>mqtt.topic_len</th>\n",
       "      <th>mqtt.ver</th>\n",
       "      <th>mbtcp.len</th>\n",
       "      <th>mbtcp.trans_id</th>\n",
       "      <th>mbtcp.unit_id</th>\n",
       "      <th>Attack_label</th>\n",
       "      <th>Attack_type</th>\n",
       "    </tr>\n",
       "  </thead>\n",
       "  <tbody>\n",
       "    <tr>\n",
       "      <th>0</th>\n",
       "      <td>6.0</td>\n",
       "      <td>192.168.0.152</td>\n",
       "      <td>0.0</td>\n",
       "      <td>0.0</td>\n",
       "      <td>0.0</td>\n",
       "      <td>0.0</td>\n",
       "      <td>0.0</td>\n",
       "      <td>0.0</td>\n",
       "      <td>0.0</td>\n",
       "      <td>0.0</td>\n",
       "      <td>...</td>\n",
       "      <td>0.0</td>\n",
       "      <td>0.0</td>\n",
       "      <td>0.0</td>\n",
       "      <td>0.0</td>\n",
       "      <td>0.0</td>\n",
       "      <td>0.0</td>\n",
       "      <td>0.0</td>\n",
       "      <td>0.0</td>\n",
       "      <td>1</td>\n",
       "      <td>MITM</td>\n",
       "    </tr>\n",
       "    <tr>\n",
       "      <th>1</th>\n",
       "      <td>6.0</td>\n",
       "      <td>192.168.0.101</td>\n",
       "      <td>0.0</td>\n",
       "      <td>0.0</td>\n",
       "      <td>0.0</td>\n",
       "      <td>0.0</td>\n",
       "      <td>0.0</td>\n",
       "      <td>0.0</td>\n",
       "      <td>0.0</td>\n",
       "      <td>0.0</td>\n",
       "      <td>...</td>\n",
       "      <td>0.0</td>\n",
       "      <td>0.0</td>\n",
       "      <td>0.0</td>\n",
       "      <td>0.0</td>\n",
       "      <td>0.0</td>\n",
       "      <td>0.0</td>\n",
       "      <td>0.0</td>\n",
       "      <td>0.0</td>\n",
       "      <td>1</td>\n",
       "      <td>MITM</td>\n",
       "    </tr>\n",
       "    <tr>\n",
       "      <th>2</th>\n",
       "      <td>6.0</td>\n",
       "      <td>192.168.0.152</td>\n",
       "      <td>0.0</td>\n",
       "      <td>0.0</td>\n",
       "      <td>0.0</td>\n",
       "      <td>0.0</td>\n",
       "      <td>0.0</td>\n",
       "      <td>0.0</td>\n",
       "      <td>0.0</td>\n",
       "      <td>0.0</td>\n",
       "      <td>...</td>\n",
       "      <td>0.0</td>\n",
       "      <td>0.0</td>\n",
       "      <td>0.0</td>\n",
       "      <td>0.0</td>\n",
       "      <td>0.0</td>\n",
       "      <td>0.0</td>\n",
       "      <td>0.0</td>\n",
       "      <td>0.0</td>\n",
       "      <td>1</td>\n",
       "      <td>MITM</td>\n",
       "    </tr>\n",
       "    <tr>\n",
       "      <th>3</th>\n",
       "      <td>6.0</td>\n",
       "      <td>192.168.0.101</td>\n",
       "      <td>0.0</td>\n",
       "      <td>0.0</td>\n",
       "      <td>0.0</td>\n",
       "      <td>0.0</td>\n",
       "      <td>0.0</td>\n",
       "      <td>0.0</td>\n",
       "      <td>0.0</td>\n",
       "      <td>0.0</td>\n",
       "      <td>...</td>\n",
       "      <td>0.0</td>\n",
       "      <td>0.0</td>\n",
       "      <td>0.0</td>\n",
       "      <td>0.0</td>\n",
       "      <td>0.0</td>\n",
       "      <td>0.0</td>\n",
       "      <td>0.0</td>\n",
       "      <td>0.0</td>\n",
       "      <td>1</td>\n",
       "      <td>MITM</td>\n",
       "    </tr>\n",
       "    <tr>\n",
       "      <th>4</th>\n",
       "      <td>6.0</td>\n",
       "      <td>192.168.0.152</td>\n",
       "      <td>0.0</td>\n",
       "      <td>0.0</td>\n",
       "      <td>0.0</td>\n",
       "      <td>0.0</td>\n",
       "      <td>0.0</td>\n",
       "      <td>0.0</td>\n",
       "      <td>0.0</td>\n",
       "      <td>0.0</td>\n",
       "      <td>...</td>\n",
       "      <td>0.0</td>\n",
       "      <td>0.0</td>\n",
       "      <td>0.0</td>\n",
       "      <td>0.0</td>\n",
       "      <td>0.0</td>\n",
       "      <td>0.0</td>\n",
       "      <td>0.0</td>\n",
       "      <td>0.0</td>\n",
       "      <td>1</td>\n",
       "      <td>MITM</td>\n",
       "    </tr>\n",
       "    <tr>\n",
       "      <th>...</th>\n",
       "      <td>...</td>\n",
       "      <td>...</td>\n",
       "      <td>...</td>\n",
       "      <td>...</td>\n",
       "      <td>...</td>\n",
       "      <td>...</td>\n",
       "      <td>...</td>\n",
       "      <td>...</td>\n",
       "      <td>...</td>\n",
       "      <td>...</td>\n",
       "      <td>...</td>\n",
       "      <td>...</td>\n",
       "      <td>...</td>\n",
       "      <td>...</td>\n",
       "      <td>...</td>\n",
       "      <td>...</td>\n",
       "      <td>...</td>\n",
       "      <td>...</td>\n",
       "      <td>...</td>\n",
       "      <td>...</td>\n",
       "      <td>...</td>\n",
       "    </tr>\n",
       "    <tr>\n",
       "      <th>157795</th>\n",
       "      <td>2021 23:24:32.698981000</td>\n",
       "      <td>193.152.82.43</td>\n",
       "      <td>192.168.0.128</td>\n",
       "      <td>0</td>\n",
       "      <td>0.0</td>\n",
       "      <td>0.0</td>\n",
       "      <td>0</td>\n",
       "      <td>48729.0</td>\n",
       "      <td>40690.0</td>\n",
       "      <td>0.0</td>\n",
       "      <td>...</td>\n",
       "      <td>0.0</td>\n",
       "      <td>0.0</td>\n",
       "      <td>0.0</td>\n",
       "      <td>0.0</td>\n",
       "      <td>0.0</td>\n",
       "      <td>0.0</td>\n",
       "      <td>0.0</td>\n",
       "      <td>0.0</td>\n",
       "      <td>1</td>\n",
       "      <td>DDoS_ICMP</td>\n",
       "    </tr>\n",
       "    <tr>\n",
       "      <th>157796</th>\n",
       "      <td>2021 23:24:32.699354000</td>\n",
       "      <td>253.52.1.213</td>\n",
       "      <td>192.168.0.128</td>\n",
       "      <td>0</td>\n",
       "      <td>0.0</td>\n",
       "      <td>0.0</td>\n",
       "      <td>0</td>\n",
       "      <td>45657.0</td>\n",
       "      <td>40702.0</td>\n",
       "      <td>0.0</td>\n",
       "      <td>...</td>\n",
       "      <td>0.0</td>\n",
       "      <td>0.0</td>\n",
       "      <td>0.0</td>\n",
       "      <td>0.0</td>\n",
       "      <td>0.0</td>\n",
       "      <td>0.0</td>\n",
       "      <td>0.0</td>\n",
       "      <td>0.0</td>\n",
       "      <td>1</td>\n",
       "      <td>DDoS_ICMP</td>\n",
       "    </tr>\n",
       "    <tr>\n",
       "      <th>157797</th>\n",
       "      <td>2021 23:24:32.719931000</td>\n",
       "      <td>107.155.221.49</td>\n",
       "      <td>192.168.0.128</td>\n",
       "      <td>0</td>\n",
       "      <td>0.0</td>\n",
       "      <td>0.0</td>\n",
       "      <td>0</td>\n",
       "      <td>57686.0</td>\n",
       "      <td>41423.0</td>\n",
       "      <td>0.0</td>\n",
       "      <td>...</td>\n",
       "      <td>0.0</td>\n",
       "      <td>0.0</td>\n",
       "      <td>0.0</td>\n",
       "      <td>0.0</td>\n",
       "      <td>0.0</td>\n",
       "      <td>0.0</td>\n",
       "      <td>0.0</td>\n",
       "      <td>0.0</td>\n",
       "      <td>1</td>\n",
       "      <td>DDoS_ICMP</td>\n",
       "    </tr>\n",
       "    <tr>\n",
       "      <th>157798</th>\n",
       "      <td>2021 23:24:32.752054000</td>\n",
       "      <td>77.242.58.228</td>\n",
       "      <td>192.168.0.128</td>\n",
       "      <td>0</td>\n",
       "      <td>0.0</td>\n",
       "      <td>0.0</td>\n",
       "      <td>0</td>\n",
       "      <td>9555.0</td>\n",
       "      <td>42379.0</td>\n",
       "      <td>0.0</td>\n",
       "      <td>...</td>\n",
       "      <td>0.0</td>\n",
       "      <td>0.0</td>\n",
       "      <td>0.0</td>\n",
       "      <td>0.0</td>\n",
       "      <td>0.0</td>\n",
       "      <td>0.0</td>\n",
       "      <td>0.0</td>\n",
       "      <td>0.0</td>\n",
       "      <td>1</td>\n",
       "      <td>DDoS_ICMP</td>\n",
       "    </tr>\n",
       "    <tr>\n",
       "      <th>157799</th>\n",
       "      <td>2021 23:24:32.780376000</td>\n",
       "      <td>149.40.90.151</td>\n",
       "      <td>192.168.0.128</td>\n",
       "      <td>0</td>\n",
       "      <td>0.0</td>\n",
       "      <td>0.0</td>\n",
       "      <td>0</td>\n",
       "      <td>35144.0</td>\n",
       "      <td>45095.0</td>\n",
       "      <td>0.0</td>\n",
       "      <td>...</td>\n",
       "      <td>0.0</td>\n",
       "      <td>0.0</td>\n",
       "      <td>0.0</td>\n",
       "      <td>0.0</td>\n",
       "      <td>0.0</td>\n",
       "      <td>0.0</td>\n",
       "      <td>0.0</td>\n",
       "      <td>0.0</td>\n",
       "      <td>1</td>\n",
       "      <td>DDoS_ICMP</td>\n",
       "    </tr>\n",
       "  </tbody>\n",
       "</table>\n",
       "<p>157800 rows × 63 columns</p>\n",
       "</div>"
      ],
      "text/plain": [
       "                       frame.time     ip.src_host    ip.dst_host  \\\n",
       "0                             6.0   192.168.0.152            0.0   \n",
       "1                             6.0   192.168.0.101            0.0   \n",
       "2                             6.0   192.168.0.152            0.0   \n",
       "3                             6.0   192.168.0.101            0.0   \n",
       "4                             6.0   192.168.0.152            0.0   \n",
       "...                           ...             ...            ...   \n",
       "157795   2021 23:24:32.698981000    193.152.82.43  192.168.0.128   \n",
       "157796   2021 23:24:32.699354000     253.52.1.213  192.168.0.128   \n",
       "157797   2021 23:24:32.719931000   107.155.221.49  192.168.0.128   \n",
       "157798   2021 23:24:32.752054000    77.242.58.228  192.168.0.128   \n",
       "157799   2021 23:24:32.780376000    149.40.90.151  192.168.0.128   \n",
       "\n",
       "       arp.dst.proto_ipv4  arp.opcode  arp.hw.size arp.src.proto_ipv4  \\\n",
       "0                     0.0         0.0          0.0                0.0   \n",
       "1                     0.0         0.0          0.0                0.0   \n",
       "2                     0.0         0.0          0.0                0.0   \n",
       "3                     0.0         0.0          0.0                0.0   \n",
       "4                     0.0         0.0          0.0                0.0   \n",
       "...                   ...         ...          ...                ...   \n",
       "157795                  0         0.0          0.0                  0   \n",
       "157796                  0         0.0          0.0                  0   \n",
       "157797                  0         0.0          0.0                  0   \n",
       "157798                  0         0.0          0.0                  0   \n",
       "157799                  0         0.0          0.0                  0   \n",
       "\n",
       "        icmp.checksum  icmp.seq_le  icmp.transmit_timestamp  ...  \\\n",
       "0                 0.0          0.0                      0.0  ...   \n",
       "1                 0.0          0.0                      0.0  ...   \n",
       "2                 0.0          0.0                      0.0  ...   \n",
       "3                 0.0          0.0                      0.0  ...   \n",
       "4                 0.0          0.0                      0.0  ...   \n",
       "...               ...          ...                      ...  ...   \n",
       "157795        48729.0      40690.0                      0.0  ...   \n",
       "157796        45657.0      40702.0                      0.0  ...   \n",
       "157797        57686.0      41423.0                      0.0  ...   \n",
       "157798         9555.0      42379.0                      0.0  ...   \n",
       "157799        35144.0      45095.0                      0.0  ...   \n",
       "\n",
       "        mqtt.proto_len mqtt.protoname  mqtt.topic mqtt.topic_len mqtt.ver  \\\n",
       "0                  0.0            0.0         0.0            0.0      0.0   \n",
       "1                  0.0            0.0         0.0            0.0      0.0   \n",
       "2                  0.0            0.0         0.0            0.0      0.0   \n",
       "3                  0.0            0.0         0.0            0.0      0.0   \n",
       "4                  0.0            0.0         0.0            0.0      0.0   \n",
       "...                ...            ...         ...            ...      ...   \n",
       "157795             0.0            0.0         0.0            0.0      0.0   \n",
       "157796             0.0            0.0         0.0            0.0      0.0   \n",
       "157797             0.0            0.0         0.0            0.0      0.0   \n",
       "157798             0.0            0.0         0.0            0.0      0.0   \n",
       "157799             0.0            0.0         0.0            0.0      0.0   \n",
       "\n",
       "       mbtcp.len mbtcp.trans_id mbtcp.unit_id  Attack_label  Attack_type  \n",
       "0            0.0            0.0           0.0             1         MITM  \n",
       "1            0.0            0.0           0.0             1         MITM  \n",
       "2            0.0            0.0           0.0             1         MITM  \n",
       "3            0.0            0.0           0.0             1         MITM  \n",
       "4            0.0            0.0           0.0             1         MITM  \n",
       "...          ...            ...           ...           ...          ...  \n",
       "157795       0.0            0.0           0.0             1    DDoS_ICMP  \n",
       "157796       0.0            0.0           0.0             1    DDoS_ICMP  \n",
       "157797       0.0            0.0           0.0             1    DDoS_ICMP  \n",
       "157798       0.0            0.0           0.0             1    DDoS_ICMP  \n",
       "157799       0.0            0.0           0.0             1    DDoS_ICMP  \n",
       "\n",
       "[157800 rows x 63 columns]"
      ]
     },
     "execution_count": 177,
     "metadata": {},
     "output_type": "execute_result"
    }
   ],
   "source": [
    "df9 = pd.read_csv('ML-EdgeIIoT-dataset.csv')\n",
    "df9"
   ]
  },
  {
   "cell_type": "code",
   "execution_count": 179,
   "id": "d36caec7",
   "metadata": {},
   "outputs": [],
   "source": [
    "df9['frame.time'] = pd.to_datetime(df9['frame.time'], errors='coerce')\n"
   ]
  },
  {
   "cell_type": "code",
   "execution_count": 181,
   "id": "2616a967",
   "metadata": {},
   "outputs": [],
   "source": [
    "df9['hour'] = df9['frame.time'].dt.hour\n",
    "df9['day'] = df9['frame.time'].dt.day\n",
    "df9['month'] = df9['frame.time'].dt.month\n",
    "df9['year'] = df9['frame.time'].dt.year\n"
   ]
  },
  {
   "cell_type": "code",
   "execution_count": 183,
   "id": "3eaa4930",
   "metadata": {},
   "outputs": [],
   "source": [
    "df9.fillna(0, inplace=True)"
   ]
  },
  {
   "cell_type": "code",
   "execution_count": 184,
   "id": "7050cf3d",
   "metadata": {},
   "outputs": [],
   "source": [
    "encoder = LabelEncoder()\n",
    "df9['Attack_label_encoded'] = encoder.fit_transform(df9['Attack_label'])\n"
   ]
  },
  {
   "cell_type": "code",
   "execution_count": 185,
   "id": "d0ecee77",
   "metadata": {},
   "outputs": [],
   "source": [
    "X = df9[['hour', 'day', 'month', 'year']]\n",
    "y = df9['Attack_label_encoded']"
   ]
  },
  {
   "cell_type": "code",
   "execution_count": 186,
   "id": "75899928",
   "metadata": {},
   "outputs": [],
   "source": [
    "scaler = StandardScaler()\n",
    "X_scaled = scaler.fit_transform(X)"
   ]
  },
  {
   "cell_type": "code",
   "execution_count": 187,
   "id": "5441a537",
   "metadata": {},
   "outputs": [],
   "source": [
    "X_train, X_test, y_train, y_test = train_test_split(X_scaled, y, test_size=0.2, random_state=42)"
   ]
  },
  {
   "cell_type": "code",
   "execution_count": 188,
   "id": "ee761e93",
   "metadata": {},
   "outputs": [],
   "source": [
    "model = SGDClassifier()"
   ]
  },
  {
   "cell_type": "code",
   "execution_count": 189,
   "id": "0dc5c3bc",
   "metadata": {},
   "outputs": [
    {
     "data": {
      "text/plain": [
       "SGDClassifier()"
      ]
     },
     "execution_count": 189,
     "metadata": {},
     "output_type": "execute_result"
    }
   ],
   "source": [
    "model.fit(X_train, y_train)\n"
   ]
  },
  {
   "cell_type": "code",
   "execution_count": 190,
   "id": "7be7f23e",
   "metadata": {},
   "outputs": [],
   "source": [
    "y_pred = model.predict(X_test)"
   ]
  },
  {
   "cell_type": "code",
   "execution_count": 191,
   "id": "e59deeda",
   "metadata": {},
   "outputs": [
    {
     "name": "stdout",
     "output_type": "stream",
     "text": [
      "Confusion Matrix:\n",
      "[[    0  4985]\n",
      " [    0 26575]]\n",
      "F1-score: 0.9142513116023049\n",
      "Recall: 1.0\n",
      "Precision: 0.8420468948035488\n"
     ]
    }
   ],
   "source": [
    "cm = confusion_matrix(y_test, y_pred)\n",
    "print(\"Confusion Matrix:\")\n",
    "print(cm)\n",
    "\n",
    "\n",
    "f1 = f1_score(y_test, y_pred)\n",
    "print(\"F1-score:\", f1)\n",
    "\n",
    "recall = recall_score(y_test, y_pred)\n",
    "print(\"Recall:\", recall)\n",
    "\n",
    "precision = precision_score(y_test, y_pred)\n",
    "print(\"Precision:\", precision)"
   ]
  },
  {
   "cell_type": "code",
   "execution_count": 192,
   "id": "b391ab54",
   "metadata": {},
   "outputs": [],
   "source": [
    "fpr, tpr, thresholds = roc_curve(y_test, y_pred)\n",
    "roc_auc = auc(fpr, tpr)"
   ]
  },
  {
   "cell_type": "code",
   "execution_count": 193,
   "id": "6ee15b32",
   "metadata": {},
   "outputs": [
    {
     "data": {
      "image/png": "[encoded data removed]",
      "text/plain": [
       "<Figure size 640x480 with 1 Axes>"
      ]
     },
     "metadata": {},
     "output_type": "display_data"
    }
   ],
   "source": [
    "plt.figure()\n",
    "plt.plot(fpr, tpr, color='darkorange', lw=2, label='ROC curve (area = %0.2f)' % roc_auc)\n",
    "plt.plot([0, 1], [0, 1], color='navy', lw=2, linestyle='--')\n",
    "plt.xlim([0.0, 1.0])\n",
    "plt.ylim([0.0, 1.05])\n",
    "plt.xlabel('False Positive Rate')\n",
    "plt.ylabel('True Positive Rate')\n",
    "plt.title('Receiver Operating Characteristic')\n",
    "plt.legend(loc=\"lower right\")\n",
    "plt.show()"
   ]
  },
  {
   "cell_type": "markdown",
   "id": "b6c5a0cb",
   "metadata": {},
   "source": [
    "# ANN"
   ]
  },
  {
   "cell_type": "code",
   "execution_count": 194,
   "id": "7940edc1",
   "metadata": {},
   "outputs": [],
   "source": [
    "import pandas as pd\n",
    "from sklearn.model_selection import train_test_split\n",
    "from sklearn.preprocessing import LabelEncoder, StandardScaler\n",
    "from sklearn.metrics import confusion_matrix, accuracy_score, f1_score, recall_score, precision_score, roc_curve, auc\n",
    "from tensorflow import keras\n",
    "from tensorflow.keras import layers\n",
    "import matplotlib.pyplot as plt"
   ]
  },
  {
   "cell_type": "code",
   "execution_count": 195,
   "id": "ac380ee7",
   "metadata": {},
   "outputs": [
    {
     "name": "stderr",
     "output_type": "stream",
     "text": [
      "C:\\Users\\Admin\\AppData\\Local\\Temp\\ipykernel_17244\\435255071.py:1: DtypeWarning: Columns (3,6,11,13,14,15,16,17,31,32,34,39,45,51,54,55) have mixed types. Specify dtype option on import or set low_memory=False.\n",
      "  df10 = pd.read_csv('ML-EdgeIIoT-dataset.csv')\n"
     ]
    },
    {
     "data": {
      "text/html": [
       "<div>\n",
       "<style scoped>\n",
       "    .dataframe tbody tr th:only-of-type {\n",
       "        vertical-align: middle;\n",
       "    }\n",
       "\n",
       "    .dataframe tbody tr th {\n",
       "        vertical-align: top;\n",
       "    }\n",
       "\n",
       "    .dataframe thead th {\n",
       "        text-align: right;\n",
       "    }\n",
       "</style>\n",
       "<table border=\"1\" class=\"dataframe\">\n",
       "  <thead>\n",
       "    <tr style=\"text-align: right;\">\n",
       "      <th></th>\n",
       "      <th>frame.time</th>\n",
       "      <th>ip.src_host</th>\n",
       "      <th>ip.dst_host</th>\n",
       "      <th>arp.dst.proto_ipv4</th>\n",
       "      <th>arp.opcode</th>\n",
       "      <th>arp.hw.size</th>\n",
       "      <th>arp.src.proto_ipv4</th>\n",
       "      <th>icmp.checksum</th>\n",
       "      <th>icmp.seq_le</th>\n",
       "      <th>icmp.transmit_timestamp</th>\n",
       "      <th>...</th>\n",
       "      <th>mqtt.proto_len</th>\n",
       "      <th>mqtt.protoname</th>\n",
       "      <th>mqtt.topic</th>\n",
       "      <th>mqtt.topic_len</th>\n",
       "      <th>mqtt.ver</th>\n",
       "      <th>mbtcp.len</th>\n",
       "      <th>mbtcp.trans_id</th>\n",
       "      <th>mbtcp.unit_id</th>\n",
       "      <th>Attack_label</th>\n",
       "      <th>Attack_type</th>\n",
       "    </tr>\n",
       "  </thead>\n",
       "  <tbody>\n",
       "    <tr>\n",
       "      <th>0</th>\n",
       "      <td>6.0</td>\n",
       "      <td>192.168.0.152</td>\n",
       "      <td>0.0</td>\n",
       "      <td>0.0</td>\n",
       "      <td>0.0</td>\n",
       "      <td>0.0</td>\n",
       "      <td>0.0</td>\n",
       "      <td>0.0</td>\n",
       "      <td>0.0</td>\n",
       "      <td>0.0</td>\n",
       "      <td>...</td>\n",
       "      <td>0.0</td>\n",
       "      <td>0.0</td>\n",
       "      <td>0.0</td>\n",
       "      <td>0.0</td>\n",
       "      <td>0.0</td>\n",
       "      <td>0.0</td>\n",
       "      <td>0.0</td>\n",
       "      <td>0.0</td>\n",
       "      <td>1</td>\n",
       "      <td>MITM</td>\n",
       "    </tr>\n",
       "    <tr>\n",
       "      <th>1</th>\n",
       "      <td>6.0</td>\n",
       "      <td>192.168.0.101</td>\n",
       "      <td>0.0</td>\n",
       "      <td>0.0</td>\n",
       "      <td>0.0</td>\n",
       "      <td>0.0</td>\n",
       "      <td>0.0</td>\n",
       "      <td>0.0</td>\n",
       "      <td>0.0</td>\n",
       "      <td>0.0</td>\n",
       "      <td>...</td>\n",
       "      <td>0.0</td>\n",
       "      <td>0.0</td>\n",
       "      <td>0.0</td>\n",
       "      <td>0.0</td>\n",
       "      <td>0.0</td>\n",
       "      <td>0.0</td>\n",
       "      <td>0.0</td>\n",
       "      <td>0.0</td>\n",
       "      <td>1</td>\n",
       "      <td>MITM</td>\n",
       "    </tr>\n",
       "    <tr>\n",
       "      <th>2</th>\n",
       "      <td>6.0</td>\n",
       "      <td>192.168.0.152</td>\n",
       "      <td>0.0</td>\n",
       "      <td>0.0</td>\n",
       "      <td>0.0</td>\n",
       "      <td>0.0</td>\n",
       "      <td>0.0</td>\n",
       "      <td>0.0</td>\n",
       "      <td>0.0</td>\n",
       "      <td>0.0</td>\n",
       "      <td>...</td>\n",
       "      <td>0.0</td>\n",
       "      <td>0.0</td>\n",
       "      <td>0.0</td>\n",
       "      <td>0.0</td>\n",
       "      <td>0.0</td>\n",
       "      <td>0.0</td>\n",
       "      <td>0.0</td>\n",
       "      <td>0.0</td>\n",
       "      <td>1</td>\n",
       "      <td>MITM</td>\n",
       "    </tr>\n",
       "    <tr>\n",
       "      <th>3</th>\n",
       "      <td>6.0</td>\n",
       "      <td>192.168.0.101</td>\n",
       "      <td>0.0</td>\n",
       "      <td>0.0</td>\n",
       "      <td>0.0</td>\n",
       "      <td>0.0</td>\n",
       "      <td>0.0</td>\n",
       "      <td>0.0</td>\n",
       "      <td>0.0</td>\n",
       "      <td>0.0</td>\n",
       "      <td>...</td>\n",
       "      <td>0.0</td>\n",
       "      <td>0.0</td>\n",
       "      <td>0.0</td>\n",
       "      <td>0.0</td>\n",
       "      <td>0.0</td>\n",
       "      <td>0.0</td>\n",
       "      <td>0.0</td>\n",
       "      <td>0.0</td>\n",
       "      <td>1</td>\n",
       "      <td>MITM</td>\n",
       "    </tr>\n",
       "    <tr>\n",
       "      <th>4</th>\n",
       "      <td>6.0</td>\n",
       "      <td>192.168.0.152</td>\n",
       "      <td>0.0</td>\n",
       "      <td>0.0</td>\n",
       "      <td>0.0</td>\n",
       "      <td>0.0</td>\n",
       "      <td>0.0</td>\n",
       "      <td>0.0</td>\n",
       "      <td>0.0</td>\n",
       "      <td>0.0</td>\n",
       "      <td>...</td>\n",
       "      <td>0.0</td>\n",
       "      <td>0.0</td>\n",
       "      <td>0.0</td>\n",
       "      <td>0.0</td>\n",
       "      <td>0.0</td>\n",
       "      <td>0.0</td>\n",
       "      <td>0.0</td>\n",
       "      <td>0.0</td>\n",
       "      <td>1</td>\n",
       "      <td>MITM</td>\n",
       "    </tr>\n",
       "    <tr>\n",
       "      <th>...</th>\n",
       "      <td>...</td>\n",
       "      <td>...</td>\n",
       "      <td>...</td>\n",
       "      <td>...</td>\n",
       "      <td>...</td>\n",
       "      <td>...</td>\n",
       "      <td>...</td>\n",
       "      <td>...</td>\n",
       "      <td>...</td>\n",
       "      <td>...</td>\n",
       "      <td>...</td>\n",
       "      <td>...</td>\n",
       "      <td>...</td>\n",
       "      <td>...</td>\n",
       "      <td>...</td>\n",
       "      <td>...</td>\n",
       "      <td>...</td>\n",
       "      <td>...</td>\n",
       "      <td>...</td>\n",
       "      <td>...</td>\n",
       "      <td>...</td>\n",
       "    </tr>\n",
       "    <tr>\n",
       "      <th>157795</th>\n",
       "      <td>2021 23:24:32.698981000</td>\n",
       "      <td>193.152.82.43</td>\n",
       "      <td>192.168.0.128</td>\n",
       "      <td>0</td>\n",
       "      <td>0.0</td>\n",
       "      <td>0.0</td>\n",
       "      <td>0</td>\n",
       "      <td>48729.0</td>\n",
       "      <td>40690.0</td>\n",
       "      <td>0.0</td>\n",
       "      <td>...</td>\n",
       "      <td>0.0</td>\n",
       "      <td>0.0</td>\n",
       "      <td>0.0</td>\n",
       "      <td>0.0</td>\n",
       "      <td>0.0</td>\n",
       "      <td>0.0</td>\n",
       "      <td>0.0</td>\n",
       "      <td>0.0</td>\n",
       "      <td>1</td>\n",
       "      <td>DDoS_ICMP</td>\n",
       "    </tr>\n",
       "    <tr>\n",
       "      <th>157796</th>\n",
       "      <td>2021 23:24:32.699354000</td>\n",
       "      <td>253.52.1.213</td>\n",
       "      <td>192.168.0.128</td>\n",
       "      <td>0</td>\n",
       "      <td>0.0</td>\n",
       "      <td>0.0</td>\n",
       "      <td>0</td>\n",
       "      <td>45657.0</td>\n",
       "      <td>40702.0</td>\n",
       "      <td>0.0</td>\n",
       "      <td>...</td>\n",
       "      <td>0.0</td>\n",
       "      <td>0.0</td>\n",
       "      <td>0.0</td>\n",
       "      <td>0.0</td>\n",
       "      <td>0.0</td>\n",
       "      <td>0.0</td>\n",
       "      <td>0.0</td>\n",
       "      <td>0.0</td>\n",
       "      <td>1</td>\n",
       "      <td>DDoS_ICMP</td>\n",
       "    </tr>\n",
       "    <tr>\n",
       "      <th>157797</th>\n",
       "      <td>2021 23:24:32.719931000</td>\n",
       "      <td>107.155.221.49</td>\n",
       "      <td>192.168.0.128</td>\n",
       "      <td>0</td>\n",
       "      <td>0.0</td>\n",
       "      <td>0.0</td>\n",
       "      <td>0</td>\n",
       "      <td>57686.0</td>\n",
       "      <td>41423.0</td>\n",
       "      <td>0.0</td>\n",
       "      <td>...</td>\n",
       "      <td>0.0</td>\n",
       "      <td>0.0</td>\n",
       "      <td>0.0</td>\n",
       "      <td>0.0</td>\n",
       "      <td>0.0</td>\n",
       "      <td>0.0</td>\n",
       "      <td>0.0</td>\n",
       "      <td>0.0</td>\n",
       "      <td>1</td>\n",
       "      <td>DDoS_ICMP</td>\n",
       "    </tr>\n",
       "    <tr>\n",
       "      <th>157798</th>\n",
       "      <td>2021 23:24:32.752054000</td>\n",
       "      <td>77.242.58.228</td>\n",
       "      <td>192.168.0.128</td>\n",
       "      <td>0</td>\n",
       "      <td>0.0</td>\n",
       "      <td>0.0</td>\n",
       "      <td>0</td>\n",
       "      <td>9555.0</td>\n",
       "      <td>42379.0</td>\n",
       "      <td>0.0</td>\n",
       "      <td>...</td>\n",
       "      <td>0.0</td>\n",
       "      <td>0.0</td>\n",
       "      <td>0.0</td>\n",
       "      <td>0.0</td>\n",
       "      <td>0.0</td>\n",
       "      <td>0.0</td>\n",
       "      <td>0.0</td>\n",
       "      <td>0.0</td>\n",
       "      <td>1</td>\n",
       "      <td>DDoS_ICMP</td>\n",
       "    </tr>\n",
       "    <tr>\n",
       "      <th>157799</th>\n",
       "      <td>2021 23:24:32.780376000</td>\n",
       "      <td>149.40.90.151</td>\n",
       "      <td>192.168.0.128</td>\n",
       "      <td>0</td>\n",
       "      <td>0.0</td>\n",
       "      <td>0.0</td>\n",
       "      <td>0</td>\n",
       "      <td>35144.0</td>\n",
       "      <td>45095.0</td>\n",
       "      <td>0.0</td>\n",
       "      <td>...</td>\n",
       "      <td>0.0</td>\n",
       "      <td>0.0</td>\n",
       "      <td>0.0</td>\n",
       "      <td>0.0</td>\n",
       "      <td>0.0</td>\n",
       "      <td>0.0</td>\n",
       "      <td>0.0</td>\n",
       "      <td>0.0</td>\n",
       "      <td>1</td>\n",
       "      <td>DDoS_ICMP</td>\n",
       "    </tr>\n",
       "  </tbody>\n",
       "</table>\n",
       "<p>157800 rows × 63 columns</p>\n",
       "</div>"
      ],
      "text/plain": [
       "                       frame.time     ip.src_host    ip.dst_host  \\\n",
       "0                             6.0   192.168.0.152            0.0   \n",
       "1                             6.0   192.168.0.101            0.0   \n",
       "2                             6.0   192.168.0.152            0.0   \n",
       "3                             6.0   192.168.0.101            0.0   \n",
       "4                             6.0   192.168.0.152            0.0   \n",
       "...                           ...             ...            ...   \n",
       "157795   2021 23:24:32.698981000    193.152.82.43  192.168.0.128   \n",
       "157796   2021 23:24:32.699354000     253.52.1.213  192.168.0.128   \n",
       "157797   2021 23:24:32.719931000   107.155.221.49  192.168.0.128   \n",
       "157798   2021 23:24:32.752054000    77.242.58.228  192.168.0.128   \n",
       "157799   2021 23:24:32.780376000    149.40.90.151  192.168.0.128   \n",
       "\n",
       "       arp.dst.proto_ipv4  arp.opcode  arp.hw.size arp.src.proto_ipv4  \\\n",
       "0                     0.0         0.0          0.0                0.0   \n",
       "1                     0.0         0.0          0.0                0.0   \n",
       "2                     0.0         0.0          0.0                0.0   \n",
       "3                     0.0         0.0          0.0                0.0   \n",
       "4                     0.0         0.0          0.0                0.0   \n",
       "...                   ...         ...          ...                ...   \n",
       "157795                  0         0.0          0.0                  0   \n",
       "157796                  0         0.0          0.0                  0   \n",
       "157797                  0         0.0          0.0                  0   \n",
       "157798                  0         0.0          0.0                  0   \n",
       "157799                  0         0.0          0.0                  0   \n",
       "\n",
       "        icmp.checksum  icmp.seq_le  icmp.transmit_timestamp  ...  \\\n",
       "0                 0.0          0.0                      0.0  ...   \n",
       "1                 0.0          0.0                      0.0  ...   \n",
       "2                 0.0          0.0                      0.0  ...   \n",
       "3                 0.0          0.0                      0.0  ...   \n",
       "4                 0.0          0.0                      0.0  ...   \n",
       "...               ...          ...                      ...  ...   \n",
       "157795        48729.0      40690.0                      0.0  ...   \n",
       "157796        45657.0      40702.0                      0.0  ...   \n",
       "157797        57686.0      41423.0                      0.0  ...   \n",
       "157798         9555.0      42379.0                      0.0  ...   \n",
       "157799        35144.0      45095.0                      0.0  ...   \n",
       "\n",
       "        mqtt.proto_len mqtt.protoname  mqtt.topic mqtt.topic_len mqtt.ver  \\\n",
       "0                  0.0            0.0         0.0            0.0      0.0   \n",
       "1                  0.0            0.0         0.0            0.0      0.0   \n",
       "2                  0.0            0.0         0.0            0.0      0.0   \n",
       "3                  0.0            0.0         0.0            0.0      0.0   \n",
       "4                  0.0            0.0         0.0            0.0      0.0   \n",
       "...                ...            ...         ...            ...      ...   \n",
       "157795             0.0            0.0         0.0            0.0      0.0   \n",
       "157796             0.0            0.0         0.0            0.0      0.0   \n",
       "157797             0.0            0.0         0.0            0.0      0.0   \n",
       "157798             0.0            0.0         0.0            0.0      0.0   \n",
       "157799             0.0            0.0         0.0            0.0      0.0   \n",
       "\n",
       "       mbtcp.len mbtcp.trans_id mbtcp.unit_id  Attack_label  Attack_type  \n",
       "0            0.0            0.0           0.0             1         MITM  \n",
       "1            0.0            0.0           0.0             1         MITM  \n",
       "2            0.0            0.0           0.0             1         MITM  \n",
       "3            0.0            0.0           0.0             1         MITM  \n",
       "4            0.0            0.0           0.0             1         MITM  \n",
       "...          ...            ...           ...           ...          ...  \n",
       "157795       0.0            0.0           0.0             1    DDoS_ICMP  \n",
       "157796       0.0            0.0           0.0             1    DDoS_ICMP  \n",
       "157797       0.0            0.0           0.0             1    DDoS_ICMP  \n",
       "157798       0.0            0.0           0.0             1    DDoS_ICMP  \n",
       "157799       0.0            0.0           0.0             1    DDoS_ICMP  \n",
       "\n",
       "[157800 rows x 63 columns]"
      ]
     },
     "execution_count": 195,
     "metadata": {},
     "output_type": "execute_result"
    }
   ],
   "source": [
    "df10 = pd.read_csv('ML-EdgeIIoT-dataset.csv')\n",
    "df10"
   ]
  },
  {
   "cell_type": "code",
   "execution_count": 196,
   "id": "e1758f6e",
   "metadata": {},
   "outputs": [],
   "source": [
    "df10['frame.time'] = pd.to_datetime(df10['frame.time'], errors='coerce')"
   ]
  },
  {
   "cell_type": "code",
   "execution_count": 197,
   "id": "529eea65",
   "metadata": {},
   "outputs": [],
   "source": [
    "df10['hour'] = df10['frame.time'].dt.hour\n",
    "df10['day'] = df10['frame.time'].dt.day\n",
    "df10['month'] = df10['frame.time'].dt.month\n",
    "df10['year'] = df10['frame.time'].dt.year"
   ]
  },
  {
   "cell_type": "code",
   "execution_count": 198,
   "id": "0a0723ac",
   "metadata": {},
   "outputs": [],
   "source": [
    "df10.fillna(0, inplace=True)"
   ]
  },
  {
   "cell_type": "code",
   "execution_count": 199,
   "id": "8dd49a4f",
   "metadata": {},
   "outputs": [],
   "source": [
    "encoder = LabelEncoder()\n",
    "df10['Attack_label_encoded'] = encoder.fit_transform(df10['Attack_label'])"
   ]
  },
  {
   "cell_type": "code",
   "execution_count": 200,
   "id": "7f825be6",
   "metadata": {},
   "outputs": [],
   "source": [
    "X = df10[['hour', 'day', 'month', 'year']]\n",
    "y = df10['Attack_label_encoded']"
   ]
  },
  {
   "cell_type": "code",
   "execution_count": 201,
   "id": "bf322721",
   "metadata": {},
   "outputs": [],
   "source": [
    "scaler = StandardScaler()\n",
    "X_scaled = scaler.fit_transform(X)"
   ]
  },
  {
   "cell_type": "code",
   "execution_count": 202,
   "id": "c93b3845",
   "metadata": {},
   "outputs": [],
   "source": [
    "X_train, X_test, y_train, y_test = train_test_split(X_scaled, y, test_size=0.2, random_state=42)"
   ]
  },
  {
   "cell_type": "code",
   "execution_count": 203,
   "id": "58a074fb",
   "metadata": {},
   "outputs": [],
   "source": [
    "model = keras.Sequential([\n",
    "    layers.Dense(16, activation='relu', input_shape=(X_train.shape[1],)),\n",
    "    layers.Dense(16, activation='relu'),\n",
    "    layers.Dense(1, activation='sigmoid')\n",
    "])"
   ]
  },
  {
   "cell_type": "code",
   "execution_count": 204,
   "id": "f4526cee",
   "metadata": {},
   "outputs": [],
   "source": [
    "model.compile(optimizer='adam', loss='binary_crossentropy', metrics=['accuracy'])\n"
   ]
  },
  {
   "cell_type": "code",
   "execution_count": 206,
   "id": "c5352aa4",
   "metadata": {},
   "outputs": [
    {
     "name": "stdout",
     "output_type": "stream",
     "text": [
      "Epoch 1/10\n",
      "3156/3156 [==============================] - 11s 3ms/step - loss: 0.3193 - accuracy: 0.8706 - val_loss: 0.3167 - val_accuracy: 0.8717\n",
      "Epoch 2/10\n",
      "3156/3156 [==============================] - 11s 3ms/step - loss: 0.3192 - accuracy: 0.8706 - val_loss: 0.3173 - val_accuracy: 0.8717\n",
      "Epoch 3/10\n",
      "3156/3156 [==============================] - 10s 3ms/step - loss: 0.3194 - accuracy: 0.8706 - val_loss: 0.3179 - val_accuracy: 0.8717\n",
      "Epoch 4/10\n",
      "3156/3156 [==============================] - 11s 3ms/step - loss: 0.3192 - accuracy: 0.8706 - val_loss: 0.3170 - val_accuracy: 0.8717\n",
      "Epoch 5/10\n",
      "3156/3156 [==============================] - 10s 3ms/step - loss: 0.3192 - accuracy: 0.8706 - val_loss: 0.3179 - val_accuracy: 0.8717\n",
      "Epoch 6/10\n",
      "3156/3156 [==============================] - 10s 3ms/step - loss: 0.3192 - accuracy: 0.8706 - val_loss: 0.3166 - val_accuracy: 0.8717\n",
      "Epoch 7/10\n",
      "3156/3156 [==============================] - 10s 3ms/step - loss: 0.3191 - accuracy: 0.8705 - val_loss: 0.3176 - val_accuracy: 0.8717\n",
      "Epoch 8/10\n",
      "3156/3156 [==============================] - 10s 3ms/step - loss: 0.3192 - accuracy: 0.8706 - val_loss: 0.3168 - val_accuracy: 0.8717\n",
      "Epoch 9/10\n",
      "3156/3156 [==============================] - 10s 3ms/step - loss: 0.3191 - accuracy: 0.8705 - val_loss: 0.3177 - val_accuracy: 0.8717\n",
      "Epoch 10/10\n",
      "3156/3156 [==============================] - 10s 3ms/step - loss: 0.3192 - accuracy: 0.8706 - val_loss: 0.3170 - val_accuracy: 0.8717\n"
     ]
    }
   ],
   "source": [
    "history = model.fit(X_train, y_train, epochs=10, batch_size=32, validation_split=0.2)\n"
   ]
  },
  {
   "cell_type": "code",
   "execution_count": 207,
   "id": "31a66f2b",
   "metadata": {},
   "outputs": [
    {
     "name": "stdout",
     "output_type": "stream",
     "text": [
      "987/987 [==============================] - 2s 2ms/step\n"
     ]
    }
   ],
   "source": [
    "y_pred = model.predict(X_test)\n",
    "y_pred = (y_pred > 0.5).astype(int)\n"
   ]
  },
  {
   "cell_type": "code",
   "execution_count": 208,
   "id": "2103bba7",
   "metadata": {},
   "outputs": [
    {
     "name": "stdout",
     "output_type": "stream",
     "text": [
      "Confusion Matrix:\n",
      "[[  805  4180]\n",
      " [    0 26575]]\n",
      "Accuracy: 0.867553865652725\n",
      "F1-score: 0.9270887842316414\n",
      "Recall: 1.0\n",
      "Precision: 0.8640871403023899\n"
     ]
    }
   ],
   "source": [
    "cm = confusion_matrix(y_test, y_pred)\n",
    "print(\"Confusion Matrix:\")\n",
    "print(cm)\n",
    "\n",
    "accuracy = accuracy_score(y_test, y_pred)\n",
    "print(\"Accuracy:\", accuracy)\n",
    "\n",
    "f1 = f1_score(y_test, y_pred)\n",
    "print(\"F1-score:\", f1)\n",
    "\n",
    "recall = recall_score(y_test, y_pred)\n",
    "print(\"Recall:\", recall)\n",
    "\n",
    "\n",
    "precision = precision_score(y_test, y_pred)\n",
    "print(\"Precision:\", precision)"
   ]
  },
  {
   "cell_type": "code",
   "execution_count": 209,
   "id": "5db1b6a0",
   "metadata": {},
   "outputs": [],
   "source": [
    "fpr, tpr, thresholds = roc_curve(y_test, y_pred)\n",
    "roc_auc = auc(fpr, tpr)\n"
   ]
  },
  {
   "cell_type": "code",
   "execution_count": 214,
   "id": "6b51f029",
   "metadata": {},
   "outputs": [
    {
     "data": {
      "image/png": "[encoded data removed]",
      "text/plain": [
       "<Figure size 640x480 with 1 Axes>"
      ]
     },
     "metadata": {},
     "output_type": "display_data"
    }
   ],
   "source": [
    "plt.figure()\n",
    "plt.plot(fpr, tpr, color='darkorange', lw=2, label='ROC curve (area = %0.2f)' % roc_auc)\n",
    "plt.plot([0, 1], [0, 1], color='navy', lw=2, linestyle='--')\n",
    "plt.xlim([0.0, 1.0])\n",
    "plt.ylim([0.0, 1.05])\n",
    "plt.xlabel('False Positive Rate')\n",
    "plt.ylabel('True Positive Rate')\n",
    "plt.title('Receiver Operating Characteristic')\n",
    "plt.legend(loc=\"lower right\")\n",
    "plt.show()"
   ]
  },
  {
   "cell_type": "code",
   "execution_count": null,
   "id": "d24f3221",
   "metadata": {},
   "outputs": [],
   "source": []
  }
 ],
 "metadata": {
  "kernelspec": {
   "display_name": "Python 3 (ipykernel)",
   "language": "python",
   "name": "python3"
  },
  "language_info": {
   "codemirror_mode": {
    "name": "ipython",
    "version": 3
   },
   "file_extension": ".py",
   "mimetype": "text/x-python",
   "name": "python",
   "nbconvert_exporter": "python",
   "pygments_lexer": "ipython3",
   "version": "3.9.13"
  }
 },
 "nbformat": 4,
 "nbformat_minor": 5
}
